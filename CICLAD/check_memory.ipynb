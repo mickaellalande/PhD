{
 "cells": [
  {
   "cell_type": "code",
   "execution_count": 2,
   "metadata": {},
   "outputs": [
    {
     "name": "stdout",
     "output_type": "stream",
     "text": [
      "The autoreload extension is already loaded. To reload it, use:\n",
      "  %reload_ext autoreload\n",
      "3.8.2 | packaged by conda-forge | (default, Feb 28 2020, 17:15:22) \n",
      "[GCC 7.3.0]\n",
      "Virtual memory usage - total: 252 GB / available: 192 GB / percent used: 23.9 %\n"
     ]
    }
   ],
   "source": [
    "%load_ext autoreload\n",
    "%autoreload 2\n",
    "\n",
    "import sys\n",
    "sys.path.insert(1, '../') # to include my util file in previous directory\n",
    "import utils as u # my personal functions\n",
    "u.check_python_version()\n",
    "u.check_virtual_memory()"
   ]
  },
  {
   "cell_type": "code",
   "execution_count": 14,
   "metadata": {},
   "outputs": [
    {
     "name": "stdout",
     "output_type": "stream",
     "text": [
      "\r\n",
      "merlinvirt-c.climserv: \r\n",
      "                                                                                  Req'd    Req'd       Elap\r\n",
      "Job ID                  Username    Queue    Jobname          SessID  NDS   TSK   Memory   Time    S   Time\r\n",
      "----------------------- ----------- -------- ---------------- ------ ----- ------ ------ --------- - ---------\r\n",
      "5425326                 mlalande    std      STDIN             53908     1      2   18gb  06:00:00 R  02:03:20\r\n"
     ]
    }
   ],
   "source": [
    "!qstat -u mlalande"
   ]
  },
  {
   "cell_type": "code",
   "execution_count": 4,
   "metadata": {},
   "outputs": [
    {
     "name": "stdout",
     "output_type": "stream",
     "text": [
      "5425326\r\n"
     ]
    }
   ],
   "source": [
    "!qstat -u mlalande | tail -1 | awk '{print $1;}'"
   ]
  },
  {
   "cell_type": "code",
   "execution_count": 5,
   "metadata": {},
   "outputs": [],
   "source": [
    "def show_mem():\n",
    "    # Show the maximum memory and virtual memory used\n",
    "    job = !qstat -u mlalande | tail -1 | awk '{print $1;}'\n",
    "    \n",
    "    # Memory used\n",
    "    mem = !qstat -f {job[0]} | grep resources_used.mem\n",
    "    mem = mem[0].split(' ')[-1]\n",
    "    mem = u.get_human_readable_size(int(mem[:-2] + '000'))\n",
    "    \n",
    "    # Memory max available\n",
    "    mem_max = !qstat -f {job[0]} | grep Resource_List.mem\n",
    "    mem_max = mem_max[0].split(' ')[-1]\n",
    "    \n",
    "    # Virtual Memory used\n",
    "    vmem = !qstat -f {job[0]} | grep resources_used.vmem\n",
    "    vmem = vmem[0].split(' ')[-1]\n",
    "    vmem = u.get_human_readable_size(int(vmem[:-2] + '000'))\n",
    "    \n",
    "    # Virtual Memory available\n",
    "    vmem_max = !qstat -f {job[0]} | grep Resource_List.mem\n",
    "    vmem_max = vmem_max[0].split(' ')[-1]\n",
    "\n",
    "    print('mem = ' + mem + ' / '+mem_max+'\\nvmem = ' + vmem + ' / '+vmem_max)"
   ]
  },
  {
   "cell_type": "code",
   "execution_count": 13,
   "metadata": {},
   "outputs": [
    {
     "name": "stdout",
     "output_type": "stream",
     "text": [
      "mem = 1 GB / 18gb\n",
      "vmem = 6 GB / 18gb\n"
     ]
    }
   ],
   "source": [
    "show_mem()"
   ]
  },
  {
   "cell_type": "code",
   "execution_count": null,
   "metadata": {},
   "outputs": [],
   "source": []
  },
  {
   "cell_type": "code",
   "execution_count": null,
   "metadata": {},
   "outputs": [],
   "source": []
  },
  {
   "cell_type": "code",
   "execution_count": null,
   "metadata": {},
   "outputs": [],
   "source": []
  },
  {
   "cell_type": "markdown",
   "metadata": {},
   "source": [
    "# Hand version"
   ]
  },
  {
   "cell_type": "code",
   "execution_count": 128,
   "metadata": {},
   "outputs": [],
   "source": [
    "job = 5325385"
   ]
  },
  {
   "cell_type": "code",
   "execution_count": 14,
   "metadata": {},
   "outputs": [
    {
     "name": "stdout",
     "output_type": "stream",
     "text": [
      "qstat: Unknown queue destination {job}\r\n"
     ]
    }
   ],
   "source": [
    "!qstat -f {job}"
   ]
  },
  {
   "cell_type": "code",
   "execution_count": 5,
   "metadata": {},
   "outputs": [
    {
     "name": "stdout",
     "output_type": "stream",
     "text": [
      "    resources_used.mem = 749768kb\r\n",
      "    resources_used.vmem = 4052556kb\r\n",
      "    Resource_List.mem = 18gb\r\n",
      "    Resource_List.vmem = 18gb\r\n",
      "    submit_args = -IVX -l mem=18g,vmem=18g,walltime=06:00:00,nodes=1:ppn=2\r\n"
     ]
    }
   ],
   "source": [
    "!qstat -f 5325385 | grep mem"
   ]
  },
  {
   "cell_type": "code",
   "execution_count": 6,
   "metadata": {},
   "outputs": [
    {
     "data": {
      "text/plain": [
       "'3 GB'"
      ]
     },
     "execution_count": 6,
     "metadata": {},
     "output_type": "execute_result"
    }
   ],
   "source": [
    "vmem_string = '4052556kb'\n",
    "u.get_human_readable_size(int(vmem_string[:-2] + '000'))"
   ]
  }
 ],
 "metadata": {
  "kernelspec": {
   "display_name": "Python [conda env:work]",
   "language": "python",
   "name": "conda-env-work-py"
  },
  "language_info": {
   "codemirror_mode": {
    "name": "ipython",
    "version": 3
   },
   "file_extension": ".py",
   "mimetype": "text/x-python",
   "name": "python",
   "nbconvert_exporter": "python",
   "pygments_lexer": "ipython3",
   "version": "3.8.2"
  }
 },
 "nbformat": 4,
 "nbformat_minor": 2
}
