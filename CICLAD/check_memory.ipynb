{
 "cells": [
  {
   "cell_type": "code",
   "execution_count": 1,
   "metadata": {},
   "outputs": [
    {
     "name": "stdout",
     "output_type": "stream",
     "text": [
      "3.8.5 | packaged by conda-forge | (default, Jul 24 2020, 01:25:15) \n",
      "[GCC 7.5.0]\n",
      "Virtual memory usage - total: 126 GB / available: 104 GB / percent used: 17.0 %\n"
     ]
    }
   ],
   "source": [
    "%load_ext autoreload\n",
    "%autoreload 2\n",
    "\n",
    "import sys\n",
    "sys.path.insert(1, '../') # to include my util file in previous directory\n",
    "import utils as u # my personal functions\n",
    "u.check_python_version()\n",
    "u.check_virtual_memory()"
   ]
  },
  {
   "cell_type": "code",
   "execution_count": 2,
   "metadata": {},
   "outputs": [
    {
     "name": "stdout",
     "output_type": "stream",
     "text": [
      "\n",
      "cicladpbs6.private.ipsl.fr: \n",
      "                                                                                  Req'd    Req'd       Elap\n",
      "Job ID                  Username    Queue    Jobname          SessID  NDS   TSK   Memory   Time    S   Time\n",
      "----------------------- ----------- -------- ---------------- ------ ----- ------ ------ --------- - ---------\n",
      "232623                  mlalande    std      STDIN             38287     1      4   16gb  04:00:00 R  00:01:55\n"
     ]
    }
   ],
   "source": [
    "!qstat -u mlalande"
   ]
  },
  {
   "cell_type": "code",
   "execution_count": 3,
   "metadata": {},
   "outputs": [
    {
     "name": "stdout",
     "output_type": "stream",
     "text": [
      "232623\n"
     ]
    }
   ],
   "source": [
    "!qstat -u mlalande | tail -1 | awk '{print $1;}'"
   ]
  },
  {
   "cell_type": "code",
   "execution_count": 4,
   "metadata": {},
   "outputs": [],
   "source": [
    "def show_mem():\n",
    "    # Show the maximum memory and virtual memory used\n",
    "    job = !qstat -u mlalande | tail -1 | awk '{print $1;}'\n",
    "    \n",
    "    # Memory used\n",
    "    mem = !qstat -f {job[0]} | grep resources_used.mem\n",
    "    mem = mem[0].split(' ')[-1]\n",
    "    mem = u.get_human_readable_size(int(mem[:-2] + '000'))\n",
    "    \n",
    "    # Memory max available\n",
    "    mem_max = !qstat -f {job[0]} | grep Resource_List.mem\n",
    "    mem_max = mem_max[0].split(' ')[-1]\n",
    "    \n",
    "    # Virtual Memory used\n",
    "    vmem = !qstat -f {job[0]} | grep resources_used.vmem\n",
    "    vmem = vmem[0].split(' ')[-1]\n",
    "    vmem = u.get_human_readable_size(int(vmem[:-2] + '000'))\n",
    "    \n",
    "    # Virtual Memory available\n",
    "    vmem_max = !qstat -f {job[0]} | grep Resource_List.mem\n",
    "    vmem_max = vmem_max[0].split(' ')[-1]\n",
    "\n",
    "    print('mem = ' + mem + ' / '+mem_max+'\\nvmem = ' + vmem + ' / '+vmem_max)"
   ]
  },
  {
   "cell_type": "code",
   "execution_count": 6,
   "metadata": {},
   "outputs": [
    {
     "name": "stdout",
     "output_type": "stream",
     "text": [
      "mem = 419 MB / 16gb\n",
      "vmem = 2 GB / 16gb\n"
     ]
    }
   ],
   "source": [
    "show_mem()"
   ]
  },
  {
   "cell_type": "code",
   "execution_count": null,
   "metadata": {},
   "outputs": [],
   "source": []
  },
  {
   "cell_type": "code",
   "execution_count": null,
   "metadata": {},
   "outputs": [],
   "source": []
  },
  {
   "cell_type": "code",
   "execution_count": null,
   "metadata": {},
   "outputs": [],
   "source": []
  },
  {
   "cell_type": "markdown",
   "metadata": {},
   "source": [
    "# Hand version"
   ]
  },
  {
   "cell_type": "code",
   "execution_count": 128,
   "metadata": {},
   "outputs": [],
   "source": [
    "job = 5325385"
   ]
  },
  {
   "cell_type": "code",
   "execution_count": 14,
   "metadata": {},
   "outputs": [
    {
     "name": "stdout",
     "output_type": "stream",
     "text": [
      "qstat: Unknown queue destination {job}\n"
     ]
    }
   ],
   "source": [
    "!qstat -f {job}"
   ]
  },
  {
   "cell_type": "code",
   "execution_count": 5,
   "metadata": {},
   "outputs": [
    {
     "name": "stdout",
     "output_type": "stream",
     "text": [
      "    resources_used.mem = 749768kb\n",
      "    resources_used.vmem = 4052556kb\n",
      "    Resource_List.mem = 18gb\n",
      "    Resource_List.vmem = 18gb\n",
      "    submit_args = -IVX -l mem=18g,vmem=18g,walltime=06:00:00,nodes=1:ppn=2\n"
     ]
    }
   ],
   "source": [
    "!qstat -f 5325385 | grep mem"
   ]
  },
  {
   "cell_type": "code",
   "execution_count": 6,
   "metadata": {},
   "outputs": [
    {
     "data": {
      "text/plain": [
       "'3 GB'"
      ]
     },
     "execution_count": 6,
     "metadata": {},
     "output_type": "execute_result"
    }
   ],
   "source": [
    "vmem_string = '4052556kb'\n",
    "u.get_human_readable_size(int(vmem_string[:-2] + '000'))"
   ]
  }
 ],
 "metadata": {
  "kernelspec": {
   "display_name": "Python [conda env:phd_v3] *",
   "language": "python",
   "name": "conda-env-phd_v3-py"
  },
  "language_info": {
   "codemirror_mode": {
    "name": "ipython",
    "version": 3
   },
   "file_extension": ".py",
   "mimetype": "text/x-python",
   "name": "python",
   "nbconvert_exporter": "python",
   "pygments_lexer": "ipython3",
   "version": "3.8.5"
  }
 },
 "nbformat": 4,
 "nbformat_minor": 4
}
