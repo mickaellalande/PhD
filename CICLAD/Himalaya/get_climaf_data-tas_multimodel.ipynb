{
 "cells": [
  {
   "cell_type": "code",
   "execution_count": 1,
   "metadata": {},
   "outputs": [
    {
     "name": "stdout",
     "output_type": "stream",
     "text": [
      "('LC debug :', False)\n",
      "CliMAF install => /ciclad-home/jservon/Evaluation/CliMAF/climaf_installs/climaf_1.2.12\n",
      "python => /prodigfs/ipslfs/dods/jservon/miniconda/envs/analyse_env_2.7/bin/python\n",
      "---\n",
      "Required softwares to run CliMAF => you are using the following versions/installations:\n"
     ]
    },
    {
     "name": "stderr",
     "output_type": "stream",
     "text": [
      "CliMAF version = 1.2.12\n"
     ]
    },
    {
     "name": "stdout",
     "output_type": "stream",
     "text": [
      "ncl 6.6.2 => /prodigfs/ipslfs/dods/jservon/miniconda/envs/analyse_env_2.7/bin/ncl\n",
      "cdo 1.9.6 => /opt/nco/1.9/bin/cdo\n",
      "nco (ncks) 4.5.2 => /opt/nco-4.5.2/bin/ncks\n",
      "ncdump fichier => /prodigfs/ipslfs/dods/jservon/miniconda/envs/analyse_env_2.7/bin/ncdump\n",
      "---\n"
     ]
    },
    {
     "name": "stderr",
     "output_type": "stream",
     "text": [
      "Cache directory set to : /data/mlalande/climafcache (use $CLIMAF_CACHE if set) \n",
      "Cache directory for remote data set to : /data/mlalande/climafcache/remote_data (use $CLIMAF_REMOTE_CACHE if set) \n",
      "warning  : Binary cdftools not found. Some operators won't work\n",
      "Available macros read from ~/.climaf.macros are : []\n"
     ]
    }
   ],
   "source": [
    "from climaf.api import *"
   ]
  },
  {
   "cell_type": "markdown",
   "metadata": {},
   "source": [
    "## CMIP6 Data Request\n",
    "http://clipc-services.ceda.ac.uk/dreq/index/miptable.html"
   ]
  },
  {
   "cell_type": "code",
   "execution_count": 2,
   "metadata": {},
   "outputs": [],
   "source": [
    "variable='tas'\n",
    "\n",
    "if variable in ['snc']: table = 'LImon'\n",
    "if variable in ['prsn', 'ua', 'va', 'ta', 'tas']: table = 'Amon'\n",
    "\n",
    "req = ds(\n",
    "    project='CMIP6', \n",
    "    model='*', \n",
    "    table=table,\n",
    "    variable=variable,    \n",
    "    frequency='monthly',\n",
    "    realization='r1i1p1f1',\n",
    "    period='1981-2014',\n",
    "    experiment='historical',\n",
    "#     experiment='amip',\n",
    "#     experiment='land-hist',\n",
    "#     experiment='HighResMIP',\n",
    "#     domain=[25,90,-180,180]\n",
    ")"
   ]
  },
  {
   "cell_type": "code",
   "execution_count": 3,
   "metadata": {},
   "outputs": [
    {
     "data": {
      "text/plain": [
       "{'grid': ['gn', 'gr', 'gr1'],\n",
       " 'institute': ['AWI',\n",
       "  'BCC',\n",
       "  'CAMS',\n",
       "  'CAS',\n",
       "  'CCCma',\n",
       "  'E3SM-Project',\n",
       "  'EC-Earth-Consortium',\n",
       "  'FIO-QLNM',\n",
       "  'INM',\n",
       "  'IPSL',\n",
       "  'MIROC',\n",
       "  'MPI-M',\n",
       "  'MRI',\n",
       "  'NASA-GISS',\n",
       "  'NCAR',\n",
       "  'NCC',\n",
       "  'NOAA-GFDL',\n",
       "  'NUIST',\n",
       "  'SNU',\n",
       "  'UA'],\n",
       " 'mip': 'CMIP',\n",
       " 'model': ['AWI-CM-1-1-MR',\n",
       "  'BCC-CSM2-MR',\n",
       "  'BCC-ESM1',\n",
       "  'CAMS-CSM1-0',\n",
       "  'CESM2',\n",
       "  'CESM2-FV2',\n",
       "  'CESM2-WACCM',\n",
       "  'CESM2-WACCM-FV2',\n",
       "  'CanESM5',\n",
       "  'E3SM-1-0',\n",
       "  'E3SM-1-1',\n",
       "  'E3SM-1-1-ECA',\n",
       "  'EC-Earth3-Veg',\n",
       "  'FGOALS-f3-L',\n",
       "  'FGOALS-g3',\n",
       "  'FIO-ESM-2-0',\n",
       "  'GFDL-CM4',\n",
       "  'GFDL-ESM4',\n",
       "  'GISS-E2-1-G',\n",
       "  'GISS-E2-1-G-CC',\n",
       "  'GISS-E2-1-H',\n",
       "  'INM-CM4-8',\n",
       "  'INM-CM5-0',\n",
       "  'IPSL-CM6A-LR',\n",
       "  'MCM-UA-1-0',\n",
       "  'MIROC6',\n",
       "  'MPI-ESM1-2-HR',\n",
       "  'MPI-ESM1-2-LR',\n",
       "  'MRI-ESM2-0',\n",
       "  'NESM3',\n",
       "  'NorCPM1',\n",
       "  'NorESM2-LM',\n",
       "  'NorESM2-MM',\n",
       "  'SAM0-UNICON']}"
      ]
     },
     "execution_count": 3,
     "metadata": {},
     "output_type": "execute_result"
    }
   ],
   "source": [
    "req.explore('choices')"
   ]
  }
 ],
 "metadata": {
  "kernelspec": {
   "display_name": "Python 2",
   "language": "python",
   "name": "python2"
  },
  "language_info": {
   "codemirror_mode": {
    "name": "ipython",
    "version": 2
   },
   "file_extension": ".py",
   "mimetype": "text/x-python",
   "name": "python",
   "nbconvert_exporter": "python",
   "pygments_lexer": "ipython2",
   "version": "2.7.15"
  }
 },
 "nbformat": 4,
 "nbformat_minor": 2
}
