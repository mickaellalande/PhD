{
 "cells": [
  {
   "cell_type": "code",
   "execution_count": 1,
   "metadata": {},
   "outputs": [
    {
     "name": "stdout",
     "output_type": "stream",
     "text": [
      "3.8.2 | packaged by conda-forge | (default, Feb 28 2020, 17:15:22) \n",
      "[GCC 7.3.0]\n",
      "Virtual memory usage - total: 252 GB / available: 217 GB / percent used: 13.8 %\n"
     ]
    }
   ],
   "source": [
    "# To reload external files automatically (ex: utils)\n",
    "%load_ext autoreload\n",
    "%autoreload 2\n",
    "\n",
    "import xarray as xr\n",
    "import pandas as pd\n",
    "import numpy as np\n",
    "import matplotlib.pyplot as plt\n",
    "from matplotlib.patches import Rectangle # For rectangles\n",
    "import proplot as plot # New plot library (https://proplot.readthedocs.io/en/latest/)\n",
    "from scipy import stats # For linregress (trends)\n",
    "import xesmf as xe # For regridding (https://xesmf.readthedocs.io/en/latest/)\n",
    "\n",
    "import sys\n",
    "sys.path.insert(1, '/home/mlalande/notebooks') # to include my util file in previous directory\n",
    "import utils as u # my personal functions\n",
    "u.check_python_version()\n",
    "u.check_virtual_memory()"
   ]
  },
  {
   "cell_type": "markdown",
   "metadata": {},
   "source": [
    "# Check model data"
   ]
  },
  {
   "cell_type": "code",
   "execution_count": 2,
   "metadata": {},
   "outputs": [],
   "source": [
    "var = 'frac_snow'\n",
    "folder = 'SRF'\n",
    "\n",
    "# Define zone\n",
    "latlim=(10,50)\n",
    "lonlim=(60,110)\n",
    "\n",
    "label = 'Snow cover extent'\n",
    "units = '%'\n",
    "cmap='viridis'\n",
    "levels=plot.arange(0,100,10)\n",
    "\n",
    "root = '/data/mlalande/gpfsstore/rech/goe/ufz23bm/IGCM_OUT/LMDZOR/PROD/clim'"
   ]
  },
  {
   "cell_type": "markdown",
   "metadata": {},
   "source": [
    "## Define period"
   ]
  },
  {
   "cell_type": "code",
   "execution_count": 4,
   "metadata": {},
   "outputs": [
    {
     "data": {
      "text/plain": [
       "'/data/mlalande/gpfsstore/rech/goe/ufz23bm/IGCM_OUT/LMDZOR/PROD/clim/clim-relief-def-NMC/SRF/Analyse/TS_MO'"
      ]
     },
     "execution_count": 4,
     "metadata": {},
     "output_type": "execute_result"
    }
   ],
   "source": [
    "path_1"
   ]
  },
  {
   "cell_type": "code",
   "execution_count": 3,
   "metadata": {},
   "outputs": [
    {
     "ename": "OSError",
     "evalue": "no files to open",
     "output_type": "error",
     "traceback": [
      "\u001b[0;31m---------------------------------------------------------------------------\u001b[0m",
      "\u001b[0;31mOSError\u001b[0m                                   Traceback (most recent call last)",
      "\u001b[0;32m<ipython-input-3-f0a98687ef29>\u001b[0m in \u001b[0;36m<module>\u001b[0;34m\u001b[0m\n\u001b[1;32m      1\u001b[0m \u001b[0mpath_1\u001b[0m \u001b[0;34m=\u001b[0m \u001b[0mroot\u001b[0m\u001b[0;34m+\u001b[0m\u001b[0;34m'/clim-relief-def-NMC/'\u001b[0m\u001b[0;34m+\u001b[0m\u001b[0mfolder\u001b[0m\u001b[0;34m+\u001b[0m\u001b[0;34m'/Analyse/TS_MO'\u001b[0m\u001b[0;34m\u001b[0m\u001b[0;34m\u001b[0m\u001b[0m\n\u001b[0;32m----> 2\u001b[0;31m \u001b[0mxr\u001b[0m\u001b[0;34m.\u001b[0m\u001b[0mopen_mfdataset\u001b[0m\u001b[0;34m(\u001b[0m\u001b[0mpath_1\u001b[0m\u001b[0;34m+\u001b[0m\u001b[0;34m'/*'\u001b[0m\u001b[0;34m+\u001b[0m\u001b[0mvar\u001b[0m\u001b[0;34m+\u001b[0m\u001b[0;34m'.nc'\u001b[0m\u001b[0;34m,\u001b[0m \u001b[0mcombine\u001b[0m\u001b[0;34m=\u001b[0m\u001b[0;34m'by_coords'\u001b[0m\u001b[0;34m)\u001b[0m\u001b[0;34m.\u001b[0m\u001b[0mtime_counter\u001b[0m\u001b[0;34m.\u001b[0m\u001b[0mcoords\u001b[0m\u001b[0;34m\u001b[0m\u001b[0;34m\u001b[0m\u001b[0m\n\u001b[0m",
      "\u001b[0;32m/data/mlalande/miniconda3/envs/work/lib/python3.8/site-packages/xarray/backends/api.py\u001b[0m in \u001b[0;36mopen_mfdataset\u001b[0;34m(paths, chunks, concat_dim, compat, preprocess, engine, lock, data_vars, coords, combine, autoclose, parallel, join, attrs_file, **kwargs)\u001b[0m\n\u001b[1;32m    876\u001b[0m \u001b[0;34m\u001b[0m\u001b[0m\n\u001b[1;32m    877\u001b[0m     \u001b[0;32mif\u001b[0m \u001b[0;32mnot\u001b[0m \u001b[0mpaths\u001b[0m\u001b[0;34m:\u001b[0m\u001b[0;34m\u001b[0m\u001b[0;34m\u001b[0m\u001b[0m\n\u001b[0;32m--> 878\u001b[0;31m         \u001b[0;32mraise\u001b[0m \u001b[0mOSError\u001b[0m\u001b[0;34m(\u001b[0m\u001b[0;34m\"no files to open\"\u001b[0m\u001b[0;34m)\u001b[0m\u001b[0;34m\u001b[0m\u001b[0;34m\u001b[0m\u001b[0m\n\u001b[0m\u001b[1;32m    879\u001b[0m \u001b[0;34m\u001b[0m\u001b[0m\n\u001b[1;32m    880\u001b[0m     \u001b[0;31m# If combine='by_coords' then this is unnecessary, but quick.\u001b[0m\u001b[0;34m\u001b[0m\u001b[0;34m\u001b[0m\u001b[0;34m\u001b[0m\u001b[0m\n",
      "\u001b[0;31mOSError\u001b[0m: no files to open"
     ]
    }
   ],
   "source": [
    "path_1 = root+'/clim-relief-def-NMC/'+folder+'/Analyse/TS_MO'\n",
    "xr.open_mfdataset(path_1+'/*'+var+'.nc', combine='by_coords').time_counter.coords"
   ]
  },
  {
   "cell_type": "code",
   "execution_count": 12,
   "metadata": {},
   "outputs": [],
   "source": [
    "# Here the time doesn't make so much sense because the simulation are clim\n",
    "period = slice('1980','1989')"
   ]
  },
  {
   "cell_type": "markdown",
   "metadata": {},
   "source": [
    "## Load climatologies"
   ]
  },
  {
   "cell_type": "code",
   "execution_count": 29,
   "metadata": {},
   "outputs": [
    {
     "data": {
      "text/html": [
       "<pre>&lt;xarray.DataArray &#x27;t2m&#x27; (lat: 143, lon: 144)&gt;\n",
       "array([[-18.114182, -18.114182, -18.114182, ..., -18.114182, -18.114182,\n",
       "        -18.114182],\n",
       "       [-17.24353 , -17.26361 , -17.276596, ..., -17.198395, -17.201462,\n",
       "        -17.227234],\n",
       "       [-17.255142, -17.293243, -17.308533, ..., -17.187073, -17.194397,\n",
       "        -17.225449],\n",
       "       ...,\n",
       "       [-46.210754, -45.98842 , -45.89975 , ..., -45.300613, -45.07788 ,\n",
       "        -45.32646 ],\n",
       "       [-51.03302 , -50.251633, -50.132767, ..., -52.67964 , -52.30861 ,\n",
       "        -51.432358],\n",
       "       [-51.607513, -51.607513, -51.607513, ..., -51.607513, -51.607513,\n",
       "        -51.607513]], dtype=float32)\n",
       "Coordinates:\n",
       "  * lat      (lat) float32 90.0 88.73239 87.46479 ... -87.46479 -88.73239 -90.0\n",
       "  * lon      (lon) float32 -180.0 -177.5 -175.0 -172.5 ... 172.5 175.0 177.5</pre>"
      ],
      "text/plain": [
       "<xarray.DataArray 't2m' (lat: 143, lon: 144)>\n",
       "array([[-18.114182, -18.114182, -18.114182, ..., -18.114182, -18.114182,\n",
       "        -18.114182],\n",
       "       [-17.24353 , -17.26361 , -17.276596, ..., -17.198395, -17.201462,\n",
       "        -17.227234],\n",
       "       [-17.255142, -17.293243, -17.308533, ..., -17.187073, -17.194397,\n",
       "        -17.225449],\n",
       "       ...,\n",
       "       [-46.210754, -45.98842 , -45.89975 , ..., -45.300613, -45.07788 ,\n",
       "        -45.32646 ],\n",
       "       [-51.03302 , -50.251633, -50.132767, ..., -52.67964 , -52.30861 ,\n",
       "        -51.432358],\n",
       "       [-51.607513, -51.607513, -51.607513, ..., -51.607513, -51.607513,\n",
       "        -51.607513]], dtype=float32)\n",
       "Coordinates:\n",
       "  * lat      (lat) float32 90.0 88.73239 87.46479 ... -87.46479 -88.73239 -90.0\n",
       "  * lon      (lon) float32 -180.0 -177.5 -175.0 -172.5 ... 172.5 175.0 177.5"
      ]
     },
     "execution_count": 29,
     "metadata": {},
     "output_type": "execute_result"
    }
   ],
   "source": [
    "title_1 = 'Default'\n",
    "path_1 = root+'/clim-relief-def-NMC/'+folder+'/Analyse/TS_MO'\n",
    "model_1_clim = xr.open_mfdataset(path_1+'/*'+var+'.nc', combine='by_coords')[var].mean('time_counter') - 273.15\n",
    "model_1_clim.load()"
   ]
  },
  {
   "cell_type": "code",
   "execution_count": 30,
   "metadata": {},
   "outputs": [
    {
     "data": {
      "text/html": [
       "<pre>&lt;xarray.DataArray &#x27;t2m&#x27; (lat: 143, lon: 144)&gt;\n",
       "array([[-18.00238 , -18.00238 , -18.00238 , ..., -18.00238 , -18.00238 ,\n",
       "        -18.00238 ],\n",
       "       [-17.060059, -17.100464, -17.09143 , ..., -17.032532, -17.024872,\n",
       "        -17.055695],\n",
       "       [-17.005554, -17.0177  , -17.049866, ..., -16.93811 , -16.947998,\n",
       "        -16.972778],\n",
       "       ...,\n",
       "       [-46.111282, -45.93849 , -45.869568, ..., -45.31392 , -45.765182,\n",
       "        -46.122025],\n",
       "       [-51.47676 , -49.69893 , -50.082703, ..., -51.03917 , -51.835403,\n",
       "        -50.916443],\n",
       "       [-51.629257, -51.629257, -51.629257, ..., -51.629257, -51.629257,\n",
       "        -51.629257]], dtype=float32)\n",
       "Coordinates:\n",
       "  * lat      (lat) float32 90.0 88.73239 87.46479 ... -87.46479 -88.73239 -90.0\n",
       "  * lon      (lon) float32 -180.0 -177.5 -175.0 -172.5 ... 172.5 175.0 177.5</pre>"
      ],
      "text/plain": [
       "<xarray.DataArray 't2m' (lat: 143, lon: 144)>\n",
       "array([[-18.00238 , -18.00238 , -18.00238 , ..., -18.00238 , -18.00238 ,\n",
       "        -18.00238 ],\n",
       "       [-17.060059, -17.100464, -17.09143 , ..., -17.032532, -17.024872,\n",
       "        -17.055695],\n",
       "       [-17.005554, -17.0177  , -17.049866, ..., -16.93811 , -16.947998,\n",
       "        -16.972778],\n",
       "       ...,\n",
       "       [-46.111282, -45.93849 , -45.869568, ..., -45.31392 , -45.765182,\n",
       "        -46.122025],\n",
       "       [-51.47676 , -49.69893 , -50.082703, ..., -51.03917 , -51.835403,\n",
       "        -50.916443],\n",
       "       [-51.629257, -51.629257, -51.629257, ..., -51.629257, -51.629257,\n",
       "        -51.629257]], dtype=float32)\n",
       "Coordinates:\n",
       "  * lat      (lat) float32 90.0 88.73239 87.46479 ... -87.46479 -88.73239 -90.0\n",
       "  * lon      (lon) float32 -180.0 -177.5 -175.0 -172.5 ... 172.5 175.0 177.5"
      ]
     },
     "execution_count": 30,
     "metadata": {},
     "output_type": "execute_result"
    }
   ],
   "source": [
    "title_2 = 'GMTED2010-00625deg'\n",
    "path_2 = root+'/clim-relief-GMTED2010-00625deg-NMC/'+folder+'/Analyse/TS_MO'\n",
    "model_2_clim = xr.open_mfdataset(path_2+'/*'+var+'.nc', combine='by_coords')[var].mean('time_counter') - 273.15\n",
    "model_2_clim.load()"
   ]
  },
  {
   "cell_type": "markdown",
   "metadata": {},
   "source": [
    "# Load obs\n",
    "## cru_ts4.00\n",
    "More recent version available: https://crudata.uea.ac.uk/cru/data/hrg/  \n",
    "-> pas évident à télécharger encore... les netCDF ne sont pas reconnus directement, je vais rester du coup sur la version 4.00 sur CICLAD\n",
    "\n",
    "See: http://localhost:7227/notebooks/notebooks/CICLAD/Himalaya/CMIP6_IPSL_bias/Temperature.ipynb"
   ]
  },
  {
   "cell_type": "code",
   "execution_count": 27,
   "metadata": {},
   "outputs": [
    {
     "data": {
      "text/html": [
       "<pre>&lt;xarray.DataArray (lat: 360, lon: 720)&gt;\n",
       "array([[nan, nan, nan, ..., nan, nan, nan],\n",
       "       [nan, nan, nan, ..., nan, nan, nan],\n",
       "       [nan, nan, nan, ..., nan, nan, nan],\n",
       "       ...,\n",
       "       [nan, nan, nan, ..., nan, nan, nan],\n",
       "       [nan, nan, nan, ..., nan, nan, nan],\n",
       "       [nan, nan, nan, ..., nan, nan, nan]])\n",
       "Coordinates:\n",
       "  * lon      (lon) float32 -179.75 -179.25 -178.75 ... 178.75 179.25 179.75\n",
       "  * lat      (lat) float32 -89.75 -89.25 -88.75 -88.25 ... 88.75 89.25 89.75\n",
       "Attributes:\n",
       "    long_name:                   near-surface temperature\n",
       "    units:                       degrees Celsius\n",
       "    correlation_decay_distance:  1200.0</pre>"
      ],
      "text/plain": [
       "<xarray.DataArray (lat: 360, lon: 720)>\n",
       "array([[nan, nan, nan, ..., nan, nan, nan],\n",
       "       [nan, nan, nan, ..., nan, nan, nan],\n",
       "       [nan, nan, nan, ..., nan, nan, nan],\n",
       "       ...,\n",
       "       [nan, nan, nan, ..., nan, nan, nan],\n",
       "       [nan, nan, nan, ..., nan, nan, nan],\n",
       "       [nan, nan, nan, ..., nan, nan, nan]])\n",
       "Coordinates:\n",
       "  * lon      (lon) float32 -179.75 -179.25 -178.75 ... 178.75 179.25 179.75\n",
       "  * lat      (lat) float32 -89.75 -89.25 -88.75 -88.25 ... 88.75 89.25 89.75\n",
       "Attributes:\n",
       "    long_name:                   near-surface temperature\n",
       "    units:                       degrees Celsius\n",
       "    correlation_decay_distance:  1200.0"
      ]
     },
     "execution_count": 27,
     "metadata": {},
     "output_type": "execute_result"
    }
   ],
   "source": [
    "obs_longname = 'CRU TS v. 4.00'\n",
    "obs_name = 'CRU'\n",
    "\n",
    "obs = xr.open_dataset('/bdd/cru/cru_ts_4.00/data/tmp/cru_ts4.00.1901.2015.tmp.dat.nc').sel(time=period).tmp\n",
    "obs_clim = u.clim(obs, calendar=obs.time.encoding['calendar'])\n",
    "obs_clim.load()"
   ]
  },
  {
   "cell_type": "markdown",
   "metadata": {},
   "source": [
    "### Regrid using xESMF (https://xesmf.readthedocs.io/en/latest/) "
   ]
  },
  {
   "cell_type": "code",
   "execution_count": 28,
   "metadata": {},
   "outputs": [
    {
     "name": "stdout",
     "output_type": "stream",
     "text": [
      "Reuse existing file: bilinear_360x720_143x144_peri.nc\n"
     ]
    }
   ],
   "source": [
    "regridder_obs = xe.Regridder(obs_clim, model_1_clim, 'bilinear', periodic=True, reuse_weights=True)\n",
    "obs_clim_regrid = regridder_obs(obs_clim)"
   ]
  },
  {
   "cell_type": "markdown",
   "metadata": {},
   "source": [
    "# Plot differences"
   ]
  },
  {
   "cell_type": "code",
   "execution_count": 34,
   "metadata": {},
   "outputs": [
    {
     "data": {
      "text/html": [
       "<pre>&lt;xarray.DataArray ()&gt;\n",
       "array(-17.82957437)</pre>"
      ],
      "text/plain": [
       "<xarray.DataArray ()>\n",
       "array(-17.82957437)"
      ]
     },
     "execution_count": 34,
     "metadata": {},
     "output_type": "execute_result"
    }
   ],
   "source": [
    "(model_2_clim - obs_clim_regrid).min()"
   ]
  },
  {
   "cell_type": "code",
   "execution_count": null,
   "metadata": {},
   "outputs": [],
   "source": [
    "f, axs = plot.subplots(proj='cyl', ncols=3, nrows=2)\n",
    "\n",
    "levels_diff = plot.arange(-5,5,1)\n",
    "cmap_diff = 'BuRd'\n",
    "extend_diff = 'both'\n",
    "\n",
    "levels_bias = plot.arange(-14,14,2)\n",
    "cmap_bias = 'BuRd'\n",
    "extend_bias = 'both'\n",
    "\n",
    "# First row: differences GMTED2010-00625deg / not guide\n",
    "axs[0].pcolormesh(model_1_clim, cmap=cmap, levels=levels)\n",
    "axs[0].format(title=title_1)\n",
    "\n",
    "m1 = axs[1].pcolormesh(model_2_clim, cmap=cmap, levels=levels)\n",
    "axs[1].format(title=title_2)\n",
    "axs[1].colorbar(m1, label=label+ ' ['+units+']')\n",
    "\n",
    "m2 = axs[2].pcolormesh(model_2_clim - model_1_clim, cmap=cmap_diff, levels=levels_diff, extend=extend_diff)\n",
    "axs[2].format(title=title_2+' - '+title_1)\n",
    "axs[2].colorbar(m2, label='Bias of '+label+ ' ['+units+']')\n",
    "\n",
    "\n",
    "# Second row: differences with obs\n",
    "\n",
    "m3 = axs[3].pcolormesh(model_1_clim - obs_clim_regrid, cmap=cmap_bias, levels=levels_bias, extend=extend_bias)\n",
    "axs[3].format(title=title_1+' - Obs')\n",
    "\n",
    "axs[4].pcolormesh(model_2_clim - obs_clim_regrid, cmap=cmap_bias, levels=levels_bias, extend=extend_bias)\n",
    "axs[4].format(title=title_2+' - Obs')\n",
    "axs[4].colorbar(m3, label='Bias of '+label+ ' ['+units+']')\n",
    "\n",
    "axs[5].pcolormesh(obs_clim, cmap=cmap, levels=levels)\n",
    "axs[5].format(title='Obs ('+obs_name+')')\n",
    "axs[5].colorbar(m1, label=label+ ' ['+units+']')\n",
    "\n",
    "\n",
    "axs.format(\n",
    "    geogridlinewidth=0.5, geogridcolor='gray8', geogridalpha=0.5, labels=True, \n",
    "    coast=True, ocean=True, oceancolor='gray3', borders=True,\n",
    "    suptitle=label+\" annual climatology: \"+period.start+\"-\"+period.stop,\n",
    "    lonlines=10, latlines=10, abc=True, latlim=latlim, lonlim=lonlim\n",
    ")\n",
    "\n",
    "f.save('img/'+var+'_relief_'+period.start+'-'+period.stop+'.jpg')\n",
    "f.save('img/'+var+'_relief_'+period.start+'-'+period.stop+'.png')\n",
    "f.save('img/'+var+'_relief_'+period.start+'-'+period.stop+'.pdf')"
   ]
  }
 ],
 "metadata": {
  "kernelspec": {
   "display_name": "Python [conda env:work]",
   "language": "python",
   "name": "conda-env-work-py"
  },
  "language_info": {
   "codemirror_mode": {
    "name": "ipython",
    "version": 3
   },
   "file_extension": ".py",
   "mimetype": "text/x-python",
   "name": "python",
   "nbconvert_exporter": "python",
   "pygments_lexer": "ipython3",
   "version": "3.8.2"
  }
 },
 "nbformat": 4,
 "nbformat_minor": 2
}
