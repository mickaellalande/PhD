{
 "cells": [
  {
   "cell_type": "code",
   "execution_count": 1,
   "metadata": {},
   "outputs": [
    {
     "name": "stdout",
     "output_type": "stream",
     "text": [
      "netcdf tas_Amon_IPSL-CM6A-LR_historical_r1i1p1f1_gr_185001-201412 {\r\n",
      "dimensions:\r\n",
      "\taxis_nbounds = 2 ;\r\n",
      "\tlon = 144 ;\r\n",
      "\tlat = 143 ;\r\n",
      "\ttime = UNLIMITED ; // (1980 currently)\r\n",
      "variables:\r\n",
      "\tfloat lat(lat) ;\r\n",
      "\t\tlat:axis = \"Y\" ;\r\n",
      "\t\tlat:standard_name = \"latitude\" ;\r\n",
      "\t\tlat:long_name = \"Latitude\" ;\r\n",
      "\t\tlat:units = \"degrees_north\" ;\r\n",
      "\tfloat lon(lon) ;\r\n",
      "\t\tlon:axis = \"X\" ;\r\n",
      "\t\tlon:standard_name = \"longitude\" ;\r\n",
      "\t\tlon:long_name = \"Longitude\" ;\r\n",
      "\t\tlon:units = \"degrees_east\" ;\r\n",
      "\tdouble height ;\r\n",
      "\t\theight:name = \"height\" ;\r\n",
      "\t\theight:standard_name = \"height\" ;\r\n",
      "\t\theight:long_name = \"height\" ;\r\n",
      "\t\theight:units = \"m\" ;\r\n",
      "\t\theight:axis = \"Z\" ;\r\n",
      "\t\theight:positive = \"up\" ;\r\n",
      "\tdouble time(time) ;\r\n",
      "\t\ttime:axis = \"T\" ;\r\n",
      "\t\ttime:standard_name = \"time\" ;\r\n",
      "\t\ttime:long_name = \"Time axis\" ;\r\n",
      "\t\ttime:calendar = \"gregorian\" ;\r\n",
      "\t\ttime:units = \"days since 1850-01-01 00:00:00\" ;\r\n",
      "\t\ttime:time_origin = \"1850-01-01 00:00:00\" ;\r\n",
      "\t\ttime:bounds = \"time_bounds\" ;\r\n",
      "\tdouble time_bounds(time, axis_nbounds) ;\r\n",
      "\tfloat tas(time, lat, lon) ;\r\n",
      "\t\ttas:online_operation = \"average\" ;\r\n",
      "\t\ttas:cell_methods = \"area: time: mean\" ;\r\n",
      "\t\ttas:interval_operation = \"900 s\" ;\r\n",
      "\t\ttas:interval_write = \"1 month\" ;\r\n",
      "\t\ttas:_FillValue = 1.e+20f ;\r\n",
      "\t\ttas:missing_value = 1.e+20f ;\r\n",
      "\t\ttas:coordinates = \"height\" ;\r\n",
      "\t\ttas:standard_name = \"air_temperature\" ;\r\n",
      "\t\ttas:description = \"Near-Surface Air Temperature\" ;\r\n",
      "\t\ttas:long_name = \"Near-Surface Air Temperature\" ;\r\n",
      "\t\ttas:history = \"none\" ;\r\n",
      "\t\ttas:units = \"K\" ;\r\n",
      "\t\ttas:cell_measures = \"area: areacella\" ;\r\n",
      "\r\n",
      "// global attributes:\r\n",
      "\t\t:Conventions = \"CF-1.7 CMIP-6.2\" ;\r\n",
      "\t\t:creation_date = \"2018-07-11T07:36:34Z\" ;\r\n",
      "\t\t:tracking_id = \"hdl:21.14100/285a3a27-0287-4e3b-8232-69ddc89cebef\" ;\r\n",
      "\t\t:description = \"CMIP6 historical\" ;\r\n",
      "\t\t:title = \"IPSL-CM6A-LR model output prepared for CMIP6 / CMIP historical\" ;\r\n",
      "\t\t:activity_id = \"CMIP\" ;\r\n",
      "\t\t:contact = \"ipsl-cmip6@listes.ipsl.fr\" ;\r\n",
      "\t\t:data_specs_version = \"01.00.21\" ;\r\n",
      "\t\t:dr2xml_version = \"1.11\" ;\r\n",
      "\t\t:experiment_id = \"historical\" ;\r\n",
      "\t\t:experiment = \"all-forcing simulation of the recent past\" ;\r\n",
      "\t\t:external_variables = \"areacella\" ;\r\n",
      "\t\t:forcing_index = 1 ;\r\n",
      "\t\t:frequency = \"mon\" ;\r\n",
      "\t\t:grid = \"LMDZ grid\" ;\r\n",
      "\t\t:grid_label = \"gr\" ;\r\n",
      "\t\t:nominal_resolution = \"250 km\" ;\r\n",
      "\t\t:initialization_index = 1 ;\r\n",
      "\t\t:institution_id = \"IPSL\" ;\r\n",
      "\t\t:institution = \"Institut Pierre Simon Laplace, Paris 75252, France\" ;\r\n",
      "\t\t:license = \"CMIP6 model data produced by IPSL is licensed under a Creative Commons Attribution-NonCommercial-ShareAlike 4.0 International License (https://creativecommons.org/licenses). Consult https://pcmdi.llnl.gov/CMIP6/TermsOfUse for terms of use governing CMIP6 output, including citation requirements and proper acknowledgment. Further information about this data, including some limitations, can be found via the further_info_url (recorded as a global attribute in this file) and at https://cmc.ipsl.fr/. The data producers and data providers make no warranty, either express or implied, including, but not limited to, warranties of merchantability and fitness for a particular purpose. All liabilities arising from the supply of the information (including any liability arising in negligence) are excluded to the fullest extent permitted by law.\" ;\r\n",
      "\t\t:mip_era = \"CMIP6\" ;\r\n",
      "\t\t:parent_experiment_id = \"piControl\" ;\r\n",
      "\t\t:parent_mip_era = \"CMIP6\" ;\r\n",
      "\t\t:parent_activity_id = \"CMIP\" ;\r\n",
      "\t\t:parent_source_id = \"IPSL-CM6A-LR\" ;\r\n",
      "\t\t:parent_time_units = \"days since 1850-01-01 00:00:00\" ;\r\n",
      "\t\t:branch_method = \"standard\" ;\r\n",
      "\t\t:branch_time_in_parent = 21914. ;\r\n",
      "\t\t:branch_time_in_child = 0. ;\r\n",
      "\t\t:physics_index = 1 ;\r\n",
      "\t\t:product = \"model-output\" ;\r\n",
      "\t\t:realm = \"atmos\" ;\r\n",
      "\t\t:source = \"IPSL-CM6A-LR (2017):  atmos: LMDZ (NPv6, N96; 144 x 143 longitude/latitude; 79 levels; top level 40000 m) land: ORCHIDEE (v2.0, Water/Carbon/Energy mode) ocean: NEMO-OPA (eORCA1.3, tripolar primarily 1deg; 362 x 332 longitude/latitude; 75 levels; top grid cell 0-2 m) ocnBgchem: NEMO-PISCES seaIce: NEMO-LIM3\" ;\r\n",
      "\t\t:source_id = \"IPSL-CM6A-LR\" ;\r\n",
      "\t\t:source_type = \"AOGCM BGC\" ;\r\n",
      "\t\t:sub_experiment_id = \"none\" ;\r\n",
      "\t\t:sub_experiment = \"none\" ;\r\n",
      "\t\t:table_id = \"Amon\" ;\r\n",
      "\t\t:variable_id = \"tas\" ;\r\n",
      "\t\t:EXPID = \"historical\" ;\r\n",
      "\t\t:CMIP6_CV_version = \"cv=6.2.3.5-2-g63b123e\" ;\r\n",
      "\t\t:dr2xml_md5sum = \"f1e40c1fc5d8281f865f72fbf4e38f9d\" ;\r\n",
      "\t\t:model_version = \"6.1.5\" ;\r\n",
      "\t\t:parent_variant_label = \"r1i1p1f1\" ;\r\n",
      "\t\t:name = \"/ccc/work/cont003/gencmip6/p86caub/IGCM_OUT/IPSLCM6/PROD/historical/CM61-LR-hist-03.1910/CMIP6/ATM/tas_Amon_IPSL-CM6A-LR_historical_r1i1p1f1_gr_%start_date%-%end_date%\" ;\r\n",
      "\t\t:further_info_url = \"https://furtherinfo.es-doc.org/CMIP6.IPSL.IPSL-CM6A-LR.historical.none.r1i1p1f1\" ;\r\n",
      "\t\t:variant_label = \"r1i1p1f1\" ;\r\n",
      "\t\t:realization_index = 1 ;\r\n",
      "\t\t:history = \"Sat Dec  1 12:16:58 2018: ncatted -O -a realization_index,global,m,i,1 /ccc/work/cont003/cmip6/cmip6/onhold/CM61-LR-histEXT-03.1910/files+ext/tas_Amon_IPSL-CM6A-LR_historical_r1i1p1f1_gr_185001-201412.nc\\nSat Dec  1 12:10:43 2018: ncatted -O -a realization_index,global,m,i,1 /ccc/work/cont003/cmip6/cmip6/onhold/CM61-LR-hist-03.1910/files/tas_Amon_IPSL-CM6A-LR_historical_r1i1p1f1_gr_185001-201412.nc\\nSat Dec  1 11:05:09 2018: ncatted -O -a realization_index,global,m,i,1 /ccc/work/cont003/gencmip6/p86caub/IGCM_OUT/IPSLCM6/PROD/historical/CM61-LR-hist-03.1910/CMIP6/ATM/tas_Amon_IPSL-CM6A-LR_historical_r1i1p1f1_gr_185001-201412.nc\\nFri Nov 30 16:51:53 2018: ncatted -O -a realization_index,global,m,s,1 /ccc/work/cont003/gencmip6/p86caub/IGCM_OUT/IPSLCM6/PROD/historical/CM61-LR-hist-03.1910/CMIP6/ATM/tas_Amon_IPSL-CM6A-LR_historical_r1i1p1f1_gr_185001-201412.nc\\nThu Nov 29 16:51:58 2018: ncatted -O -a variant_label,global,m,c,r1i1p1f1 /ccc/work/cont003/gencmip6/p86caub/IGCM_OUT/IPSLCM6/PROD/historical/CM61-LR-hist-03.1910/CMIP6/ATM/tas_Amon_IPSL-CM6A-LR_historical_r3i1p1f1_gr_185001-201412.nc\\nThu Nov 29 16:51:58 2018: ncatted -O -a further_info_url,global,m,c,https://furtherinfo.es-doc.org/CMIP6.IPSL.IPSL-CM6A-LR.historical.none.r1i1p1f1 /ccc/work/cont003/gencmip6/p86caub/IGCM_OUT/IPSLCM6/PROD/historical/CM61-LR-hist-03.1910/CMIP6/ATM/tas_Amon_IPSL-CM6A-LR_historical_r3i1p1f1_gr_185001-201412.nc\\nThu Nov 29 16:51:58 2018: ncatted -O -a name,global,m,c,/ccc/work/cont003/gencmip6/p86caub/IGCM_OUT/IPSLCM6/PROD/historical/CM61-LR-hist-03.1910/CMIP6/ATM/tas_Amon_IPSL-CM6A-LR_historical_r1i1p1f1_gr_%start_date%-%end_date% /ccc/work/cont003/gencmip6/p86caub/IGCM_OUT/IPSLCM6/PROD/historical/CM61-LR-hist-03.1910/CMIP6/ATM/tas_Amon_IPSL-CM6A-LR_historical_r3i1p1f1_gr_185001-201412.nc\\nMon Sep  3 14:52:55 2018: ncatted -O -a parent_variant_label,global,m,c,r1i1p1f1 tas_Amon_IPSL-CM6A-LR_historical_r3i1p1f1_gr_185001-201412.nc\\nnone\" ;\r\n",
      "\t\t:NCO = \"\\\"4.6.0\\\"\" ;\r\n",
      "}\r\n"
     ]
    }
   ],
   "source": [
    "!ncdump -h /bdd/CMIP6/CMIP/IPSL/IPSL-CM6A-LR/historical/r1i1p1f1/Amon/tas/gr/latest/tas_Amon_IPSL-CM6A-LR_historical_r1i1p1f1_gr_185001-201412.nc"
   ]
  },
  {
   "cell_type": "code",
   "execution_count": 2,
   "metadata": {},
   "outputs": [
    {
     "name": "stdout",
     "output_type": "stream",
     "text": [
      "('LC debug :', False)\n",
      "CliMAF install => /ciclad-home/jservon/Evaluation/CliMAF/climaf_installs/climaf_1.2.12\n",
      "python => /prodigfs/ipslfs/dods/jservon/miniconda/envs/analyse_env_2.7/bin/python\n",
      "---\n",
      "Required softwares to run CliMAF => you are using the following versions/installations:\n"
     ]
    },
    {
     "name": "stderr",
     "output_type": "stream",
     "text": [
      "CliMAF version = 1.2.12\n"
     ]
    },
    {
     "name": "stdout",
     "output_type": "stream",
     "text": [
      "ncl 6.6.2 => /prodigfs/ipslfs/dods/jservon/miniconda/envs/analyse_env_2.7/bin/ncl\n",
      "cdo 1.9.6 => /opt/nco/1.9/bin/cdo\n",
      "nco (ncks) 4.5.2 => /opt/nco-4.5.2/bin/ncks\n",
      "ncdump fichier => /prodigfs/ipslfs/dods/jservon/miniconda/envs/analyse_env_2.7/bin/ncdump\n",
      "---\n"
     ]
    },
    {
     "name": "stderr",
     "output_type": "stream",
     "text": [
      "Cache directory set to : /data/mlalande/climafcache (use $CLIMAF_CACHE if set) \n",
      "Cache directory for remote data set to : /data/mlalande/climafcache/remote_data (use $CLIMAF_REMOTE_CACHE if set) \n",
      "warning  : Binary cdftools not found. Some operators won't work\n",
      "Available macros read from ~/.climaf.macros are : []\n"
     ]
    }
   ],
   "source": [
    "from climaf.api import *"
   ]
  },
  {
   "cell_type": "markdown",
   "metadata": {},
   "source": [
    "## CMIP6 Data Request\n",
    "http://clipc-services.ceda.ac.uk/dreq/index/miptable.html"
   ]
  },
  {
   "cell_type": "code",
   "execution_count": 4,
   "metadata": {},
   "outputs": [
    {
     "data": {
      "text/plain": [
       "{'grid': 'gn', 'institute': 'CAS', 'mip': 'CMIP'}"
      ]
     },
     "execution_count": 4,
     "metadata": {},
     "output_type": "execute_result"
    }
   ],
   "source": [
    "variable='snc'\n",
    "\n",
    "if variable in ['snc']: table = 'LImon'\n",
    "if variable in ['prsn', 'ua', 'va', 'ta']: table = 'Amon'\n",
    "\n",
    "req = ds(\n",
    "    project='CMIP6', \n",
    "    model='FGOALS-f3-L', \n",
    "    table=table,\n",
    "    variable=variable,    \n",
    "    frequency='monthly',\n",
    "    realization='r1i1p1f1',\n",
    "    period='1981-2014',\n",
    "    experiment='historical',\n",
    "#     experiment='amip',\n",
    "#     experiment='land-hist',\n",
    "#     experiment='HighResMIP',\n",
    "#     domain=[25,90,-180,180]\n",
    ")\n",
    "\n",
    "req.explore('choices')"
   ]
  },
  {
   "cell_type": "code",
   "execution_count": 9,
   "metadata": {},
   "outputs": [
    {
     "data": {
      "text/plain": [
       "{'grid': ['gn', 'gr', 'gr1'],\n",
       " 'institute': ['AS-RCEC',\n",
       "  'AWI',\n",
       "  'BCC',\n",
       "  'CAMS',\n",
       "  'CAS',\n",
       "  'CCCma',\n",
       "  'E3SM-Project',\n",
       "  'EC-Earth-Consortium',\n",
       "  'FIO-QLNM',\n",
       "  'HAMMOZ-Consortium',\n",
       "  'INM',\n",
       "  'IPSL',\n",
       "  'MIROC',\n",
       "  'MPI-M',\n",
       "  'MRI',\n",
       "  'NASA-GISS',\n",
       "  'NCAR',\n",
       "  'NCC',\n",
       "  'NOAA-GFDL',\n",
       "  'NUIST',\n",
       "  'SNU',\n",
       "  'UA'],\n",
       " 'mip': 'CMIP',\n",
       " 'model': ['AWI-CM-1-1-MR',\n",
       "  'BCC-CSM2-MR',\n",
       "  'BCC-ESM1',\n",
       "  'CAMS-CSM1-0',\n",
       "  'CESM2',\n",
       "  'CESM2-FV2',\n",
       "  'CESM2-WACCM',\n",
       "  'CESM2-WACCM-FV2',\n",
       "  'CanESM5',\n",
       "  'E3SM-1-0',\n",
       "  'E3SM-1-1',\n",
       "  'EC-Earth3-Veg',\n",
       "  'FGOALS-f3-L',\n",
       "  'FGOALS-g3',\n",
       "  'FIO-ESM-2-0',\n",
       "  'GFDL-CM4',\n",
       "  'GFDL-ESM4',\n",
       "  'GISS-E2-1-G',\n",
       "  'GISS-E2-1-G-CC',\n",
       "  'GISS-E2-1-H',\n",
       "  'INM-CM4-8',\n",
       "  'INM-CM5-0',\n",
       "  'IPSL-CM6A-LR',\n",
       "  'MCM-UA-1-0',\n",
       "  'MIROC6',\n",
       "  'MPI-ESM-1-2-HAM',\n",
       "  'MPI-ESM1-2-HR',\n",
       "  'MPI-ESM1-2-LR',\n",
       "  'MRI-ESM2-0',\n",
       "  'NESM3',\n",
       "  'NorCPM1',\n",
       "  'NorESM2-LM',\n",
       "  'NorESM2-MM',\n",
       "  'SAM0-UNICON',\n",
       "  'TaiESM1']}"
      ]
     },
     "execution_count": 9,
     "metadata": {},
     "output_type": "execute_result"
    }
   ],
   "source": [
    "req.explore('choices')"
   ]
  },
  {
   "cell_type": "code",
   "execution_count": 5,
   "metadata": {},
   "outputs": [
    {
     "name": "stderr",
     "output_type": "stream",
     "text": [
      "error    : 'Unknown option model'\n"
     ]
    },
    {
     "ename": "Climaf_Classes_Error",
     "evalue": "'Unknown option model'",
     "output_type": "error",
     "traceback": [
      "\u001b[0;31m---------------------------------------------------------------------------\u001b[0m",
      "\u001b[0;31mClimaf_Classes_Error\u001b[0m                      Traceback (most recent call last)",
      "\u001b[0;32m<ipython-input-5-2a965b4ec0df>\u001b[0m in \u001b[0;36m<module>\u001b[0;34m()\u001b[0m\n\u001b[0;32m----> 1\u001b[0;31m \u001b[0msummary\u001b[0m\u001b[0;34m(\u001b[0m\u001b[0mreq\u001b[0m\u001b[0;34m.\u001b[0m\u001b[0mexplore\u001b[0m\u001b[0;34m(\u001b[0m\u001b[0;34m'model'\u001b[0m\u001b[0;34m)\u001b[0m\u001b[0;34m)\u001b[0m\u001b[0;34m\u001b[0m\u001b[0m\n\u001b[0m",
      "\u001b[0;32m/ciclad-home/jservon/Evaluation/CliMAF/climaf_installs/climaf_1.2.12/climaf/classes.pyc\u001b[0m in \u001b[0;36mexplore\u001b[0;34m(self, option, group_periods_on, operation, first)\u001b[0m\n\u001b[1;32m    734\u001b[0m             \u001b[0mself\u001b[0m\u001b[0;34m.\u001b[0m\u001b[0mfiles\u001b[0m \u001b[0;34m=\u001b[0m \u001b[0mfiles\u001b[0m\u001b[0;34m\u001b[0m\u001b[0m\n\u001b[1;32m    735\u001b[0m         \u001b[0;32melse\u001b[0m\u001b[0;34m:\u001b[0m\u001b[0;34m\u001b[0m\u001b[0m\n\u001b[0;32m--> 736\u001b[0;31m             \u001b[0;32mraise\u001b[0m \u001b[0mClimaf_Classes_Error\u001b[0m\u001b[0;34m(\u001b[0m\u001b[0;34m\"Unknown option %s\"\u001b[0m \u001b[0;34m%\u001b[0m \u001b[0moption\u001b[0m\u001b[0;34m)\u001b[0m\u001b[0;34m\u001b[0m\u001b[0m\n\u001b[0m\u001b[1;32m    737\u001b[0m \u001b[0;34m\u001b[0m\u001b[0m\n\u001b[1;32m    738\u001b[0m     \u001b[0;32mdef\u001b[0m \u001b[0mbaseFiles\u001b[0m\u001b[0;34m(\u001b[0m\u001b[0mself\u001b[0m\u001b[0;34m,\u001b[0m \u001b[0mforce\u001b[0m\u001b[0;34m=\u001b[0m\u001b[0mFalse\u001b[0m\u001b[0;34m,\u001b[0m \u001b[0mensure_dataset\u001b[0m\u001b[0;34m=\u001b[0m\u001b[0mTrue\u001b[0m\u001b[0;34m)\u001b[0m\u001b[0;34m:\u001b[0m\u001b[0;34m\u001b[0m\u001b[0m\n",
      "\u001b[0;31mClimaf_Classes_Error\u001b[0m: 'Unknown option model'"
     ]
    }
   ],
   "source": [
    "summary(req.explore('ensemble'))"
   ]
  },
  {
   "cell_type": "code",
   "execution_count": null,
   "metadata": {},
   "outputs": [],
   "source": []
  }
 ],
 "metadata": {
  "kernelspec": {
   "display_name": "Python 2",
   "language": "python",
   "name": "python2"
  },
  "language_info": {
   "codemirror_mode": {
    "name": "ipython",
    "version": 2
   },
   "file_extension": ".py",
   "mimetype": "text/x-python",
   "name": "python",
   "nbconvert_exporter": "python",
   "pygments_lexer": "ipython2",
   "version": "2.7.15"
  }
 },
 "nbformat": 4,
 "nbformat_minor": 2
}
