{
 "cells": [
  {
   "cell_type": "code",
   "execution_count": 1,
   "metadata": {},
   "outputs": [
    {
     "name": "stdout",
     "output_type": "stream",
     "text": [
      "('LC debug :', False)\n",
      "CliMAF install => /ciclad-home/jservon/Evaluation/CliMAF/climaf_installs/climaf_1.2.12\n",
      "python => /prodigfs/ipslfs/dods/jservon/miniconda/envs/analyse_env_2.7/bin/python\n",
      "---\n",
      "Required softwares to run CliMAF => you are using the following versions/installations:\n"
     ]
    },
    {
     "name": "stderr",
     "output_type": "stream",
     "text": [
      "CliMAF version = 1.2.12\n"
     ]
    },
    {
     "name": "stdout",
     "output_type": "stream",
     "text": [
      "ncl 6.6.2 => /prodigfs/ipslfs/dods/jservon/miniconda/envs/analyse_env_2.7/bin/ncl\n",
      "cdo 1.9.6 => /opt/nco/1.9/bin/cdo\n",
      "nco (ncks) 4.5.2 => /opt/nco-4.5.2/bin/ncks\n",
      "ncdump fichier => /prodigfs/ipslfs/dods/jservon/miniconda/envs/analyse_env_2.7/bin/ncdump\n",
      "---\n"
     ]
    },
    {
     "name": "stderr",
     "output_type": "stream",
     "text": [
      "Cache directory set to : /data/mlalande/climafcache (use $CLIMAF_CACHE if set) \n",
      "Cache directory for remote data set to : /data/mlalande/climafcache/remote_data (use $CLIMAF_REMOTE_CACHE if set) \n",
      "Available macros read from ~/.climaf.macros are : []\n"
     ]
    }
   ],
   "source": [
    "from climaf.api import *"
   ]
  },
  {
   "cell_type": "markdown",
   "metadata": {},
   "source": [
    "## CMIP6 Data Request\n",
    "http://clipc-services.ceda.ac.uk/dreq/index/miptable.html"
   ]
  },
  {
   "cell_type": "code",
   "execution_count": null,
   "metadata": {},
   "outputs": [],
   "source": [
    "variable='prsn'\n",
    "\n",
    "if variable in ['snc']: table = 'LImon'\n",
    "if variable in ['prsn', 'ua', 'va']: table = 'Amon'\n",
    "\n",
    "req = ds(\n",
    "    project='CMIP6', \n",
    "    model='IPSL-CM6A-LR', \n",
    "    table=table,\n",
    "    variable=variable,    \n",
    "    frequency='monthly',\n",
    "    realization='*',\n",
    "    period='1981-2014',\n",
    "    experiment='historical',\n",
    "#     experiment='amip',\n",
    "#     experiment='land-hist',\n",
    "#     experiment='HighResMIP',\n",
    "#     domain=[25,90,-180,180]\n",
    ")"
   ]
  },
  {
   "cell_type": "code",
   "execution_count": 14,
   "metadata": {},
   "outputs": [
    {
     "name": "stderr",
     "output_type": "stream",
     "text": [
      "warning  : no file found for {'domain': 'global', 'experiment': 'historical', 'institute': '*', 'table': 'Amon', 'period': 1981-2014, 'simulation': '', 'project': 'CMIP6', 'version': 'latest', 'grid': 'g*', 'realization': '*', 'variable': 'prra', 'mip': '*', 'model': 'IPSL-CM6A-LR', 'root': '/bdd'}, at these data locations ['${root}/CMIP6/${mip}/${institute}/${model}/${experiment}/${realization}/${table}/${variable}/${grid}/${version}/${variable}_${table}_${model}_${experiment}_${realization}_${grid}_${PERIOD}.nc', '${root}/CMIP6/${mip}/${institute}/${model}/${experiment}/${realization}/${table}/${variable}/${grid}/${version}/${variable}_${table}_${model}_${experiment}_${realization}_${grid}.nc'] \n",
      "warning  : Please check these empty attributes ['simulation']\n"
     ]
    },
    {
     "data": {
      "text/plain": [
       "{}"
      ]
     },
     "execution_count": 14,
     "metadata": {},
     "output_type": "execute_result"
    }
   ],
   "source": [
    "req.explore('choices')"
   ]
  },
  {
   "cell_type": "code",
   "execution_count": 15,
   "metadata": {},
   "outputs": [
    {
     "name": "stderr",
     "output_type": "stream",
     "text": [
      "warning  : no file found for {'domain': 'global', 'experiment': 'historical', 'institute': '*', 'table': 'Amon', 'period': 1981-2014, 'simulation': '', 'project': 'CMIP6', 'version': 'latest', 'grid': 'g*', 'realization': '*', 'variable': 'prra', 'mip': '*', 'model': 'IPSL-CM6A-LR', 'root': '/bdd'}, at these data locations ['${root}/CMIP6/${mip}/${institute}/${model}/${experiment}/${realization}/${table}/${variable}/${grid}/${version}/${variable}_${table}_${model}_${experiment}_${realization}_${grid}_${PERIOD}.nc', '${root}/CMIP6/${mip}/${institute}/${model}/${experiment}/${realization}/${table}/${variable}/${grid}/${version}/${variable}_${table}_${model}_${experiment}_${realization}_${grid}.nc'] \n",
      "warning  : Please check these empty attributes ['simulation']\n",
      "warning  : Creating an ensemble with a single member\n",
      "error    : 'For building an ensemble, must have at least one attribute which is a list'\n"
     ]
    },
    {
     "ename": "Climaf_Classes_Error",
     "evalue": "'For building an ensemble, must have at least one attribute which is a list'",
     "output_type": "error",
     "traceback": [
      "\u001b[0;31m---------------------------------------------------------------------------\u001b[0m",
      "\u001b[0;31mClimaf_Classes_Error\u001b[0m                      Traceback (most recent call last)",
      "\u001b[0;32m<ipython-input-15-80302156d77d>\u001b[0m in \u001b[0;36m<module>\u001b[0;34m()\u001b[0m\n\u001b[0;32m----> 1\u001b[0;31m \u001b[0msummary\u001b[0m\u001b[0;34m(\u001b[0m\u001b[0mreq\u001b[0m\u001b[0;34m.\u001b[0m\u001b[0mexplore\u001b[0m\u001b[0;34m(\u001b[0m\u001b[0;34m'ensemble'\u001b[0m\u001b[0;34m)\u001b[0m\u001b[0;34m)\u001b[0m\u001b[0;34m\u001b[0m\u001b[0m\n\u001b[0m",
      "\u001b[0;32m/ciclad-home/jservon/Evaluation/CliMAF/climaf_installs/climaf_1.2.12/climaf/classes.pyc\u001b[0m in \u001b[0;36mexplore\u001b[0;34m(self, option, group_periods_on, operation, first)\u001b[0m\n\u001b[1;32m    723\u001b[0m                 \u001b[0mclogger\u001b[0m\u001b[0;34m.\u001b[0m\u001b[0mwarning\u001b[0m\u001b[0;34m(\u001b[0m\u001b[0;34m\"Creating an ensemble with a single member\"\u001b[0m\u001b[0;34m)\u001b[0m\u001b[0;34m\u001b[0m\u001b[0m\n\u001b[1;32m    724\u001b[0m             \u001b[0mself\u001b[0m\u001b[0;34m.\u001b[0m\u001b[0mfiles\u001b[0m \u001b[0;34m=\u001b[0m \u001b[0mfiles\u001b[0m\u001b[0;34m\u001b[0m\u001b[0m\n\u001b[0;32m--> 725\u001b[0;31m             \u001b[0;32mreturn\u001b[0m \u001b[0meds\u001b[0m\u001b[0;34m(\u001b[0m\u001b[0mfirst\u001b[0m\u001b[0;34m=\u001b[0m\u001b[0mfirst\u001b[0m\u001b[0;34m,\u001b[0m \u001b[0;34m**\u001b[0m\u001b[0mdic\u001b[0m\u001b[0;34m)\u001b[0m\u001b[0;34m\u001b[0m\u001b[0m\n\u001b[0m\u001b[1;32m    726\u001b[0m         \u001b[0;32melif\u001b[0m \u001b[0moption\u001b[0m \u001b[0;34m==\u001b[0m \u001b[0;34m'check_and_store'\u001b[0m\u001b[0;34m:\u001b[0m\u001b[0;34m\u001b[0m\u001b[0m\n\u001b[1;32m    727\u001b[0m             \u001b[0;32mfor\u001b[0m \u001b[0mkw\u001b[0m \u001b[0;32min\u001b[0m \u001b[0mwildcards\u001b[0m\u001b[0;34m:\u001b[0m\u001b[0;34m\u001b[0m\u001b[0m\n",
      "\u001b[0;32m/ciclad-home/jservon/Evaluation/CliMAF/climaf_installs/climaf_1.2.12/climaf/classes.pyc\u001b[0m in \u001b[0;36meds\u001b[0;34m(first, **kwargs)\u001b[0m\n\u001b[1;32m   1189\u001b[0m             \u001b[0mlistattr\u001b[0m\u001b[0;34m.\u001b[0m\u001b[0mappend\u001b[0m\u001b[0;34m(\u001b[0m\u001b[0mattr\u001b[0m\u001b[0;34m)\u001b[0m\u001b[0;34m\u001b[0m\u001b[0m\n\u001b[1;32m   1190\u001b[0m     \u001b[0;32mif\u001b[0m \u001b[0mlen\u001b[0m\u001b[0;34m(\u001b[0m\u001b[0mlistattr\u001b[0m\u001b[0;34m)\u001b[0m \u001b[0;34m<\u001b[0m \u001b[0;36m1\u001b[0m\u001b[0;34m:\u001b[0m\u001b[0;34m\u001b[0m\u001b[0m\n\u001b[0;32m-> 1191\u001b[0;31m         \u001b[0;32mraise\u001b[0m \u001b[0mClimaf_Classes_Error\u001b[0m\u001b[0;34m(\u001b[0m\u001b[0;34m\"For building an ensemble, must have at least one attribute which is a list\"\u001b[0m\u001b[0;34m)\u001b[0m\u001b[0;34m\u001b[0m\u001b[0m\n\u001b[0m\u001b[1;32m   1192\u001b[0m     \u001b[0;31m# Create an ensemble of datasets if applicable\u001b[0m\u001b[0;34m\u001b[0m\u001b[0;34m\u001b[0m\u001b[0m\n\u001b[1;32m   1193\u001b[0m     \u001b[0md\u001b[0m \u001b[0;34m=\u001b[0m \u001b[0mdict\u001b[0m\u001b[0;34m(\u001b[0m\u001b[0;34m)\u001b[0m\u001b[0;34m\u001b[0m\u001b[0m\n",
      "\u001b[0;31mClimaf_Classes_Error\u001b[0m: 'For building an ensemble, must have at least one attribute which is a list'"
     ]
    }
   ],
   "source": [
    "summary(req.explore('ensemble'))"
   ]
  },
  {
   "cell_type": "code",
   "execution_count": null,
   "metadata": {},
   "outputs": [],
   "source": []
  }
 ],
 "metadata": {
  "kernelspec": {
   "display_name": "Python 2",
   "language": "python",
   "name": "python2"
  },
  "language_info": {
   "codemirror_mode": {
    "name": "ipython",
    "version": 2
   },
   "file_extension": ".py",
   "mimetype": "text/x-python",
   "name": "python",
   "nbconvert_exporter": "python",
   "pygments_lexer": "ipython2",
   "version": "2.7.15"
  }
 },
 "nbformat": 4,
 "nbformat_minor": 2
}
