{
 "cells": [
  {
   "cell_type": "code",
   "execution_count": 1,
   "metadata": {},
   "outputs": [
    {
     "name": "stdout",
     "output_type": "stream",
     "text": [
      "('LC debug :', False)\n",
      "CliMAF install => /ciclad-home/jservon/Evaluation/CliMAF/climaf_installs/climaf_1.2.12\n",
      "python => /thredds/ipsl/jservon/miniconda/envs/analyse_env_2.7/bin/python\n",
      "---\n",
      "Required softwares to run CliMAF => you are using the following versions/installations:\n"
     ]
    },
    {
     "name": "stderr",
     "output_type": "stream",
     "text": [
      "CliMAF version = 1.2.12\n"
     ]
    },
    {
     "name": "stdout",
     "output_type": "stream",
     "text": [
      "ncl 6.6.2 => /thredds/ipsl/jservon/miniconda/envs/analyse_env_2.7/bin/ncl\n",
      "cdo 1.9.6 => /opt/nco/1.9/bin/cdo\n",
      "nco (ncks) 4.5.2 => /opt/nco-4.5.2/bin/ncks\n",
      "ncdump fichier => /thredds/ipsl/jservon/miniconda/envs/analyse_env_2.7/bin/ncdump\n",
      "---\n"
     ]
    },
    {
     "name": "stderr",
     "output_type": "stream",
     "text": [
      "Cache directory set to : /data/mlalande/climafcache (use $CLIMAF_CACHE if set) \n",
      "Cache directory for remote data set to : /data/mlalande/climafcache/remote_data (use $CLIMAF_REMOTE_CACHE if set) \n",
      "warning  : Binary cdftools not found. Some operators won't work\n",
      "Available macros read from ~/.climaf.macros are : []\n"
     ]
    }
   ],
   "source": [
    "from climaf.api import *"
   ]
  },
  {
   "cell_type": "markdown",
   "metadata": {},
   "source": [
    "## CMIP6 Data Request\n",
    "http://clipc-services.ceda.ac.uk/dreq/index/miptable.html"
   ]
  },
  {
   "cell_type": "code",
   "execution_count": 18,
   "metadata": {},
   "outputs": [
    {
     "data": {
      "text/plain": [
       "{'grid': 'gn',\n",
       " 'institute': ['MOHC', 'NIMS-KMA'],\n",
       " 'mip': 'CMIP',\n",
       " 'realization': ['r10i1p1f2',\n",
       "  'r11i1p1f2',\n",
       "  'r13i1p1f2',\n",
       "  'r17i1p1f2',\n",
       "  'r18i1p1f2',\n",
       "  'r19i1p1f2',\n",
       "  'r1i1p1f2',\n",
       "  'r2i1p1f2',\n",
       "  'r3i1p1f2',\n",
       "  'r4i1p1f2',\n",
       "  'r5i1p1f3',\n",
       "  'r6i1p1f3',\n",
       "  'r7i1p1f3',\n",
       "  'r8i1p1f2',\n",
       "  'r9i1p1f2'],\n",
       " 'variable': ['sbl', 'snc', 'snd', 'snm', 'snw']}"
      ]
     },
     "execution_count": 18,
     "metadata": {},
     "output_type": "execute_result"
    }
   ],
   "source": [
    "req = ds(\n",
    "    project='CMIP6', \n",
    "    model='UKESM1-0-LL', \n",
    "#     table='Amon',\n",
    "    table='LImon',\n",
    "    variable='*',    \n",
    "    frequency='monthly',\n",
    "    realization='*',\n",
    "    period='1981-2014',\n",
    "    experiment='historical'\n",
    ")\n",
    "\n",
    "req.explore('choices')"
   ]
  },
  {
   "cell_type": "code",
   "execution_count": null,
   "metadata": {},
   "outputs": [],
   "source": []
  }
 ],
 "metadata": {
  "kernelspec": {
   "display_name": "Python 2",
   "language": "python",
   "name": "python2"
  },
  "language_info": {
   "codemirror_mode": {
    "name": "ipython",
    "version": 2
   },
   "file_extension": ".py",
   "mimetype": "text/x-python",
   "name": "python",
   "nbconvert_exporter": "python",
   "pygments_lexer": "ipython2",
   "version": "2.7.15"
  }
 },
 "nbformat": 4,
 "nbformat_minor": 2
}
