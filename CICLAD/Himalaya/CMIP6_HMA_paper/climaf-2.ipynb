{
 "cells": [
  {
   "cell_type": "code",
   "execution_count": 4,
   "metadata": {},
   "outputs": [],
   "source": [
    "from climaf.api import *"
   ]
  },
  {
   "cell_type": "markdown",
   "metadata": {},
   "source": [
    "## CMIP6 Data Request\n",
    "http://clipc-services.ceda.ac.uk/dreq/index/miptable.html"
   ]
  },
  {
   "cell_type": "code",
   "execution_count": 26,
   "metadata": {},
   "outputs": [
    {
     "data": {
      "text/plain": [
       "{'grid': 'gn',\n",
       " 'institute': 'AS-RCEC',\n",
       " 'mip': 'CMIP',\n",
       " 'realization': 'r1i1p1f1',\n",
       " 'variable': ['snc', 'snd']}"
      ]
     },
     "execution_count": 26,
     "metadata": {},
     "output_type": "execute_result"
    }
   ],
   "source": [
    "req = ds(\n",
    "    project='CMIP6', \n",
    "    model='TaiESM1', \n",
    "#     table='Amon',\n",
    "    table='LImon',\n",
    "    variable='*',    \n",
    "    frequency='monthly',\n",
    "    realization='*',\n",
    "    period='1981-2014',\n",
    "    experiment='historical'\n",
    ")\n",
    "\n",
    "req.explore('choices')"
   ]
  },
  {
   "cell_type": "code",
   "execution_count": null,
   "metadata": {},
   "outputs": [],
   "source": []
  }
 ],
 "metadata": {
  "kernelspec": {
   "display_name": "Python 2",
   "language": "python",
   "name": "python2"
  },
  "language_info": {
   "codemirror_mode": {
    "name": "ipython",
    "version": 2
   },
   "file_extension": ".py",
   "mimetype": "text/x-python",
   "name": "python",
   "nbconvert_exporter": "python",
   "pygments_lexer": "ipython2",
   "version": "2.7.15"
  }
 },
 "nbformat": 4,
 "nbformat_minor": 2
}
