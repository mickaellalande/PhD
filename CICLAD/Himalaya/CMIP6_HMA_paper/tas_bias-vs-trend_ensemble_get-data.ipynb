{
 "cells": [
  {
   "cell_type": "markdown",
   "metadata": {},
   "source": [
    "# Pre-proj: check bias versus trends in multimodel ensemble\n",
    "## Get and store data to common grid 1°x1° from topographic file\n",
    "conda env: `phd_v3` (in `envs/phd`)"
   ]
  },
  {
   "cell_type": "code",
   "execution_count": 1,
   "metadata": {},
   "outputs": [
    {
     "name": "stdout",
     "output_type": "stream",
     "text": [
      "3.8.5 | packaged by conda-forge | (default, Jul 24 2020, 01:25:15) \n",
      "[GCC 7.5.0]\n"
     ]
    }
   ],
   "source": [
    "# To reload external files automatically (ex: utils)\n",
    "%load_ext autoreload\n",
    "%autoreload 2\n",
    "\n",
    "import xarray as xr\n",
    "import pandas as pd\n",
    "import numpy as np\n",
    "import matplotlib.pyplot as plt\n",
    "import proplot as plot # New plot library (https://proplot.readthedocs.io/en/latest/)\n",
    "plot.rc['savefig.dpi'] = 300 # 1200 is too big! #https://proplot.readthedocs.io/en/latest/basics.html#Creating-figures\n",
    "from scipy import stats\n",
    "import xesmf as xe # For regridding (https://xesmf.readthedocs.io/en/latest/)\n",
    "\n",
    "import sys\n",
    "sys.path.insert(1, '/home/mlalande/notebooks/utils') # to include my util file in previous directory\n",
    "import utils as u # my personal functions\n",
    "u.check_python_version()\n",
    "# u.check_virtual_memory()"
   ]
  },
  {
   "cell_type": "markdown",
   "metadata": {},
   "source": [
    "## Set variables"
   ]
  },
  {
   "cell_type": "code",
   "execution_count": 2,
   "metadata": {},
   "outputs": [
    {
     "data": {
      "text/plain": [
       "'Near-Surface Air Temperature'"
      ]
     },
     "execution_count": 2,
     "metadata": {},
     "output_type": "execute_result"
    }
   ],
   "source": [
    "period_past = slice('1979','2014')\n",
    "seasons = ['Annual', 'DJFMA', 'JJAS']\n",
    "# seasons = ['Annual']\n",
    "\n",
    "# Make a extended version for regridding properly on the edges\n",
    "latlim, lonlim = u.get_domain_HMA()\n",
    "latlim_ext, lonlim_ext = slice(latlim.start-5, latlim.stop+5), slice(lonlim.start-5, lonlim.stop+5)\n",
    "\n",
    "var = 'tas'\n",
    "table = u.get_table(var)\n",
    "label, units, levels, cmap, extend, \\\n",
    "    levels_diff, cmap_diff, extend_diff, \\\n",
    "    levels_bias, cmap_bias, extend_bias = u.get_var_infos(var)\n",
    "label"
   ]
  },
  {
   "cell_type": "markdown",
   "metadata": {},
   "source": [
    "## Load topography"
   ]
  },
  {
   "cell_type": "code",
   "execution_count": 3,
   "metadata": {},
   "outputs": [],
   "source": [
    "ds = xr.open_dataset('GMTED2010_15n240_1000deg.nc').drop_dims('nbounds').swap_dims(\n",
    "    {'nlat': 'latitude', 'nlon': 'longitude'}).drop({'nlat', 'nlon'}).rename(\n",
    "    {'latitude': 'lat', 'longitude': 'lon'}).sel(lat=latlim_ext, lon=lonlim_ext)\n",
    "elevation = ds.elevation\n",
    "elevation_std = ds.elevation_stddev"
   ]
  },
  {
   "cell_type": "markdown",
   "metadata": {},
   "source": [
    "## Load models"
   ]
  },
  {
   "cell_type": "code",
   "execution_count": 4,
   "metadata": {},
   "outputs": [
    {
     "data": {
      "text/plain": [
       "['BCC-CSM2-MR',\n",
       " 'BCC-ESM1',\n",
       " 'CAS-ESM2-0',\n",
       " 'CESM2',\n",
       " 'CESM2-FV2',\n",
       " 'CESM2-WACCM',\n",
       " 'CESM2-WACCM-FV2',\n",
       " 'CNRM-CM6-1',\n",
       " 'CNRM-CM6-1-HR',\n",
       " 'CNRM-ESM2-1',\n",
       " 'CanESM5',\n",
       " 'CanESM5-CanOE',\n",
       " 'GFDL-CM4',\n",
       " 'GISS-E2-1-G',\n",
       " 'GISS-E2-1-H',\n",
       " 'HadGEM3-GC31-LL',\n",
       " 'HadGEM3-GC31-MM',\n",
       " 'IPSL-CM6A-LR',\n",
       " 'MIROC-ES2L',\n",
       " 'MIROC6',\n",
       " 'MPI-ESM1-2-HR',\n",
       " 'MPI-ESM1-2-LR',\n",
       " 'MRI-ESM2-0',\n",
       " 'NorESM2-LM',\n",
       " 'SAM0-UNICON',\n",
       " 'TaiESM1',\n",
       " 'UKESM1-0-LL']"
      ]
     },
     "execution_count": 4,
     "metadata": {},
     "output_type": "execute_result"
    }
   ],
   "source": [
    "list_models = u.get_model_names()\n",
    "list_models"
   ]
  },
  {
   "cell_type": "code",
   "execution_count": 5,
   "metadata": {},
   "outputs": [
    {
     "name": "stdout",
     "output_type": "stream",
     "text": [
      "IPSL-CM6A-LR (1/10)\n",
      "['r10i1p1f1', 'r11i1p1f1', 'r12i1p1f1', 'r13i1p1f1', 'r14i1p1f1', 'r15i1p1f1', 'r16i1p1f1', 'r17i1p1f1', 'r18i1p1f1', 'r19i1p1f1', 'r1i1p1f1', 'r20i1p1f1', 'r21i1p1f1', 'r22i1p1f1', 'r23i1p1f1', 'r24i1p1f1', 'r25i1p1f1', 'r26i1p1f1', 'r27i1p1f1', 'r28i1p1f1', 'r29i1p1f1', 'r2i1p1f1', 'r30i1p1f1', 'r31i1p1f1', 'r32i1p1f1', 'r3i1p1f1', 'r4i1p1f1', 'r5i1p1f1', 'r6i1p1f1', 'r7i1p1f1', 'r8i1p1f1', 'r9i1p1f1']\n",
      "32\n",
      "Reuse existing file: bilinear_28x25_35x60.nc\n",
      "\n",
      "\n",
      "MIROC-ES2L (2/10)\n",
      "['r10i1p1f2', 'r1i1p1f2', 'r2i1p1f2', 'r3i1p1f2', 'r4i1p1f2', 'r5i1p1f2', 'r6i1p1f2', 'r7i1p1f2', 'r8i1p1f2', 'r9i1p1f2']\n",
      "10\n",
      "Reuse existing file: bilinear_13x21_35x60.nc\n",
      "\n",
      "\n",
      "MIROC6 (3/10)\n",
      "['r10i1p1f1', 'r11i1p1f1', 'r12i1p1f1', 'r13i1p1f1', 'r14i1p1f1', 'r15i1p1f1', 'r16i1p1f1', 'r17i1p1f1', 'r18i1p1f1', 'r19i1p1f1', 'r1i1p1f1', 'r20i1p1f1', 'r21i1p1f1', 'r22i1p1f1', 'r23i1p1f1', 'r24i1p1f1', 'r25i1p1f1', 'r26i1p1f1', 'r27i1p1f1', 'r28i1p1f1', 'r29i1p1f1', 'r2i1p1f1', 'r30i1p1f1', 'r31i1p1f1', 'r32i1p1f1', 'r33i1p1f1', 'r34i1p1f1', 'r35i1p1f1', 'r36i1p1f1', 'r37i1p1f1', 'r38i1p1f1', 'r39i1p1f1', 'r3i1p1f1', 'r40i1p1f1', 'r41i1p1f1', 'r42i1p1f1', 'r43i1p1f1', 'r44i1p1f1', 'r45i1p1f1', 'r46i1p1f1', 'r47i1p1f1', 'r48i1p1f1', 'r49i1p1f1', 'r4i1p1f1', 'r50i1p1f1', 'r5i1p1f1', 'r6i1p1f1', 'r7i1p1f1', 'r8i1p1f1', 'r9i1p1f1']\n",
      "50\n",
      "Reuse existing file: bilinear_25x42_35x60.nc\n",
      "\n",
      "\n",
      "MPI-ESM1-2-HR (4/10)\n",
      "['r10i1p1f1', 'r1i1p1f1', 'r2i1p1f1', 'r3i1p1f1', 'r4i1p1f1', 'r5i1p1f1', 'r6i1p1f1', 'r7i1p1f1', 'r8i1p1f1', 'r9i1p1f1']\n",
      "10\n",
      "Reuse existing file: bilinear_37x64_35x60.nc\n",
      "\n",
      "\n",
      "MPI-ESM1-2-LR (5/10)\n",
      "['r10i1p1f1', 'r1i1p1f1', 'r2i1p1f1', 'r3i1p1f1', 'r4i1p1f1', 'r5i1p1f1', 'r6i1p1f1', 'r7i1p1f1', 'r8i1p1f1', 'r9i1p1f1']\n",
      "10\n",
      "Reuse existing file: bilinear_19x32_35x60.nc\n",
      "\n",
      "\n",
      "MRI-ESM2-0 (6/10)\n",
      "['r1i1000p1f1', 'r1i1p1f1', 'r1i2p1f1', 'r2i1p1f1', 'r3i1p1f1', 'r4i1p1f1', 'r5i1p1f1']\n",
      "7\n",
      "Reuse existing file: bilinear_32x54_35x60.nc\n",
      "\n",
      "\n",
      "NorESM2-LM (7/10)\n",
      "['r1i1p1f1', 'r2i1p1f1', 'r3i1p1f1']\n",
      "3\n",
      "Reuse existing file: bilinear_18x25_35x60.nc\n",
      "\n",
      "\n",
      "SAM0-UNICON (8/10)\n",
      "['r1i1p1f1']\n",
      "1\n",
      "Reuse existing file: bilinear_37x49_35x60.nc\n",
      "\n",
      "\n",
      "TaiESM1 (9/10)\n",
      "['r1i1p1f1']\n",
      "1\n",
      "Reuse existing file: bilinear_37x49_35x60.nc\n",
      "\n",
      "\n",
      "UKESM1-0-LL (10/10)\n",
      "['r10i1p1f2', 'r11i1p1f2', 'r12i1p1f2', 'r16i1p1f2', 'r17i1p1f2', 'r18i1p1f2', 'r19i1p1f2', 'r1i1p1f2', 'r2i1p1f2', 'r3i1p1f2', 'r4i1p1f2', 'r5i1p1f3', 'r6i1p1f3', 'r7i1p1f3', 'r8i1p1f2', 'r9i1p1f2']\n",
      "16\n",
      "Reuse existing file: bilinear_28x32_35x60.nc\n",
      "\n",
      "\n",
      "CPU times: user 1min 37s, sys: 12.8 s, total: 1min 50s\n",
      "Wall time: 6min 40s\n"
     ]
    }
   ],
   "source": [
    "%%time\n",
    "\n",
    "list_models = u.get_model_names()\n",
    "list_models = list_models[17:]\n",
    "# list_models = ['EC-Earth3']\n",
    "\n",
    "for i, model in enumerate(list_models):\n",
    "    print(model + ' ('+str(i+1)+'/'+str(len(list_models))+')')\n",
    "    institute, grid, realization, calendar = u.get_model_infos(model, var)\n",
    "    \n",
    "    #################\n",
    "    ### Load past ###\n",
    "    #################\n",
    "    \n",
    "    realizations = !ls {'/bdd/CMIP6/CMIP/'+institute+'/'+model+'/historical/'}\n",
    "    temp = []\n",
    "    no_file = []\n",
    "    \n",
    "    for i, realization in enumerate(realizations):\n",
    "        try:\n",
    "            da = xr.open_mfdataset(\n",
    "                '/bdd/CMIP6/CMIP/'+institute+'/'+model+'/historical/'+realization+'/'+table+'/'+var+'/'+grid+'/latest/*.nc', \n",
    "                combine='by_coords'\n",
    "            ).sel(time=period_past, lat=latlim_ext, lon=lonlim_ext)[var]\n",
    "            \n",
    "            temp.append(da)\n",
    "            \n",
    "        except OSError:\n",
    "            no_file.append(realization)\n",
    "            \n",
    "    for nf in no_file:\n",
    "        realizations.remove(nf)\n",
    "        \n",
    "    print(realizations)\n",
    "    \n",
    "    da_past = xr.concat(temp, pd.Index(realizations, name='realization'))\n",
    "    \n",
    "    print(da_past.realization.size)\n",
    "    \n",
    "    np.testing.assert_equal((int(period_past.stop) - int(period_past.start) + 1)*12, da_past.time.size)\n",
    "    \n",
    "    # tas (K -> °C)\n",
    "    #################################################################################\n",
    "\n",
    "    da_past -= 273.15\n",
    "        \n",
    "    #################################################################################\n",
    "    \n",
    "    # Regrid\n",
    "    regridder = xe.Regridder(da_past, elevation, 'bilinear', periodic=False, reuse_weights=True)\n",
    "    da_past_regrid = regridder(da_past)\n",
    "    \n",
    "    if 'height' in da_past_regrid.coords: da_past_regrid = da_past_regrid.drop('height')\n",
    "    \n",
    "    # Store data on CICLAD\n",
    "    path = '/data/mlalande/CMIP6_HMA_paper'\n",
    "    da_past_regrid.sel(lat=latlim, lon=lonlim).to_netcdf(path+'/'+var+'/'+var+'_'+table+'_'+model+'_historical_ens_'+grid+'_197901-201412_HMA.nc')\n",
    "        \n",
    "    print('\\n')"
   ]
  }
 ],
 "metadata": {
  "kernelspec": {
   "display_name": "Python [conda env:phd_v3] *",
   "language": "python",
   "name": "conda-env-phd_v3-py"
  },
  "language_info": {
   "codemirror_mode": {
    "name": "ipython",
    "version": 3
   },
   "file_extension": ".py",
   "mimetype": "text/x-python",
   "name": "python",
   "nbconvert_exporter": "python",
   "pygments_lexer": "ipython3",
   "version": "3.8.5"
  }
 },
 "nbformat": 4,
 "nbformat_minor": 4
}
