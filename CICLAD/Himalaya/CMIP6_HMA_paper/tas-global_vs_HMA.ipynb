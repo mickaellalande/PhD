{
 "cells": [
  {
   "cell_type": "markdown",
   "metadata": {},
   "source": [
    "# Projections GLOB vs HMA of Near-Surface Air Temperature\n",
    "conda env: `phd_v3` (in `envs/phd`)"
   ]
  },
  {
   "cell_type": "code",
   "execution_count": 1,
   "metadata": {},
   "outputs": [
    {
     "name": "stdout",
     "output_type": "stream",
     "text": [
      "3.8.5 | packaged by conda-forge | (default, Jul 24 2020, 01:25:15) \n",
      "[GCC 7.5.0]\n"
     ]
    }
   ],
   "source": [
    "# To reload external files automatically (ex: utils)\n",
    "%load_ext autoreload\n",
    "%autoreload 2\n",
    "\n",
    "import xarray as xr\n",
    "import pandas as pd\n",
    "import numpy as np\n",
    "import matplotlib.pyplot as plt\n",
    "import proplot as plot # New plot library (https://proplot.readthedocs.io/en/latest/)\n",
    "plot.rc['savefig.dpi'] = 300 # 1200 is too big! #https://proplot.readthedocs.io/en/latest/basics.html#Creating-figures\n",
    "from scipy import stats\n",
    "import xesmf as xe # For regridding (https://xesmf.readthedocs.io/en/latest/)\n",
    "\n",
    "import sys\n",
    "sys.path.insert(1, '/home/mlalande/notebooks/utils') # to include my util file in previous directory\n",
    "import utils as u # my personal functions\n",
    "u.check_python_version()\n",
    "# u.check_virtual_memory()"
   ]
  },
  {
   "cell_type": "markdown",
   "metadata": {},
   "source": [
    "## Set variables"
   ]
  },
  {
   "cell_type": "code",
   "execution_count": 6,
   "metadata": {},
   "outputs": [
    {
     "data": {
      "text/plain": [
       "'Near-Surface Air Temperature'"
      ]
     },
     "execution_count": 6,
     "metadata": {},
     "output_type": "execute_result"
    }
   ],
   "source": [
    "period_future = slice('2015','2100')\n",
    "period_past = slice('1979','2014')\n",
    "latlim, lonlim = u.get_domain_HMA()\n",
    "lonlim_HK, latlim_HK, lonlim_HM, latlim_HM, lonlim_TP, latlim_TP = u.get_zones()\n",
    "seasons = ['Annual', 'DJFMA', 'JJAS']\n",
    "# seasons = ['Annual']\n",
    "\n",
    "# HMA for full domain and the following for the above zones\n",
    "zones = ['GLOB', 'GLOB-land', 'NH-land', 'HMA', 'HK', 'HM', 'TP']\n",
    "zones_df = pd.DataFrame(\n",
    "    [\n",
    "        [slice(None), slice(None)], \n",
    "        [slice(None), slice(None)], \n",
    "        [slice(None), slice(0,90)], \n",
    "        [lonlim, latlim],\n",
    "        [lonlim_HK, latlim_HK],\n",
    "        [lonlim_HM, latlim_HM],\n",
    "        [lonlim_TP, latlim_TP]\n",
    "    ], \n",
    "    columns=pd.Index(['lonlim', 'latlim'], name='Limits'),\n",
    "    index=pd.Index(zones, name='Zones')\n",
    ")\n",
    "\n",
    "var = 'tas'\n",
    "table = u.get_table(var)\n",
    "label, units, levels, cmap, extend, \\\n",
    "    levels_diff, cmap_diff, extend_diff, \\\n",
    "    levels_bias, cmap_bias, extend_bias = u.get_var_infos(var)\n",
    "label"
   ]
  },
  {
   "cell_type": "markdown",
   "metadata": {},
   "source": [
    "## Load topography"
   ]
  },
  {
   "cell_type": "code",
   "execution_count": 3,
   "metadata": {},
   "outputs": [],
   "source": [
    "ds = xr.open_dataset('GMTED2010_15n240_1000deg.nc').drop_dims('nbounds').swap_dims(\n",
    "    {'nlat': 'latitude', 'nlon': 'longitude'}).drop({'nlat', 'nlon'}).rename(\n",
    "    {'latitude': 'lat', 'longitude': 'lon'})\n",
    "elevation = ds.elevation\n",
    "elevation_std = ds.elevation_stddev"
   ]
  },
  {
   "cell_type": "markdown",
   "metadata": {},
   "source": [
    "## Load land/sea mask\n",
    "https://ldas.gsfc.nasa.gov/gldas/vegetation-class-mask"
   ]
  },
  {
   "cell_type": "code",
   "execution_count": 4,
   "metadata": {},
   "outputs": [],
   "source": [
    "mask = xr.open_dataset('/data/mlalande/GLDASp5_landmask_10d.nc4').GLDAS_mask[0]"
   ]
  },
  {
   "cell_type": "markdown",
   "metadata": {},
   "source": [
    "## Load models"
   ]
  },
  {
   "cell_type": "code",
   "execution_count": 5,
   "metadata": {},
   "outputs": [
    {
     "name": "stdout",
     "output_type": "stream",
     "text": [
      "BCC-CSM2-MR (1/10)\n",
      "Load past\n",
      "1.125°x1.112°\n",
      "Annual\n",
      "Reuse existing file: bilinear_160x320_180x360.nc\n",
      "DJFMA\n",
      "Reuse existing file: bilinear_160x320_180x360.nc\n",
      "JJAS\n",
      "Reuse existing file: bilinear_160x320_180x360.nc\n",
      "Load future\n",
      "ssp126\n",
      "Annual\n",
      "DJFMA\n",
      "JJAS\n",
      "ssp245\n",
      "Annual\n",
      "DJFMA\n",
      "JJAS\n",
      "ssp370\n",
      "Annual\n",
      "DJFMA\n",
      "JJAS\n",
      "ssp585\n",
      "Annual\n",
      "DJFMA\n",
      "JJAS\n",
      "\n",
      "\n",
      "CNRM-CM6-1 (2/10)\n",
      "Load past\n",
      "1.406°x1.389°\n",
      "Annual\n",
      "Reuse existing file: bilinear_128x256_180x360.nc\n",
      "DJFMA\n"
     ]
    },
    {
     "name": "stderr",
     "output_type": "stream",
     "text": [
      "/data/mlalande/miniconda3/envs/phd_v3/lib/python3.8/site-packages/xarray/core/common.py:1123: FutureWarning: 'base' in .resample() and in Grouper() is deprecated.\n",
      "The new arguments that you should use are 'offset' or 'origin'.\n",
      "\n",
      ">>> df.resample(freq=\"3s\", base=2)\n",
      "\n",
      "becomes:\n",
      "\n",
      ">>> df.resample(freq=\"3s\", offset=\"2s\")\n",
      "\n",
      "  grouper = pd.Grouper(\n"
     ]
    },
    {
     "name": "stdout",
     "output_type": "stream",
     "text": [
      "Reuse existing file: bilinear_128x256_180x360.nc\n",
      "JJAS\n",
      "Reuse existing file: bilinear_128x256_180x360.nc\n",
      "Load future\n",
      "ssp126\n",
      "Annual\n",
      "DJFMA\n"
     ]
    },
    {
     "name": "stderr",
     "output_type": "stream",
     "text": [
      "/data/mlalande/miniconda3/envs/phd_v3/lib/python3.8/site-packages/xarray/core/common.py:1123: FutureWarning: 'base' in .resample() and in Grouper() is deprecated.\n",
      "The new arguments that you should use are 'offset' or 'origin'.\n",
      "\n",
      ">>> df.resample(freq=\"3s\", base=2)\n",
      "\n",
      "becomes:\n",
      "\n",
      ">>> df.resample(freq=\"3s\", offset=\"2s\")\n",
      "\n",
      "  grouper = pd.Grouper(\n"
     ]
    },
    {
     "name": "stdout",
     "output_type": "stream",
     "text": [
      "JJAS\n",
      "ssp245\n",
      "Annual\n",
      "DJFMA\n"
     ]
    },
    {
     "name": "stderr",
     "output_type": "stream",
     "text": [
      "/data/mlalande/miniconda3/envs/phd_v3/lib/python3.8/site-packages/xarray/core/common.py:1123: FutureWarning: 'base' in .resample() and in Grouper() is deprecated.\n",
      "The new arguments that you should use are 'offset' or 'origin'.\n",
      "\n",
      ">>> df.resample(freq=\"3s\", base=2)\n",
      "\n",
      "becomes:\n",
      "\n",
      ">>> df.resample(freq=\"3s\", offset=\"2s\")\n",
      "\n",
      "  grouper = pd.Grouper(\n"
     ]
    },
    {
     "name": "stdout",
     "output_type": "stream",
     "text": [
      "JJAS\n",
      "ssp370\n",
      "Annual\n",
      "DJFMA\n"
     ]
    },
    {
     "name": "stderr",
     "output_type": "stream",
     "text": [
      "/data/mlalande/miniconda3/envs/phd_v3/lib/python3.8/site-packages/xarray/core/common.py:1123: FutureWarning: 'base' in .resample() and in Grouper() is deprecated.\n",
      "The new arguments that you should use are 'offset' or 'origin'.\n",
      "\n",
      ">>> df.resample(freq=\"3s\", base=2)\n",
      "\n",
      "becomes:\n",
      "\n",
      ">>> df.resample(freq=\"3s\", offset=\"2s\")\n",
      "\n",
      "  grouper = pd.Grouper(\n"
     ]
    },
    {
     "name": "stdout",
     "output_type": "stream",
     "text": [
      "JJAS\n",
      "ssp585\n",
      "Annual\n",
      "DJFMA\n"
     ]
    },
    {
     "name": "stderr",
     "output_type": "stream",
     "text": [
      "/data/mlalande/miniconda3/envs/phd_v3/lib/python3.8/site-packages/xarray/core/common.py:1123: FutureWarning: 'base' in .resample() and in Grouper() is deprecated.\n",
      "The new arguments that you should use are 'offset' or 'origin'.\n",
      "\n",
      ">>> df.resample(freq=\"3s\", base=2)\n",
      "\n",
      "becomes:\n",
      "\n",
      ">>> df.resample(freq=\"3s\", offset=\"2s\")\n",
      "\n",
      "  grouper = pd.Grouper(\n"
     ]
    },
    {
     "name": "stdout",
     "output_type": "stream",
     "text": [
      "JJAS\n",
      "\n",
      "\n",
      "CNRM-CM6-1-HR (3/10)\n",
      "Load past\n",
      "0.5°x0.495°\n",
      "Annual\n",
      "Reuse existing file: bilinear_360x720_180x360.nc\n",
      "DJFMA\n"
     ]
    },
    {
     "name": "stderr",
     "output_type": "stream",
     "text": [
      "/data/mlalande/miniconda3/envs/phd_v3/lib/python3.8/site-packages/xarray/core/common.py:1123: FutureWarning: 'base' in .resample() and in Grouper() is deprecated.\n",
      "The new arguments that you should use are 'offset' or 'origin'.\n",
      "\n",
      ">>> df.resample(freq=\"3s\", base=2)\n",
      "\n",
      "becomes:\n",
      "\n",
      ">>> df.resample(freq=\"3s\", offset=\"2s\")\n",
      "\n",
      "  grouper = pd.Grouper(\n"
     ]
    },
    {
     "name": "stdout",
     "output_type": "stream",
     "text": [
      "Reuse existing file: bilinear_360x720_180x360.nc\n",
      "JJAS\n",
      "Reuse existing file: bilinear_360x720_180x360.nc\n",
      "Load future\n",
      "ssp126\n",
      "Annual\n",
      "DJFMA\n"
     ]
    },
    {
     "name": "stderr",
     "output_type": "stream",
     "text": [
      "/data/mlalande/miniconda3/envs/phd_v3/lib/python3.8/site-packages/xarray/core/common.py:1123: FutureWarning: 'base' in .resample() and in Grouper() is deprecated.\n",
      "The new arguments that you should use are 'offset' or 'origin'.\n",
      "\n",
      ">>> df.resample(freq=\"3s\", base=2)\n",
      "\n",
      "becomes:\n",
      "\n",
      ">>> df.resample(freq=\"3s\", offset=\"2s\")\n",
      "\n",
      "  grouper = pd.Grouper(\n"
     ]
    },
    {
     "name": "stdout",
     "output_type": "stream",
     "text": [
      "JJAS\n",
      "ssp245\n",
      "Annual\n",
      "DJFMA\n"
     ]
    },
    {
     "name": "stderr",
     "output_type": "stream",
     "text": [
      "/data/mlalande/miniconda3/envs/phd_v3/lib/python3.8/site-packages/xarray/core/common.py:1123: FutureWarning: 'base' in .resample() and in Grouper() is deprecated.\n",
      "The new arguments that you should use are 'offset' or 'origin'.\n",
      "\n",
      ">>> df.resample(freq=\"3s\", base=2)\n",
      "\n",
      "becomes:\n",
      "\n",
      ">>> df.resample(freq=\"3s\", offset=\"2s\")\n",
      "\n",
      "  grouper = pd.Grouper(\n"
     ]
    },
    {
     "name": "stdout",
     "output_type": "stream",
     "text": [
      "JJAS\n",
      "ssp370\n",
      "Annual\n",
      "DJFMA\n"
     ]
    },
    {
     "name": "stderr",
     "output_type": "stream",
     "text": [
      "/data/mlalande/miniconda3/envs/phd_v3/lib/python3.8/site-packages/xarray/core/common.py:1123: FutureWarning: 'base' in .resample() and in Grouper() is deprecated.\n",
      "The new arguments that you should use are 'offset' or 'origin'.\n",
      "\n",
      ">>> df.resample(freq=\"3s\", base=2)\n",
      "\n",
      "becomes:\n",
      "\n",
      ">>> df.resample(freq=\"3s\", offset=\"2s\")\n",
      "\n",
      "  grouper = pd.Grouper(\n"
     ]
    },
    {
     "name": "stdout",
     "output_type": "stream",
     "text": [
      "JJAS\n",
      "ssp585\n",
      "Annual\n",
      "DJFMA\n"
     ]
    },
    {
     "name": "stderr",
     "output_type": "stream",
     "text": [
      "/data/mlalande/miniconda3/envs/phd_v3/lib/python3.8/site-packages/xarray/core/common.py:1123: FutureWarning: 'base' in .resample() and in Grouper() is deprecated.\n",
      "The new arguments that you should use are 'offset' or 'origin'.\n",
      "\n",
      ">>> df.resample(freq=\"3s\", base=2)\n",
      "\n",
      "becomes:\n",
      "\n",
      ">>> df.resample(freq=\"3s\", offset=\"2s\")\n",
      "\n",
      "  grouper = pd.Grouper(\n"
     ]
    },
    {
     "name": "stdout",
     "output_type": "stream",
     "text": [
      "JJAS\n",
      "\n",
      "\n",
      "CNRM-ESM2-1 (4/10)\n",
      "Load past\n",
      "1.406°x1.389°\n",
      "Annual\n",
      "Reuse existing file: bilinear_128x256_180x360.nc\n",
      "DJFMA\n"
     ]
    },
    {
     "name": "stderr",
     "output_type": "stream",
     "text": [
      "/data/mlalande/miniconda3/envs/phd_v3/lib/python3.8/site-packages/xarray/core/common.py:1123: FutureWarning: 'base' in .resample() and in Grouper() is deprecated.\n",
      "The new arguments that you should use are 'offset' or 'origin'.\n",
      "\n",
      ">>> df.resample(freq=\"3s\", base=2)\n",
      "\n",
      "becomes:\n",
      "\n",
      ">>> df.resample(freq=\"3s\", offset=\"2s\")\n",
      "\n",
      "  grouper = pd.Grouper(\n"
     ]
    },
    {
     "name": "stdout",
     "output_type": "stream",
     "text": [
      "Reuse existing file: bilinear_128x256_180x360.nc\n",
      "JJAS\n",
      "Reuse existing file: bilinear_128x256_180x360.nc\n",
      "Load future\n",
      "ssp126\n",
      "Annual\n",
      "DJFMA\n"
     ]
    },
    {
     "name": "stderr",
     "output_type": "stream",
     "text": [
      "/data/mlalande/miniconda3/envs/phd_v3/lib/python3.8/site-packages/xarray/core/common.py:1123: FutureWarning: 'base' in .resample() and in Grouper() is deprecated.\n",
      "The new arguments that you should use are 'offset' or 'origin'.\n",
      "\n",
      ">>> df.resample(freq=\"3s\", base=2)\n",
      "\n",
      "becomes:\n",
      "\n",
      ">>> df.resample(freq=\"3s\", offset=\"2s\")\n",
      "\n",
      "  grouper = pd.Grouper(\n"
     ]
    },
    {
     "name": "stdout",
     "output_type": "stream",
     "text": [
      "JJAS\n",
      "ssp245\n",
      "Annual\n",
      "DJFMA\n"
     ]
    },
    {
     "name": "stderr",
     "output_type": "stream",
     "text": [
      "/data/mlalande/miniconda3/envs/phd_v3/lib/python3.8/site-packages/xarray/core/common.py:1123: FutureWarning: 'base' in .resample() and in Grouper() is deprecated.\n",
      "The new arguments that you should use are 'offset' or 'origin'.\n",
      "\n",
      ">>> df.resample(freq=\"3s\", base=2)\n",
      "\n",
      "becomes:\n",
      "\n",
      ">>> df.resample(freq=\"3s\", offset=\"2s\")\n",
      "\n",
      "  grouper = pd.Grouper(\n"
     ]
    },
    {
     "name": "stdout",
     "output_type": "stream",
     "text": [
      "JJAS\n",
      "ssp370\n",
      "Annual\n",
      "DJFMA\n"
     ]
    },
    {
     "name": "stderr",
     "output_type": "stream",
     "text": [
      "/data/mlalande/miniconda3/envs/phd_v3/lib/python3.8/site-packages/xarray/core/common.py:1123: FutureWarning: 'base' in .resample() and in Grouper() is deprecated.\n",
      "The new arguments that you should use are 'offset' or 'origin'.\n",
      "\n",
      ">>> df.resample(freq=\"3s\", base=2)\n",
      "\n",
      "becomes:\n",
      "\n",
      ">>> df.resample(freq=\"3s\", offset=\"2s\")\n",
      "\n",
      "  grouper = pd.Grouper(\n"
     ]
    },
    {
     "name": "stdout",
     "output_type": "stream",
     "text": [
      "JJAS\n",
      "ssp585\n",
      "Annual\n",
      "DJFMA\n"
     ]
    },
    {
     "name": "stderr",
     "output_type": "stream",
     "text": [
      "/data/mlalande/miniconda3/envs/phd_v3/lib/python3.8/site-packages/xarray/core/common.py:1123: FutureWarning: 'base' in .resample() and in Grouper() is deprecated.\n",
      "The new arguments that you should use are 'offset' or 'origin'.\n",
      "\n",
      ">>> df.resample(freq=\"3s\", base=2)\n",
      "\n",
      "becomes:\n",
      "\n",
      ">>> df.resample(freq=\"3s\", offset=\"2s\")\n",
      "\n",
      "  grouper = pd.Grouper(\n"
     ]
    },
    {
     "name": "stdout",
     "output_type": "stream",
     "text": [
      "JJAS\n",
      "\n",
      "\n",
      "CanESM5 (5/10)\n",
      "Load past\n",
      "2.812°x2.767°\n",
      "Annual\n",
      "Reuse existing file: bilinear_64x128_180x360.nc\n",
      "DJFMA\n",
      "Reuse existing file: bilinear_64x128_180x360.nc\n",
      "JJAS\n",
      "Reuse existing file: bilinear_64x128_180x360.nc\n",
      "Load future\n",
      "ssp126\n",
      "Annual\n",
      "DJFMA\n",
      "JJAS\n",
      "ssp245\n",
      "Annual\n",
      "DJFMA\n",
      "JJAS\n",
      "ssp370\n",
      "Annual\n",
      "DJFMA\n",
      "JJAS\n",
      "ssp585\n",
      "Annual\n",
      "DJFMA\n",
      "JJAS\n",
      "\n",
      "\n",
      "IPSL-CM6A-LR (6/10)\n",
      "Load past\n",
      "2.5°x1.268°\n",
      "Annual\n",
      "Reuse existing file: bilinear_143x144_180x360.nc\n",
      "DJFMA\n"
     ]
    },
    {
     "name": "stderr",
     "output_type": "stream",
     "text": [
      "/data/mlalande/miniconda3/envs/phd_v3/lib/python3.8/site-packages/xarray/core/common.py:1123: FutureWarning: 'base' in .resample() and in Grouper() is deprecated.\n",
      "The new arguments that you should use are 'offset' or 'origin'.\n",
      "\n",
      ">>> df.resample(freq=\"3s\", base=2)\n",
      "\n",
      "becomes:\n",
      "\n",
      ">>> df.resample(freq=\"3s\", offset=\"2s\")\n",
      "\n",
      "  grouper = pd.Grouper(\n"
     ]
    },
    {
     "name": "stdout",
     "output_type": "stream",
     "text": [
      "Reuse existing file: bilinear_143x144_180x360.nc\n",
      "JJAS\n",
      "Reuse existing file: bilinear_143x144_180x360.nc\n",
      "Load future\n",
      "ssp126\n",
      "Annual\n",
      "DJFMA\n"
     ]
    },
    {
     "name": "stderr",
     "output_type": "stream",
     "text": [
      "/data/mlalande/miniconda3/envs/phd_v3/lib/python3.8/site-packages/xarray/core/common.py:1123: FutureWarning: 'base' in .resample() and in Grouper() is deprecated.\n",
      "The new arguments that you should use are 'offset' or 'origin'.\n",
      "\n",
      ">>> df.resample(freq=\"3s\", base=2)\n",
      "\n",
      "becomes:\n",
      "\n",
      ">>> df.resample(freq=\"3s\", offset=\"2s\")\n",
      "\n",
      "  grouper = pd.Grouper(\n"
     ]
    },
    {
     "name": "stdout",
     "output_type": "stream",
     "text": [
      "JJAS\n",
      "ssp245\n",
      "Annual\n",
      "DJFMA\n"
     ]
    },
    {
     "name": "stderr",
     "output_type": "stream",
     "text": [
      "/data/mlalande/miniconda3/envs/phd_v3/lib/python3.8/site-packages/xarray/core/common.py:1123: FutureWarning: 'base' in .resample() and in Grouper() is deprecated.\n",
      "The new arguments that you should use are 'offset' or 'origin'.\n",
      "\n",
      ">>> df.resample(freq=\"3s\", base=2)\n",
      "\n",
      "becomes:\n",
      "\n",
      ">>> df.resample(freq=\"3s\", offset=\"2s\")\n",
      "\n",
      "  grouper = pd.Grouper(\n"
     ]
    },
    {
     "name": "stdout",
     "output_type": "stream",
     "text": [
      "JJAS\n",
      "ssp370\n",
      "Annual\n",
      "DJFMA\n"
     ]
    },
    {
     "name": "stderr",
     "output_type": "stream",
     "text": [
      "/data/mlalande/miniconda3/envs/phd_v3/lib/python3.8/site-packages/xarray/core/common.py:1123: FutureWarning: 'base' in .resample() and in Grouper() is deprecated.\n",
      "The new arguments that you should use are 'offset' or 'origin'.\n",
      "\n",
      ">>> df.resample(freq=\"3s\", base=2)\n",
      "\n",
      "becomes:\n",
      "\n",
      ">>> df.resample(freq=\"3s\", offset=\"2s\")\n",
      "\n",
      "  grouper = pd.Grouper(\n"
     ]
    },
    {
     "name": "stdout",
     "output_type": "stream",
     "text": [
      "JJAS\n",
      "ssp585\n",
      "Annual\n",
      "DJFMA\n"
     ]
    },
    {
     "name": "stderr",
     "output_type": "stream",
     "text": [
      "/data/mlalande/miniconda3/envs/phd_v3/lib/python3.8/site-packages/xarray/core/common.py:1123: FutureWarning: 'base' in .resample() and in Grouper() is deprecated.\n",
      "The new arguments that you should use are 'offset' or 'origin'.\n",
      "\n",
      ">>> df.resample(freq=\"3s\", base=2)\n",
      "\n",
      "becomes:\n",
      "\n",
      ">>> df.resample(freq=\"3s\", offset=\"2s\")\n",
      "\n",
      "  grouper = pd.Grouper(\n"
     ]
    },
    {
     "name": "stdout",
     "output_type": "stream",
     "text": [
      "JJAS\n",
      "\n",
      "\n",
      "MIROC-ES2L (7/10)\n",
      "Load past\n",
      "2.812°x2.767°\n",
      "Annual\n",
      "Reuse existing file: bilinear_64x128_180x360.nc\n",
      "DJFMA\n"
     ]
    },
    {
     "name": "stderr",
     "output_type": "stream",
     "text": [
      "/data/mlalande/miniconda3/envs/phd_v3/lib/python3.8/site-packages/xarray/core/common.py:1123: FutureWarning: 'base' in .resample() and in Grouper() is deprecated.\n",
      "The new arguments that you should use are 'offset' or 'origin'.\n",
      "\n",
      ">>> df.resample(freq=\"3s\", base=2)\n",
      "\n",
      "becomes:\n",
      "\n",
      ">>> df.resample(freq=\"3s\", offset=\"2s\")\n",
      "\n",
      "  grouper = pd.Grouper(\n"
     ]
    },
    {
     "name": "stdout",
     "output_type": "stream",
     "text": [
      "Reuse existing file: bilinear_64x128_180x360.nc\n",
      "JJAS\n",
      "Reuse existing file: bilinear_64x128_180x360.nc\n",
      "Load future\n",
      "ssp126\n",
      "Annual\n",
      "DJFMA\n"
     ]
    },
    {
     "name": "stderr",
     "output_type": "stream",
     "text": [
      "/data/mlalande/miniconda3/envs/phd_v3/lib/python3.8/site-packages/xarray/core/common.py:1123: FutureWarning: 'base' in .resample() and in Grouper() is deprecated.\n",
      "The new arguments that you should use are 'offset' or 'origin'.\n",
      "\n",
      ">>> df.resample(freq=\"3s\", base=2)\n",
      "\n",
      "becomes:\n",
      "\n",
      ">>> df.resample(freq=\"3s\", offset=\"2s\")\n",
      "\n",
      "  grouper = pd.Grouper(\n"
     ]
    },
    {
     "name": "stdout",
     "output_type": "stream",
     "text": [
      "JJAS\n",
      "ssp245\n",
      "Annual\n",
      "DJFMA\n"
     ]
    },
    {
     "name": "stderr",
     "output_type": "stream",
     "text": [
      "/data/mlalande/miniconda3/envs/phd_v3/lib/python3.8/site-packages/xarray/core/common.py:1123: FutureWarning: 'base' in .resample() and in Grouper() is deprecated.\n",
      "The new arguments that you should use are 'offset' or 'origin'.\n",
      "\n",
      ">>> df.resample(freq=\"3s\", base=2)\n",
      "\n",
      "becomes:\n",
      "\n",
      ">>> df.resample(freq=\"3s\", offset=\"2s\")\n",
      "\n",
      "  grouper = pd.Grouper(\n"
     ]
    },
    {
     "name": "stdout",
     "output_type": "stream",
     "text": [
      "JJAS\n",
      "ssp370\n",
      "Annual\n",
      "DJFMA\n"
     ]
    },
    {
     "name": "stderr",
     "output_type": "stream",
     "text": [
      "/data/mlalande/miniconda3/envs/phd_v3/lib/python3.8/site-packages/xarray/core/common.py:1123: FutureWarning: 'base' in .resample() and in Grouper() is deprecated.\n",
      "The new arguments that you should use are 'offset' or 'origin'.\n",
      "\n",
      ">>> df.resample(freq=\"3s\", base=2)\n",
      "\n",
      "becomes:\n",
      "\n",
      ">>> df.resample(freq=\"3s\", offset=\"2s\")\n",
      "\n",
      "  grouper = pd.Grouper(\n"
     ]
    },
    {
     "name": "stdout",
     "output_type": "stream",
     "text": [
      "JJAS\n",
      "ssp585\n",
      "Annual\n",
      "DJFMA\n"
     ]
    },
    {
     "name": "stderr",
     "output_type": "stream",
     "text": [
      "/data/mlalande/miniconda3/envs/phd_v3/lib/python3.8/site-packages/xarray/core/common.py:1123: FutureWarning: 'base' in .resample() and in Grouper() is deprecated.\n",
      "The new arguments that you should use are 'offset' or 'origin'.\n",
      "\n",
      ">>> df.resample(freq=\"3s\", base=2)\n",
      "\n",
      "becomes:\n",
      "\n",
      ">>> df.resample(freq=\"3s\", offset=\"2s\")\n",
      "\n",
      "  grouper = pd.Grouper(\n"
     ]
    },
    {
     "name": "stdout",
     "output_type": "stream",
     "text": [
      "JJAS\n",
      "\n",
      "\n",
      "MIROC6 (8/10)\n",
      "Load past\n",
      "1.406°x1.389°\n",
      "Annual\n",
      "Reuse existing file: bilinear_128x256_180x360.nc\n",
      "DJFMA\n"
     ]
    },
    {
     "name": "stderr",
     "output_type": "stream",
     "text": [
      "/data/mlalande/miniconda3/envs/phd_v3/lib/python3.8/site-packages/xarray/core/common.py:1123: FutureWarning: 'base' in .resample() and in Grouper() is deprecated.\n",
      "The new arguments that you should use are 'offset' or 'origin'.\n",
      "\n",
      ">>> df.resample(freq=\"3s\", base=2)\n",
      "\n",
      "becomes:\n",
      "\n",
      ">>> df.resample(freq=\"3s\", offset=\"2s\")\n",
      "\n",
      "  grouper = pd.Grouper(\n"
     ]
    },
    {
     "name": "stdout",
     "output_type": "stream",
     "text": [
      "Reuse existing file: bilinear_128x256_180x360.nc\n",
      "JJAS\n",
      "Reuse existing file: bilinear_128x256_180x360.nc\n",
      "Load future\n",
      "ssp126\n",
      "Annual\n",
      "DJFMA\n"
     ]
    },
    {
     "name": "stderr",
     "output_type": "stream",
     "text": [
      "/data/mlalande/miniconda3/envs/phd_v3/lib/python3.8/site-packages/xarray/core/common.py:1123: FutureWarning: 'base' in .resample() and in Grouper() is deprecated.\n",
      "The new arguments that you should use are 'offset' or 'origin'.\n",
      "\n",
      ">>> df.resample(freq=\"3s\", base=2)\n",
      "\n",
      "becomes:\n",
      "\n",
      ">>> df.resample(freq=\"3s\", offset=\"2s\")\n",
      "\n",
      "  grouper = pd.Grouper(\n"
     ]
    },
    {
     "name": "stdout",
     "output_type": "stream",
     "text": [
      "JJAS\n",
      "ssp245\n",
      "Annual\n",
      "DJFMA\n"
     ]
    },
    {
     "name": "stderr",
     "output_type": "stream",
     "text": [
      "/data/mlalande/miniconda3/envs/phd_v3/lib/python3.8/site-packages/xarray/core/common.py:1123: FutureWarning: 'base' in .resample() and in Grouper() is deprecated.\n",
      "The new arguments that you should use are 'offset' or 'origin'.\n",
      "\n",
      ">>> df.resample(freq=\"3s\", base=2)\n",
      "\n",
      "becomes:\n",
      "\n",
      ">>> df.resample(freq=\"3s\", offset=\"2s\")\n",
      "\n",
      "  grouper = pd.Grouper(\n"
     ]
    },
    {
     "name": "stdout",
     "output_type": "stream",
     "text": [
      "JJAS\n",
      "ssp370\n",
      "Annual\n",
      "DJFMA\n"
     ]
    },
    {
     "name": "stderr",
     "output_type": "stream",
     "text": [
      "/data/mlalande/miniconda3/envs/phd_v3/lib/python3.8/site-packages/xarray/core/common.py:1123: FutureWarning: 'base' in .resample() and in Grouper() is deprecated.\n",
      "The new arguments that you should use are 'offset' or 'origin'.\n",
      "\n",
      ">>> df.resample(freq=\"3s\", base=2)\n",
      "\n",
      "becomes:\n",
      "\n",
      ">>> df.resample(freq=\"3s\", offset=\"2s\")\n",
      "\n",
      "  grouper = pd.Grouper(\n"
     ]
    },
    {
     "name": "stdout",
     "output_type": "stream",
     "text": [
      "JJAS\n",
      "ssp585\n",
      "Annual\n",
      "DJFMA\n"
     ]
    },
    {
     "name": "stderr",
     "output_type": "stream",
     "text": [
      "/data/mlalande/miniconda3/envs/phd_v3/lib/python3.8/site-packages/xarray/core/common.py:1123: FutureWarning: 'base' in .resample() and in Grouper() is deprecated.\n",
      "The new arguments that you should use are 'offset' or 'origin'.\n",
      "\n",
      ">>> df.resample(freq=\"3s\", base=2)\n",
      "\n",
      "becomes:\n",
      "\n",
      ">>> df.resample(freq=\"3s\", offset=\"2s\")\n",
      "\n",
      "  grouper = pd.Grouper(\n"
     ]
    },
    {
     "name": "stdout",
     "output_type": "stream",
     "text": [
      "JJAS\n",
      "\n",
      "\n",
      "MRI-ESM2-0 (9/10)\n",
      "Load past\n",
      "1.125°x1.112°\n",
      "Annual\n",
      "Reuse existing file: bilinear_160x320_180x360.nc\n",
      "DJFMA\n"
     ]
    },
    {
     "name": "stderr",
     "output_type": "stream",
     "text": [
      "/data/mlalande/miniconda3/envs/phd_v3/lib/python3.8/site-packages/xarray/core/common.py:1123: FutureWarning: 'base' in .resample() and in Grouper() is deprecated.\n",
      "The new arguments that you should use are 'offset' or 'origin'.\n",
      "\n",
      ">>> df.resample(freq=\"3s\", base=2)\n",
      "\n",
      "becomes:\n",
      "\n",
      ">>> df.resample(freq=\"3s\", offset=\"2s\")\n",
      "\n",
      "  grouper = pd.Grouper(\n"
     ]
    },
    {
     "name": "stdout",
     "output_type": "stream",
     "text": [
      "Reuse existing file: bilinear_160x320_180x360.nc\n",
      "JJAS\n",
      "Reuse existing file: bilinear_160x320_180x360.nc\n",
      "Load future\n",
      "ssp126\n",
      "Annual\n",
      "DJFMA\n"
     ]
    },
    {
     "name": "stderr",
     "output_type": "stream",
     "text": [
      "/data/mlalande/miniconda3/envs/phd_v3/lib/python3.8/site-packages/xarray/core/common.py:1123: FutureWarning: 'base' in .resample() and in Grouper() is deprecated.\n",
      "The new arguments that you should use are 'offset' or 'origin'.\n",
      "\n",
      ">>> df.resample(freq=\"3s\", base=2)\n",
      "\n",
      "becomes:\n",
      "\n",
      ">>> df.resample(freq=\"3s\", offset=\"2s\")\n",
      "\n",
      "  grouper = pd.Grouper(\n"
     ]
    },
    {
     "name": "stdout",
     "output_type": "stream",
     "text": [
      "JJAS\n",
      "ssp245\n",
      "Annual\n",
      "DJFMA\n"
     ]
    },
    {
     "name": "stderr",
     "output_type": "stream",
     "text": [
      "/data/mlalande/miniconda3/envs/phd_v3/lib/python3.8/site-packages/xarray/core/common.py:1123: FutureWarning: 'base' in .resample() and in Grouper() is deprecated.\n",
      "The new arguments that you should use are 'offset' or 'origin'.\n",
      "\n",
      ">>> df.resample(freq=\"3s\", base=2)\n",
      "\n",
      "becomes:\n",
      "\n",
      ">>> df.resample(freq=\"3s\", offset=\"2s\")\n",
      "\n",
      "  grouper = pd.Grouper(\n"
     ]
    },
    {
     "name": "stdout",
     "output_type": "stream",
     "text": [
      "JJAS\n",
      "ssp370\n",
      "Annual\n",
      "DJFMA\n"
     ]
    },
    {
     "name": "stderr",
     "output_type": "stream",
     "text": [
      "/data/mlalande/miniconda3/envs/phd_v3/lib/python3.8/site-packages/xarray/core/common.py:1123: FutureWarning: 'base' in .resample() and in Grouper() is deprecated.\n",
      "The new arguments that you should use are 'offset' or 'origin'.\n",
      "\n",
      ">>> df.resample(freq=\"3s\", base=2)\n",
      "\n",
      "becomes:\n",
      "\n",
      ">>> df.resample(freq=\"3s\", offset=\"2s\")\n",
      "\n",
      "  grouper = pd.Grouper(\n"
     ]
    },
    {
     "name": "stdout",
     "output_type": "stream",
     "text": [
      "JJAS\n",
      "ssp585\n",
      "Annual\n",
      "DJFMA\n"
     ]
    },
    {
     "name": "stderr",
     "output_type": "stream",
     "text": [
      "/data/mlalande/miniconda3/envs/phd_v3/lib/python3.8/site-packages/xarray/core/common.py:1123: FutureWarning: 'base' in .resample() and in Grouper() is deprecated.\n",
      "The new arguments that you should use are 'offset' or 'origin'.\n",
      "\n",
      ">>> df.resample(freq=\"3s\", base=2)\n",
      "\n",
      "becomes:\n",
      "\n",
      ">>> df.resample(freq=\"3s\", offset=\"2s\")\n",
      "\n",
      "  grouper = pd.Grouper(\n"
     ]
    },
    {
     "name": "stdout",
     "output_type": "stream",
     "text": [
      "JJAS\n",
      "\n",
      "\n",
      "UKESM1-0-LL (10/10)\n",
      "Load past\n",
      "1.875°x1.25°\n",
      "Annual\n",
      "Reuse existing file: bilinear_144x192_180x360.nc\n",
      "DJFMA\n",
      "Reuse existing file: bilinear_144x192_180x360.nc\n",
      "JJAS\n",
      "Reuse existing file: bilinear_144x192_180x360.nc\n",
      "Load future\n",
      "ssp126\n",
      "Annual\n",
      "DJFMA\n",
      "JJAS\n",
      "ssp245\n",
      "Annual\n",
      "DJFMA\n",
      "JJAS\n",
      "ssp370\n",
      "Annual\n",
      "DJFMA\n",
      "JJAS\n",
      "ssp585\n",
      "Annual\n",
      "DJFMA\n",
      "JJAS\n",
      "\n",
      "\n"
     ]
    }
   ],
   "source": [
    "list_models = u.get_model_names_projections()\n",
    "# list_models = list_models[:1]\n",
    "# list_models = ['EC-Earth3']\n",
    "\n",
    "resolution = [None]*len(list_models)\n",
    "\n",
    "da_past_ym_list = [[None] * (len(list_models)) for i in range(len(seasons))]\n",
    "\n",
    "scenarios = ['ssp126', 'ssp245', 'ssp370', 'ssp585']\n",
    "da_ssp126_ym_list = [[None] * (len(list_models)) for i in range(len(seasons))]\n",
    "da_ssp245_ym_list = [[None] * (len(list_models)) for i in range(len(seasons))]\n",
    "da_ssp370_ym_list = [[None] * (len(list_models)) for i in range(len(seasons))]\n",
    "da_ssp585_ym_list = [[None] * (len(list_models)) for i in range(len(seasons))]\n",
    "\n",
    "da_future_ym_list = [da_ssp126_ym_list, da_ssp245_ym_list, da_ssp370_ym_list, da_ssp585_ym_list]\n",
    "\n",
    "\n",
    "for i, model in enumerate(list_models):\n",
    "    print(model + ' ('+str(i+1)+'/'+str(len(list_models))+')')\n",
    "    institute, grid, realization, calendar = u.get_model_infos(model, var)\n",
    "    \n",
    "    #################\n",
    "    ### Load past ###\n",
    "    #################\n",
    "    print('Load past')\n",
    "    da_past = xr.open_mfdataset(\n",
    "        '/bdd/CMIP6/CMIP/'+institute+'/'+model+'/historical/'+realization+'/'+table+'/'+var+'/'+grid+'/latest/*.nc', \n",
    "        combine='by_coords').sel(time=period_past)[var].load()\n",
    "    \n",
    "    np.testing.assert_equal((int(period_past.stop) - int(period_past.start) + 1)*12, da_past.time.size)\n",
    "    \n",
    "    # tas (K -> °C)\n",
    "    #################################################################################\n",
    "\n",
    "    da_past -= 273.15\n",
    "        \n",
    "    #################################################################################\n",
    "    \n",
    "    # Print resolution and save it\n",
    "    lat = (da_past.lat[1] - da_past.lat[0]).values; lon = (da_past.lon[1] - da_past.lon[0]).values\n",
    "    print(str(lon.round(3))+'°x'+str(lat.round(3))+'°')\n",
    "    resolution[i] = str(lon.round(1))+'°x'+str(lat.round(1))+'°'\n",
    "    \n",
    "    for k, season in enumerate(seasons):\n",
    "        print(season)\n",
    "        # Make year_mean\n",
    "        da_past_ym = u.year_mean(da_past, calendar=calendar, season=season)\n",
    "\n",
    "        # Regrid\n",
    "        regridder = xe.Regridder(da_past, elevation, 'bilinear', periodic=False, reuse_weights=True)\n",
    "        da_past_ym_regrid = regridder(da_past_ym)\n",
    "\n",
    "        # Remove last year for Annual and summer to fit to winter\n",
    "        if season in ['Annual', 'JJAS']:\n",
    "            da_past_ym_regrid = da_past_ym_regrid.isel(year=slice(0,-1))\n",
    "        \n",
    "        # Store result\n",
    "        da_past_ym_list[k][i] = da_past_ym_regrid\n",
    "    \n",
    "    \n",
    "    \n",
    "    \n",
    "    ###################\n",
    "    ### Load future ###\n",
    "    ###################\n",
    "    print('Load future')\n",
    "    for j, scenario in enumerate(scenarios):\n",
    "        print(scenario)\n",
    "        if model in ['IPSL-CM6A-LR', 'MRI-ESM2-0']:\n",
    "            da_future = xr.open_mfdataset(\n",
    "                '/bdd/CMIP6/ScenarioMIP/'+institute+'/'+model+'/'+scenario+'/'+realization+'/'+table+'/'+var+'/'+grid+'/latest/*210012.nc', \n",
    "                combine='by_coords').sel(time=period_future)[var].load()\n",
    "        else:\n",
    "            da_future = xr.open_mfdataset(\n",
    "                '/bdd/CMIP6/ScenarioMIP/'+institute+'/'+model+'/'+scenario+'/'+realization+'/'+table+'/'+var+'/'+grid+'/latest/*.nc', \n",
    "                combine='by_coords').sel(time=period_future)[var].load()\n",
    "\n",
    "        np.testing.assert_equal((int(period_future.stop) - int(period_future.start) + 1)*12, da_future.time.size)\n",
    "        \n",
    "        # tas (K -> °C)\n",
    "        #################################################################################\n",
    "\n",
    "        da_future -= 273.15\n",
    "\n",
    "        #################################################################################\n",
    "        \n",
    "        for k, season in enumerate(seasons):\n",
    "            print(season)\n",
    "            # Make year_mean\n",
    "            da_future_ym = u.year_mean(da_future, calendar=calendar, season=season)\n",
    "\n",
    "            # Regrid\n",
    "            da_future_ym_regrid = regridder(da_future_ym)\n",
    "            \n",
    "            # Remove last year for Annual and summer to fit to winter\n",
    "            if season in ['Annual', 'JJAS']:\n",
    "                da_future_ym_regrid = da_future_ym_regrid.isel(year=slice(0,-1))\n",
    "\n",
    "            # Store result\n",
    "            da_future_ym_list[j][k][i] = da_future_ym_regrid\n",
    "        \n",
    "    print('\\n')"
   ]
  },
  {
   "cell_type": "code",
   "execution_count": 94,
   "metadata": {},
   "outputs": [],
   "source": [
    "# '/bdd/CMIP6/CMIP/'+institute+'/'+model+'/historical/'+realization+'/'+table+'/'+var+'/'+grid+'/latest'"
   ]
  },
  {
   "cell_type": "code",
   "execution_count": 95,
   "metadata": {},
   "outputs": [],
   "source": [
    "# '/bdd/CMIP6/ScenarioMIP/'+institute+'/'+model+'/'+scenario+'/'+realization+'/'+table+'/'+var+'/'+grid+'/latest/'"
   ]
  },
  {
   "cell_type": "markdown",
   "metadata": {},
   "source": [
    "## Concatenate results by zones and scenarios"
   ]
  },
  {
   "cell_type": "code",
   "execution_count": 7,
   "metadata": {},
   "outputs": [],
   "source": [
    "# Model past\n",
    "temp = [None]*len(seasons)\n",
    "for k, season in enumerate(seasons):\n",
    "    temp[k] = xr.concat(\n",
    "        da_past_ym_list[k][:], pd.Index(list_models, name='model'), coords='minimal', compat='override'\n",
    "    )\n",
    "mm_past_ym = xr.concat(temp, pd.Index(seasons, name=\"season\"))\n",
    "\n",
    "temp = [None]*len(zones) \n",
    "for i, zone in enumerate(zones):\n",
    "    if zone in ['HMA', 'HK', 'HM', 'TP']:\n",
    "        temp[i] = u.spatial_average(\n",
    "            mm_past_ym.sel(lat=zones_df.latlim[zone], lon=zones_df.lonlim[zone]).where(elevation > 2500)\n",
    "        )\n",
    "    elif zone == 'GLOB':\n",
    "        temp[i] = u.spatial_average(mm_past_ym)\n",
    "        \n",
    "    elif zone == 'GLOB-land':\n",
    "        temp[i] = u.spatial_average(mm_past_ym.where(mask == 1))\n",
    "        \n",
    "    elif zone == 'NH-land':\n",
    "        temp[i] = u.spatial_average(mm_past_ym.where(mask == 1).sel(lat=zones_df.latlim[zone], lon=zones_df.lonlim[zone]))\n",
    "        \n",
    "mm_past_ym_zones = xr.concat(temp, pd.Index(zones, name=\"zone\")).load()"
   ]
  },
  {
   "cell_type": "code",
   "execution_count": 11,
   "metadata": {},
   "outputs": [],
   "source": [
    "# mm_past_ym_zones"
   ]
  },
  {
   "cell_type": "code",
   "execution_count": 8,
   "metadata": {},
   "outputs": [],
   "source": [
    "# Model future\n",
    "temp_scenarios = [None]*len(scenarios)\n",
    "\n",
    "for j, scenario in enumerate(scenarios):\n",
    "    temp = [None]*len(seasons)\n",
    "    for k, season in enumerate(seasons):\n",
    "        temp[k] = xr.concat(\n",
    "            da_future_ym_list[j][k][:], pd.Index(list_models, name='model'), coords='minimal', compat='override'\n",
    "        )        \n",
    "    mm_future_ym = xr.concat(temp, pd.Index(seasons, name=\"season\")).load()\n",
    "\n",
    "    temp = [None]*len(zones) \n",
    "    for i, zone in enumerate(zones):\n",
    "        if zone in ['HMA', 'HK', 'HM', 'TP']:\n",
    "            temp[i] = u.spatial_average(\n",
    "                mm_future_ym.sel(lat=zones_df.latlim[zone], lon=zones_df.lonlim[zone]).where(elevation > 2500)\n",
    "            )\n",
    "        elif zone == 'GLOB':\n",
    "            temp[i] = u.spatial_average(mm_future_ym)\n",
    "            \n",
    "        elif zone == 'GLOB-land':\n",
    "            temp[i] = u.spatial_average(mm_future_ym.where(mask == 1))\n",
    "        \n",
    "        elif zone == 'NH-land':\n",
    "            temp[i] = u.spatial_average(mm_future_ym.where(mask == 1).sel(lat=zones_df.latlim[zone], lon=zones_df.lonlim[zone]))\n",
    "        \n",
    "        \n",
    "    temp_scenarios[j] = xr.concat(temp, pd.Index(zones, name=\"zone\")).load()\n",
    "    \n",
    "mm_future_ym_zones_scenarios = xr.concat(temp_scenarios, pd.Index(scenarios, name=\"scenario\")).load()"
   ]
  },
  {
   "cell_type": "code",
   "execution_count": 10,
   "metadata": {},
   "outputs": [
    {
     "data": {
      "text/html": [
       "<div><svg style=\"position: absolute; width: 0; height: 0; overflow: hidden\">\n",
       "<defs>\n",
       "<symbol id=\"icon-database\" viewBox=\"0 0 32 32\">\n",
       "<path d=\"M16 0c-8.837 0-16 2.239-16 5v4c0 2.761 7.163 5 16 5s16-2.239 16-5v-4c0-2.761-7.163-5-16-5z\"></path>\n",
       "<path d=\"M16 17c-8.837 0-16-2.239-16-5v6c0 2.761 7.163 5 16 5s16-2.239 16-5v-6c0 2.761-7.163 5-16 5z\"></path>\n",
       "<path d=\"M16 26c-8.837 0-16-2.239-16-5v6c0 2.761 7.163 5 16 5s16-2.239 16-5v-6c0 2.761-7.163 5-16 5z\"></path>\n",
       "</symbol>\n",
       "<symbol id=\"icon-file-text2\" viewBox=\"0 0 32 32\">\n",
       "<path d=\"M28.681 7.159c-0.694-0.947-1.662-2.053-2.724-3.116s-2.169-2.030-3.116-2.724c-1.612-1.182-2.393-1.319-2.841-1.319h-15.5c-1.378 0-2.5 1.121-2.5 2.5v27c0 1.378 1.122 2.5 2.5 2.5h23c1.378 0 2.5-1.122 2.5-2.5v-19.5c0-0.448-0.137-1.23-1.319-2.841zM24.543 5.457c0.959 0.959 1.712 1.825 2.268 2.543h-4.811v-4.811c0.718 0.556 1.584 1.309 2.543 2.268zM28 29.5c0 0.271-0.229 0.5-0.5 0.5h-23c-0.271 0-0.5-0.229-0.5-0.5v-27c0-0.271 0.229-0.5 0.5-0.5 0 0 15.499-0 15.5 0v7c0 0.552 0.448 1 1 1h7v19.5z\"></path>\n",
       "<path d=\"M23 26h-14c-0.552 0-1-0.448-1-1s0.448-1 1-1h14c0.552 0 1 0.448 1 1s-0.448 1-1 1z\"></path>\n",
       "<path d=\"M23 22h-14c-0.552 0-1-0.448-1-1s0.448-1 1-1h14c0.552 0 1 0.448 1 1s-0.448 1-1 1z\"></path>\n",
       "<path d=\"M23 18h-14c-0.552 0-1-0.448-1-1s0.448-1 1-1h14c0.552 0 1 0.448 1 1s-0.448 1-1 1z\"></path>\n",
       "</symbol>\n",
       "</defs>\n",
       "</svg>\n",
       "<style>/* CSS stylesheet for displaying xarray objects in jupyterlab.\n",
       " *\n",
       " */\n",
       "\n",
       ":root {\n",
       "  --xr-font-color0: var(--jp-content-font-color0, rgba(0, 0, 0, 1));\n",
       "  --xr-font-color2: var(--jp-content-font-color2, rgba(0, 0, 0, 0.54));\n",
       "  --xr-font-color3: var(--jp-content-font-color3, rgba(0, 0, 0, 0.38));\n",
       "  --xr-border-color: var(--jp-border-color2, #e0e0e0);\n",
       "  --xr-disabled-color: var(--jp-layout-color3, #bdbdbd);\n",
       "  --xr-background-color: var(--jp-layout-color0, white);\n",
       "  --xr-background-color-row-even: var(--jp-layout-color1, white);\n",
       "  --xr-background-color-row-odd: var(--jp-layout-color2, #eeeeee);\n",
       "}\n",
       "\n",
       "html[theme=dark],\n",
       "body.vscode-dark {\n",
       "  --xr-font-color0: rgba(255, 255, 255, 1);\n",
       "  --xr-font-color2: rgba(255, 255, 255, 0.54);\n",
       "  --xr-font-color3: rgba(255, 255, 255, 0.38);\n",
       "  --xr-border-color: #1F1F1F;\n",
       "  --xr-disabled-color: #515151;\n",
       "  --xr-background-color: #111111;\n",
       "  --xr-background-color-row-even: #111111;\n",
       "  --xr-background-color-row-odd: #313131;\n",
       "}\n",
       "\n",
       ".xr-wrap {\n",
       "  display: block;\n",
       "  min-width: 300px;\n",
       "  max-width: 700px;\n",
       "}\n",
       "\n",
       ".xr-text-repr-fallback {\n",
       "  /* fallback to plain text repr when CSS is not injected (untrusted notebook) */\n",
       "  display: none;\n",
       "}\n",
       "\n",
       ".xr-header {\n",
       "  padding-top: 6px;\n",
       "  padding-bottom: 6px;\n",
       "  margin-bottom: 4px;\n",
       "  border-bottom: solid 1px var(--xr-border-color);\n",
       "}\n",
       "\n",
       ".xr-header > div,\n",
       ".xr-header > ul {\n",
       "  display: inline;\n",
       "  margin-top: 0;\n",
       "  margin-bottom: 0;\n",
       "}\n",
       "\n",
       ".xr-obj-type,\n",
       ".xr-array-name {\n",
       "  margin-left: 2px;\n",
       "  margin-right: 10px;\n",
       "}\n",
       "\n",
       ".xr-obj-type {\n",
       "  color: var(--xr-font-color2);\n",
       "}\n",
       "\n",
       ".xr-sections {\n",
       "  padding-left: 0 !important;\n",
       "  display: grid;\n",
       "  grid-template-columns: 150px auto auto 1fr 20px 20px;\n",
       "}\n",
       "\n",
       ".xr-section-item {\n",
       "  display: contents;\n",
       "}\n",
       "\n",
       ".xr-section-item input {\n",
       "  display: none;\n",
       "}\n",
       "\n",
       ".xr-section-item input + label {\n",
       "  color: var(--xr-disabled-color);\n",
       "}\n",
       "\n",
       ".xr-section-item input:enabled + label {\n",
       "  cursor: pointer;\n",
       "  color: var(--xr-font-color2);\n",
       "}\n",
       "\n",
       ".xr-section-item input:enabled + label:hover {\n",
       "  color: var(--xr-font-color0);\n",
       "}\n",
       "\n",
       ".xr-section-summary {\n",
       "  grid-column: 1;\n",
       "  color: var(--xr-font-color2);\n",
       "  font-weight: 500;\n",
       "}\n",
       "\n",
       ".xr-section-summary > span {\n",
       "  display: inline-block;\n",
       "  padding-left: 0.5em;\n",
       "}\n",
       "\n",
       ".xr-section-summary-in:disabled + label {\n",
       "  color: var(--xr-font-color2);\n",
       "}\n",
       "\n",
       ".xr-section-summary-in + label:before {\n",
       "  display: inline-block;\n",
       "  content: '►';\n",
       "  font-size: 11px;\n",
       "  width: 15px;\n",
       "  text-align: center;\n",
       "}\n",
       "\n",
       ".xr-section-summary-in:disabled + label:before {\n",
       "  color: var(--xr-disabled-color);\n",
       "}\n",
       "\n",
       ".xr-section-summary-in:checked + label:before {\n",
       "  content: '▼';\n",
       "}\n",
       "\n",
       ".xr-section-summary-in:checked + label > span {\n",
       "  display: none;\n",
       "}\n",
       "\n",
       ".xr-section-summary,\n",
       ".xr-section-inline-details {\n",
       "  padding-top: 4px;\n",
       "  padding-bottom: 4px;\n",
       "}\n",
       "\n",
       ".xr-section-inline-details {\n",
       "  grid-column: 2 / -1;\n",
       "}\n",
       "\n",
       ".xr-section-details {\n",
       "  display: none;\n",
       "  grid-column: 1 / -1;\n",
       "  margin-bottom: 5px;\n",
       "}\n",
       "\n",
       ".xr-section-summary-in:checked ~ .xr-section-details {\n",
       "  display: contents;\n",
       "}\n",
       "\n",
       ".xr-array-wrap {\n",
       "  grid-column: 1 / -1;\n",
       "  display: grid;\n",
       "  grid-template-columns: 20px auto;\n",
       "}\n",
       "\n",
       ".xr-array-wrap > label {\n",
       "  grid-column: 1;\n",
       "  vertical-align: top;\n",
       "}\n",
       "\n",
       ".xr-preview {\n",
       "  color: var(--xr-font-color3);\n",
       "}\n",
       "\n",
       ".xr-array-preview,\n",
       ".xr-array-data {\n",
       "  padding: 0 5px !important;\n",
       "  grid-column: 2;\n",
       "}\n",
       "\n",
       ".xr-array-data,\n",
       ".xr-array-in:checked ~ .xr-array-preview {\n",
       "  display: none;\n",
       "}\n",
       "\n",
       ".xr-array-in:checked ~ .xr-array-data,\n",
       ".xr-array-preview {\n",
       "  display: inline-block;\n",
       "}\n",
       "\n",
       ".xr-dim-list {\n",
       "  display: inline-block !important;\n",
       "  list-style: none;\n",
       "  padding: 0 !important;\n",
       "  margin: 0;\n",
       "}\n",
       "\n",
       ".xr-dim-list li {\n",
       "  display: inline-block;\n",
       "  padding: 0;\n",
       "  margin: 0;\n",
       "}\n",
       "\n",
       ".xr-dim-list:before {\n",
       "  content: '(';\n",
       "}\n",
       "\n",
       ".xr-dim-list:after {\n",
       "  content: ')';\n",
       "}\n",
       "\n",
       ".xr-dim-list li:not(:last-child):after {\n",
       "  content: ',';\n",
       "  padding-right: 5px;\n",
       "}\n",
       "\n",
       ".xr-has-index {\n",
       "  font-weight: bold;\n",
       "}\n",
       "\n",
       ".xr-var-list,\n",
       ".xr-var-item {\n",
       "  display: contents;\n",
       "}\n",
       "\n",
       ".xr-var-item > div,\n",
       ".xr-var-item label,\n",
       ".xr-var-item > .xr-var-name span {\n",
       "  background-color: var(--xr-background-color-row-even);\n",
       "  margin-bottom: 0;\n",
       "}\n",
       "\n",
       ".xr-var-item > .xr-var-name:hover span {\n",
       "  padding-right: 5px;\n",
       "}\n",
       "\n",
       ".xr-var-list > li:nth-child(odd) > div,\n",
       ".xr-var-list > li:nth-child(odd) > label,\n",
       ".xr-var-list > li:nth-child(odd) > .xr-var-name span {\n",
       "  background-color: var(--xr-background-color-row-odd);\n",
       "}\n",
       "\n",
       ".xr-var-name {\n",
       "  grid-column: 1;\n",
       "}\n",
       "\n",
       ".xr-var-dims {\n",
       "  grid-column: 2;\n",
       "}\n",
       "\n",
       ".xr-var-dtype {\n",
       "  grid-column: 3;\n",
       "  text-align: right;\n",
       "  color: var(--xr-font-color2);\n",
       "}\n",
       "\n",
       ".xr-var-preview {\n",
       "  grid-column: 4;\n",
       "}\n",
       "\n",
       ".xr-var-name,\n",
       ".xr-var-dims,\n",
       ".xr-var-dtype,\n",
       ".xr-preview,\n",
       ".xr-attrs dt {\n",
       "  white-space: nowrap;\n",
       "  overflow: hidden;\n",
       "  text-overflow: ellipsis;\n",
       "  padding-right: 10px;\n",
       "}\n",
       "\n",
       ".xr-var-name:hover,\n",
       ".xr-var-dims:hover,\n",
       ".xr-var-dtype:hover,\n",
       ".xr-attrs dt:hover {\n",
       "  overflow: visible;\n",
       "  width: auto;\n",
       "  z-index: 1;\n",
       "}\n",
       "\n",
       ".xr-var-attrs,\n",
       ".xr-var-data {\n",
       "  display: none;\n",
       "  background-color: var(--xr-background-color) !important;\n",
       "  padding-bottom: 5px !important;\n",
       "}\n",
       "\n",
       ".xr-var-attrs-in:checked ~ .xr-var-attrs,\n",
       ".xr-var-data-in:checked ~ .xr-var-data {\n",
       "  display: block;\n",
       "}\n",
       "\n",
       ".xr-var-data > table {\n",
       "  float: right;\n",
       "}\n",
       "\n",
       ".xr-var-name span,\n",
       ".xr-var-data,\n",
       ".xr-attrs {\n",
       "  padding-left: 25px !important;\n",
       "}\n",
       "\n",
       ".xr-attrs,\n",
       ".xr-var-attrs,\n",
       ".xr-var-data {\n",
       "  grid-column: 1 / -1;\n",
       "}\n",
       "\n",
       "dl.xr-attrs {\n",
       "  padding: 0;\n",
       "  margin: 0;\n",
       "  display: grid;\n",
       "  grid-template-columns: 125px auto;\n",
       "}\n",
       "\n",
       ".xr-attrs dt, dd {\n",
       "  padding: 0;\n",
       "  margin: 0;\n",
       "  float: left;\n",
       "  padding-right: 10px;\n",
       "  width: auto;\n",
       "}\n",
       "\n",
       ".xr-attrs dt {\n",
       "  font-weight: normal;\n",
       "  grid-column: 1;\n",
       "}\n",
       "\n",
       ".xr-attrs dt:hover span {\n",
       "  display: inline-block;\n",
       "  background: var(--xr-background-color);\n",
       "  padding-right: 10px;\n",
       "}\n",
       "\n",
       ".xr-attrs dd {\n",
       "  grid-column: 2;\n",
       "  white-space: pre-wrap;\n",
       "  word-break: break-all;\n",
       "}\n",
       "\n",
       ".xr-icon-database,\n",
       ".xr-icon-file-text2 {\n",
       "  display: inline-block;\n",
       "  vertical-align: middle;\n",
       "  width: 1em;\n",
       "  height: 1.5em !important;\n",
       "  stroke-width: 0;\n",
       "  stroke: currentColor;\n",
       "  fill: currentColor;\n",
       "}\n",
       "</style><pre class='xr-text-repr-fallback'>&lt;xarray.DataArray (scenario: 4, zone: 7, season: 3, model: 10, year: 85)&gt;\n",
       "array([[[[[ 1.55340899e+01,  1.57243563e+01,  1.57915929e+01, ...,\n",
       "            1.61486990e+01,  1.61779667e+01,  1.62828625e+01],\n",
       "          [ 1.39220680e+01,  1.40877899e+01,  1.38026472e+01, ...,\n",
       "            1.49122808e+01,  1.50827642e+01,  1.49354629e+01],\n",
       "          [ 1.37771410e+01,  1.38268597e+01,  1.37614734e+01, ...,\n",
       "            1.51451167e+01,  1.52197741e+01,  1.52336352e+01],\n",
       "          ...,\n",
       "          [ 1.57354967e+01,  1.56749490e+01,  1.57794898e+01, ...,\n",
       "            1.66030521e+01,  1.68382273e+01,  1.70125422e+01],\n",
       "          [ 1.47806361e+01,  1.48197731e+01,  1.47079905e+01, ...,\n",
       "            1.53295861e+01,  1.52836449e+01,  1.53417102e+01],\n",
       "          [ 1.43817125e+01,  1.43988436e+01,  1.44684269e+01, ...,\n",
       "            1.57540666e+01,  1.58043261e+01,  1.59891030e+01]],\n",
       "\n",
       "         [[ 1.43338213e+01,  1.46674508e+01,  1.43922089e+01, ...,\n",
       "            1.49450770e+01,  1.50595931e+01,  1.51270786e+01],\n",
       "          [ 1.28671744e+01,  1.25130462e+01,  1.25973543e+01, ...,\n",
       "            1.38381278e+01,  1.36562646e+01,  1.34846997e+01],\n",
       "          [ 1.24999695e+01,  1.24139653e+01,  1.25217720e+01, ...,\n",
       "            1.38885385e+01,  1.38869755e+01,  1.38621588e+01],\n",
       "...\n",
       "          [-9.77929152e+00, -9.46541203e+00, -1.06240419e+01, ...,\n",
       "           -4.68112179e+00, -4.47869997e+00, -5.19467172e+00],\n",
       "          [-1.37920561e+01, -1.27292065e+01, -1.30564570e+01, ...,\n",
       "           -6.47682299e+00, -6.95948930e+00, -8.25996483e+00],\n",
       "          [-9.69444841e+00, -9.35925265e+00, -9.53237371e+00, ...,\n",
       "           -7.14507980e-01, -2.24564813e+00, -2.82919531e+00]],\n",
       "\n",
       "         [[ 5.73589076e+00,  5.03586594e+00,  6.04078976e+00, ...,\n",
       "            1.07135529e+01,  1.05796959e+01,  1.05646101e+01],\n",
       "          [ 3.81879450e+00,  4.34653657e+00,  3.52458102e+00, ...,\n",
       "            1.07867246e+01,  1.04330375e+01,  1.10598046e+01],\n",
       "          [ 2.53787782e+00,  2.15054227e+00,  2.13409231e+00, ...,\n",
       "            8.68218321e+00,  9.31512112e+00,  9.83186441e+00],\n",
       "          ...,\n",
       "          [ 9.27206777e+00,  8.54931795e+00,  8.97820883e+00, ...,\n",
       "            1.35576021e+01,  1.41769112e+01,  1.33106097e+01],\n",
       "          [ 7.35329036e+00,  6.48223477e+00,  7.13612066e+00, ...,\n",
       "            1.31932410e+01,  1.19895593e+01,  1.15569765e+01],\n",
       "          [ 7.56950978e+00,  6.99431475e+00,  7.49404822e+00, ...,\n",
       "            1.47812724e+01,  1.53099394e+01,  1.50459935e+01]]]]])\n",
       "Coordinates:\n",
       "    height    float64 2.0\n",
       "    time      datetime64[ns] 2000-01-01\n",
       "  * zone      (zone) object &#x27;GLOB&#x27; &#x27;GLOB-land&#x27; &#x27;NH-land&#x27; &#x27;HMA&#x27; &#x27;HK&#x27; &#x27;HM&#x27; &#x27;TP&#x27;\n",
       "  * model     (model) object &#x27;BCC-CSM2-MR&#x27; &#x27;CNRM-CM6-1&#x27; ... &#x27;UKESM1-0-LL&#x27;\n",
       "  * season    (season) object &#x27;Annual&#x27; &#x27;DJFMA&#x27; &#x27;JJAS&#x27;\n",
       "  * year      (year) int64 2015 2016 2017 2018 2019 ... 2095 2096 2097 2098 2099\n",
       "  * scenario  (scenario) object &#x27;ssp126&#x27; &#x27;ssp245&#x27; &#x27;ssp370&#x27; &#x27;ssp585&#x27;\n",
       "Attributes:\n",
       "    regrid_method:  bilinear</pre><div class='xr-wrap' hidden><div class='xr-header'><div class='xr-obj-type'>xarray.DataArray</div><div class='xr-array-name'></div><ul class='xr-dim-list'><li><span class='xr-has-index'>scenario</span>: 4</li><li><span class='xr-has-index'>zone</span>: 7</li><li><span class='xr-has-index'>season</span>: 3</li><li><span class='xr-has-index'>model</span>: 10</li><li><span class='xr-has-index'>year</span>: 85</li></ul></div><ul class='xr-sections'><li class='xr-section-item'><div class='xr-array-wrap'><input id='section-d8b708d0-a819-42b7-ae47-544a171d94d6' class='xr-array-in' type='checkbox' checked><label for='section-d8b708d0-a819-42b7-ae47-544a171d94d6' title='Show/hide data repr'><svg class='icon xr-icon-database'><use xlink:href='#icon-database'></use></svg></label><div class='xr-array-preview xr-preview'><span>15.53 15.72 15.79 15.64 15.67 15.73 ... 14.78 15.79 14.78 15.31 15.05</span></div><div class='xr-array-data'><pre>array([[[[[ 1.55340899e+01,  1.57243563e+01,  1.57915929e+01, ...,\n",
       "            1.61486990e+01,  1.61779667e+01,  1.62828625e+01],\n",
       "          [ 1.39220680e+01,  1.40877899e+01,  1.38026472e+01, ...,\n",
       "            1.49122808e+01,  1.50827642e+01,  1.49354629e+01],\n",
       "          [ 1.37771410e+01,  1.38268597e+01,  1.37614734e+01, ...,\n",
       "            1.51451167e+01,  1.52197741e+01,  1.52336352e+01],\n",
       "          ...,\n",
       "          [ 1.57354967e+01,  1.56749490e+01,  1.57794898e+01, ...,\n",
       "            1.66030521e+01,  1.68382273e+01,  1.70125422e+01],\n",
       "          [ 1.47806361e+01,  1.48197731e+01,  1.47079905e+01, ...,\n",
       "            1.53295861e+01,  1.52836449e+01,  1.53417102e+01],\n",
       "          [ 1.43817125e+01,  1.43988436e+01,  1.44684269e+01, ...,\n",
       "            1.57540666e+01,  1.58043261e+01,  1.59891030e+01]],\n",
       "\n",
       "         [[ 1.43338213e+01,  1.46674508e+01,  1.43922089e+01, ...,\n",
       "            1.49450770e+01,  1.50595931e+01,  1.51270786e+01],\n",
       "          [ 1.28671744e+01,  1.25130462e+01,  1.25973543e+01, ...,\n",
       "            1.38381278e+01,  1.36562646e+01,  1.34846997e+01],\n",
       "          [ 1.24999695e+01,  1.24139653e+01,  1.25217720e+01, ...,\n",
       "            1.38885385e+01,  1.38869755e+01,  1.38621588e+01],\n",
       "...\n",
       "          [-9.77929152e+00, -9.46541203e+00, -1.06240419e+01, ...,\n",
       "           -4.68112179e+00, -4.47869997e+00, -5.19467172e+00],\n",
       "          [-1.37920561e+01, -1.27292065e+01, -1.30564570e+01, ...,\n",
       "           -6.47682299e+00, -6.95948930e+00, -8.25996483e+00],\n",
       "          [-9.69444841e+00, -9.35925265e+00, -9.53237371e+00, ...,\n",
       "           -7.14507980e-01, -2.24564813e+00, -2.82919531e+00]],\n",
       "\n",
       "         [[ 5.73589076e+00,  5.03586594e+00,  6.04078976e+00, ...,\n",
       "            1.07135529e+01,  1.05796959e+01,  1.05646101e+01],\n",
       "          [ 3.81879450e+00,  4.34653657e+00,  3.52458102e+00, ...,\n",
       "            1.07867246e+01,  1.04330375e+01,  1.10598046e+01],\n",
       "          [ 2.53787782e+00,  2.15054227e+00,  2.13409231e+00, ...,\n",
       "            8.68218321e+00,  9.31512112e+00,  9.83186441e+00],\n",
       "          ...,\n",
       "          [ 9.27206777e+00,  8.54931795e+00,  8.97820883e+00, ...,\n",
       "            1.35576021e+01,  1.41769112e+01,  1.33106097e+01],\n",
       "          [ 7.35329036e+00,  6.48223477e+00,  7.13612066e+00, ...,\n",
       "            1.31932410e+01,  1.19895593e+01,  1.15569765e+01],\n",
       "          [ 7.56950978e+00,  6.99431475e+00,  7.49404822e+00, ...,\n",
       "            1.47812724e+01,  1.53099394e+01,  1.50459935e+01]]]]])</pre></div></div></li><li class='xr-section-item'><input id='section-5ac841f9-b425-4230-8789-80ce851c0fb2' class='xr-section-summary-in' type='checkbox'  checked><label for='section-5ac841f9-b425-4230-8789-80ce851c0fb2' class='xr-section-summary' >Coordinates: <span>(7)</span></label><div class='xr-section-inline-details'></div><div class='xr-section-details'><ul class='xr-var-list'><li class='xr-var-item'><div class='xr-var-name'><span>height</span></div><div class='xr-var-dims'>()</div><div class='xr-var-dtype'>float64</div><div class='xr-var-preview xr-preview'>2.0</div><input id='attrs-d152d5f8-4e9f-4aa8-acc2-c79aaec110c2' class='xr-var-attrs-in' type='checkbox' ><label for='attrs-d152d5f8-4e9f-4aa8-acc2-c79aaec110c2' title='Show/Hide attributes'><svg class='icon xr-icon-file-text2'><use xlink:href='#icon-file-text2'></use></svg></label><input id='data-d4c5e41e-43f3-4c19-b22c-3ecf72daf2c4' class='xr-var-data-in' type='checkbox'><label for='data-d4c5e41e-43f3-4c19-b22c-3ecf72daf2c4' title='Show/Hide data repr'><svg class='icon xr-icon-database'><use xlink:href='#icon-database'></use></svg></label><div class='xr-var-attrs'><dl class='xr-attrs'><dt><span>units :</span></dt><dd>m</dd><dt><span>axis :</span></dt><dd>Z</dd><dt><span>positive :</span></dt><dd>up</dd><dt><span>long_name :</span></dt><dd>height</dd><dt><span>standard_name :</span></dt><dd>height</dd></dl></div><div class='xr-var-data'><pre>array(2.)</pre></div></li><li class='xr-var-item'><div class='xr-var-name'><span>time</span></div><div class='xr-var-dims'>()</div><div class='xr-var-dtype'>datetime64[ns]</div><div class='xr-var-preview xr-preview'>2000-01-01</div><input id='attrs-4fa1c00a-7e73-44e1-9539-8053a29d8567' class='xr-var-attrs-in' type='checkbox' ><label for='attrs-4fa1c00a-7e73-44e1-9539-8053a29d8567' title='Show/Hide attributes'><svg class='icon xr-icon-file-text2'><use xlink:href='#icon-file-text2'></use></svg></label><input id='data-41eb207a-4e7b-43df-b7ce-e91772b5ad2c' class='xr-var-data-in' type='checkbox'><label for='data-41eb207a-4e7b-43df-b7ce-e91772b5ad2c' title='Show/Hide data repr'><svg class='icon xr-icon-database'><use xlink:href='#icon-database'></use></svg></label><div class='xr-var-attrs'><dl class='xr-attrs'><dt><span>long_name :</span></dt><dd>time</dd><dt><span>time_increment :</span></dt><dd>1</dd><dt><span>bounds :</span></dt><dd>time_bnds</dd></dl></div><div class='xr-var-data'><pre>array(&#x27;2000-01-01T00:00:00.000000000&#x27;, dtype=&#x27;datetime64[ns]&#x27;)</pre></div></li><li class='xr-var-item'><div class='xr-var-name'><span class='xr-has-index'>zone</span></div><div class='xr-var-dims'>(zone)</div><div class='xr-var-dtype'>object</div><div class='xr-var-preview xr-preview'>&#x27;GLOB&#x27; &#x27;GLOB-land&#x27; ... &#x27;HM&#x27; &#x27;TP&#x27;</div><input id='attrs-3a45c4e0-009e-4c66-a490-8f3e778d408c' class='xr-var-attrs-in' type='checkbox' disabled><label for='attrs-3a45c4e0-009e-4c66-a490-8f3e778d408c' title='Show/Hide attributes'><svg class='icon xr-icon-file-text2'><use xlink:href='#icon-file-text2'></use></svg></label><input id='data-ffbba2af-fde2-489d-8ee5-0447a35e832f' class='xr-var-data-in' type='checkbox'><label for='data-ffbba2af-fde2-489d-8ee5-0447a35e832f' title='Show/Hide data repr'><svg class='icon xr-icon-database'><use xlink:href='#icon-database'></use></svg></label><div class='xr-var-attrs'><dl class='xr-attrs'></dl></div><div class='xr-var-data'><pre>array([&#x27;GLOB&#x27;, &#x27;GLOB-land&#x27;, &#x27;NH-land&#x27;, &#x27;HMA&#x27;, &#x27;HK&#x27;, &#x27;HM&#x27;, &#x27;TP&#x27;], dtype=object)</pre></div></li><li class='xr-var-item'><div class='xr-var-name'><span class='xr-has-index'>model</span></div><div class='xr-var-dims'>(model)</div><div class='xr-var-dtype'>object</div><div class='xr-var-preview xr-preview'>&#x27;BCC-CSM2-MR&#x27; ... &#x27;UKESM1-0-LL&#x27;</div><input id='attrs-1e8c9666-9193-4d87-ab66-cc9061a003b5' class='xr-var-attrs-in' type='checkbox' disabled><label for='attrs-1e8c9666-9193-4d87-ab66-cc9061a003b5' title='Show/Hide attributes'><svg class='icon xr-icon-file-text2'><use xlink:href='#icon-file-text2'></use></svg></label><input id='data-0d6bd55e-9932-4380-8f76-d69cd4ee72bf' class='xr-var-data-in' type='checkbox'><label for='data-0d6bd55e-9932-4380-8f76-d69cd4ee72bf' title='Show/Hide data repr'><svg class='icon xr-icon-database'><use xlink:href='#icon-database'></use></svg></label><div class='xr-var-attrs'><dl class='xr-attrs'></dl></div><div class='xr-var-data'><pre>array([&#x27;BCC-CSM2-MR&#x27;, &#x27;CNRM-CM6-1&#x27;, &#x27;CNRM-CM6-1-HR&#x27;, &#x27;CNRM-ESM2-1&#x27;, &#x27;CanESM5&#x27;,\n",
       "       &#x27;IPSL-CM6A-LR&#x27;, &#x27;MIROC-ES2L&#x27;, &#x27;MIROC6&#x27;, &#x27;MRI-ESM2-0&#x27;, &#x27;UKESM1-0-LL&#x27;],\n",
       "      dtype=object)</pre></div></li><li class='xr-var-item'><div class='xr-var-name'><span class='xr-has-index'>season</span></div><div class='xr-var-dims'>(season)</div><div class='xr-var-dtype'>object</div><div class='xr-var-preview xr-preview'>&#x27;Annual&#x27; &#x27;DJFMA&#x27; &#x27;JJAS&#x27;</div><input id='attrs-7280befb-7208-4f12-89db-bcf30f69af18' class='xr-var-attrs-in' type='checkbox' disabled><label for='attrs-7280befb-7208-4f12-89db-bcf30f69af18' title='Show/Hide attributes'><svg class='icon xr-icon-file-text2'><use xlink:href='#icon-file-text2'></use></svg></label><input id='data-04fbcf31-152c-406b-bee8-1dc46499925f' class='xr-var-data-in' type='checkbox'><label for='data-04fbcf31-152c-406b-bee8-1dc46499925f' title='Show/Hide data repr'><svg class='icon xr-icon-database'><use xlink:href='#icon-database'></use></svg></label><div class='xr-var-attrs'><dl class='xr-attrs'></dl></div><div class='xr-var-data'><pre>array([&#x27;Annual&#x27;, &#x27;DJFMA&#x27;, &#x27;JJAS&#x27;], dtype=object)</pre></div></li><li class='xr-var-item'><div class='xr-var-name'><span class='xr-has-index'>year</span></div><div class='xr-var-dims'>(year)</div><div class='xr-var-dtype'>int64</div><div class='xr-var-preview xr-preview'>2015 2016 2017 ... 2097 2098 2099</div><input id='attrs-fed8b33d-8003-4f9c-8be6-9893d821ac85' class='xr-var-attrs-in' type='checkbox' disabled><label for='attrs-fed8b33d-8003-4f9c-8be6-9893d821ac85' title='Show/Hide attributes'><svg class='icon xr-icon-file-text2'><use xlink:href='#icon-file-text2'></use></svg></label><input id='data-780c4c9e-5843-4844-ba76-8d65e47e479b' class='xr-var-data-in' type='checkbox'><label for='data-780c4c9e-5843-4844-ba76-8d65e47e479b' title='Show/Hide data repr'><svg class='icon xr-icon-database'><use xlink:href='#icon-database'></use></svg></label><div class='xr-var-attrs'><dl class='xr-attrs'></dl></div><div class='xr-var-data'><pre>array([2015, 2016, 2017, 2018, 2019, 2020, 2021, 2022, 2023, 2024, 2025, 2026,\n",
       "       2027, 2028, 2029, 2030, 2031, 2032, 2033, 2034, 2035, 2036, 2037, 2038,\n",
       "       2039, 2040, 2041, 2042, 2043, 2044, 2045, 2046, 2047, 2048, 2049, 2050,\n",
       "       2051, 2052, 2053, 2054, 2055, 2056, 2057, 2058, 2059, 2060, 2061, 2062,\n",
       "       2063, 2064, 2065, 2066, 2067, 2068, 2069, 2070, 2071, 2072, 2073, 2074,\n",
       "       2075, 2076, 2077, 2078, 2079, 2080, 2081, 2082, 2083, 2084, 2085, 2086,\n",
       "       2087, 2088, 2089, 2090, 2091, 2092, 2093, 2094, 2095, 2096, 2097, 2098,\n",
       "       2099])</pre></div></li><li class='xr-var-item'><div class='xr-var-name'><span class='xr-has-index'>scenario</span></div><div class='xr-var-dims'>(scenario)</div><div class='xr-var-dtype'>object</div><div class='xr-var-preview xr-preview'>&#x27;ssp126&#x27; &#x27;ssp245&#x27; &#x27;ssp370&#x27; &#x27;ssp585&#x27;</div><input id='attrs-95f06086-bf76-4a09-b894-1fff11232bc8' class='xr-var-attrs-in' type='checkbox' disabled><label for='attrs-95f06086-bf76-4a09-b894-1fff11232bc8' title='Show/Hide attributes'><svg class='icon xr-icon-file-text2'><use xlink:href='#icon-file-text2'></use></svg></label><input id='data-e11f7fdf-08c4-405a-9b8c-057d841589ad' class='xr-var-data-in' type='checkbox'><label for='data-e11f7fdf-08c4-405a-9b8c-057d841589ad' title='Show/Hide data repr'><svg class='icon xr-icon-database'><use xlink:href='#icon-database'></use></svg></label><div class='xr-var-attrs'><dl class='xr-attrs'></dl></div><div class='xr-var-data'><pre>array([&#x27;ssp126&#x27;, &#x27;ssp245&#x27;, &#x27;ssp370&#x27;, &#x27;ssp585&#x27;], dtype=object)</pre></div></li></ul></div></li><li class='xr-section-item'><input id='section-9b3723c0-8f35-48a7-845a-b7b54ea3f434' class='xr-section-summary-in' type='checkbox'  checked><label for='section-9b3723c0-8f35-48a7-845a-b7b54ea3f434' class='xr-section-summary' >Attributes: <span>(1)</span></label><div class='xr-section-inline-details'></div><div class='xr-section-details'><dl class='xr-attrs'><dt><span>regrid_method :</span></dt><dd>bilinear</dd></dl></div></li></ul></div></div>"
      ],
      "text/plain": [
       "<xarray.DataArray (scenario: 4, zone: 7, season: 3, model: 10, year: 85)>\n",
       "array([[[[[ 1.55340899e+01,  1.57243563e+01,  1.57915929e+01, ...,\n",
       "            1.61486990e+01,  1.61779667e+01,  1.62828625e+01],\n",
       "          [ 1.39220680e+01,  1.40877899e+01,  1.38026472e+01, ...,\n",
       "            1.49122808e+01,  1.50827642e+01,  1.49354629e+01],\n",
       "          [ 1.37771410e+01,  1.38268597e+01,  1.37614734e+01, ...,\n",
       "            1.51451167e+01,  1.52197741e+01,  1.52336352e+01],\n",
       "          ...,\n",
       "          [ 1.57354967e+01,  1.56749490e+01,  1.57794898e+01, ...,\n",
       "            1.66030521e+01,  1.68382273e+01,  1.70125422e+01],\n",
       "          [ 1.47806361e+01,  1.48197731e+01,  1.47079905e+01, ...,\n",
       "            1.53295861e+01,  1.52836449e+01,  1.53417102e+01],\n",
       "          [ 1.43817125e+01,  1.43988436e+01,  1.44684269e+01, ...,\n",
       "            1.57540666e+01,  1.58043261e+01,  1.59891030e+01]],\n",
       "\n",
       "         [[ 1.43338213e+01,  1.46674508e+01,  1.43922089e+01, ...,\n",
       "            1.49450770e+01,  1.50595931e+01,  1.51270786e+01],\n",
       "          [ 1.28671744e+01,  1.25130462e+01,  1.25973543e+01, ...,\n",
       "            1.38381278e+01,  1.36562646e+01,  1.34846997e+01],\n",
       "          [ 1.24999695e+01,  1.24139653e+01,  1.25217720e+01, ...,\n",
       "            1.38885385e+01,  1.38869755e+01,  1.38621588e+01],\n",
       "...\n",
       "          [-9.77929152e+00, -9.46541203e+00, -1.06240419e+01, ...,\n",
       "           -4.68112179e+00, -4.47869997e+00, -5.19467172e+00],\n",
       "          [-1.37920561e+01, -1.27292065e+01, -1.30564570e+01, ...,\n",
       "           -6.47682299e+00, -6.95948930e+00, -8.25996483e+00],\n",
       "          [-9.69444841e+00, -9.35925265e+00, -9.53237371e+00, ...,\n",
       "           -7.14507980e-01, -2.24564813e+00, -2.82919531e+00]],\n",
       "\n",
       "         [[ 5.73589076e+00,  5.03586594e+00,  6.04078976e+00, ...,\n",
       "            1.07135529e+01,  1.05796959e+01,  1.05646101e+01],\n",
       "          [ 3.81879450e+00,  4.34653657e+00,  3.52458102e+00, ...,\n",
       "            1.07867246e+01,  1.04330375e+01,  1.10598046e+01],\n",
       "          [ 2.53787782e+00,  2.15054227e+00,  2.13409231e+00, ...,\n",
       "            8.68218321e+00,  9.31512112e+00,  9.83186441e+00],\n",
       "          ...,\n",
       "          [ 9.27206777e+00,  8.54931795e+00,  8.97820883e+00, ...,\n",
       "            1.35576021e+01,  1.41769112e+01,  1.33106097e+01],\n",
       "          [ 7.35329036e+00,  6.48223477e+00,  7.13612066e+00, ...,\n",
       "            1.31932410e+01,  1.19895593e+01,  1.15569765e+01],\n",
       "          [ 7.56950978e+00,  6.99431475e+00,  7.49404822e+00, ...,\n",
       "            1.47812724e+01,  1.53099394e+01,  1.50459935e+01]]]]])\n",
       "Coordinates:\n",
       "    height    float64 2.0\n",
       "    time      datetime64[ns] 2000-01-01\n",
       "  * zone      (zone) object 'GLOB' 'GLOB-land' 'NH-land' 'HMA' 'HK' 'HM' 'TP'\n",
       "  * model     (model) object 'BCC-CSM2-MR' 'CNRM-CM6-1' ... 'UKESM1-0-LL'\n",
       "  * season    (season) object 'Annual' 'DJFMA' 'JJAS'\n",
       "  * year      (year) int64 2015 2016 2017 2018 2019 ... 2095 2096 2097 2098 2099\n",
       "  * scenario  (scenario) object 'ssp126' 'ssp245' 'ssp370' 'ssp585'\n",
       "Attributes:\n",
       "    regrid_method:  bilinear"
      ]
     },
     "execution_count": 10,
     "metadata": {},
     "output_type": "execute_result"
    }
   ],
   "source": [
    "mm_future_ym_zones_scenarios"
   ]
  },
  {
   "cell_type": "markdown",
   "metadata": {},
   "source": [
    "## Save results"
   ]
  },
  {
   "cell_type": "code",
   "execution_count": 9,
   "metadata": {},
   "outputs": [
    {
     "data": {
      "text/plain": [
       "'tas'"
      ]
     },
     "execution_count": 9,
     "metadata": {},
     "output_type": "execute_result"
    }
   ],
   "source": [
    "var"
   ]
  },
  {
   "cell_type": "code",
   "execution_count": 11,
   "metadata": {},
   "outputs": [],
   "source": [
    "mm_past_ym_zones.to_netcdf('results/projections_GLOB-HMA_'+var+'_'+period_past.start+'-'+period_past.start+'_mm_past_ym_zones.nc')\n",
    "mm_future_ym_zones_scenarios.to_netcdf('results/projections_GLOB-HMA_'+var+'_'+period_future.start+'-'+period_future.start+'_mm_future_ym_zones_scenarios.nc')"
   ]
  },
  {
   "cell_type": "markdown",
   "metadata": {},
   "source": [
    "## Load results"
   ]
  },
  {
   "cell_type": "code",
   "execution_count": 17,
   "metadata": {},
   "outputs": [],
   "source": [
    "list_models = u.get_model_names_projections()\n",
    "scenarios = ['ssp126', 'ssp245', 'ssp370', 'ssp585']\n",
    "\n",
    "mm_past_ym_zones = xr.open_dataarray('results/projections_GLOB-HMA_'+var+'_'+period_past.start+'-'+period_past.start+'_mm_past_ym_zones.nc')\n",
    "mm_future_ym_zones_scenarios = xr.open_dataarray('results/projections_GLOB-HMA_'+var+'_'+period_future.start+'-'+period_future.start+'_mm_future_ym_zones_scenarios.nc')"
   ]
  },
  {
   "cell_type": "markdown",
   "metadata": {},
   "source": [
    "## Plot"
   ]
  },
  {
   "cell_type": "code",
   "execution_count": null,
   "metadata": {},
   "outputs": [],
   "source": [
    "# mm_future_ym_zones_scenarios\n",
    "# mm_past_ym_zones"
   ]
  },
  {
   "cell_type": "code",
   "execution_count": 18,
   "metadata": {},
   "outputs": [
    {
     "data": {
      "text/plain": [
       "'tas'"
      ]
     },
     "execution_count": 18,
     "metadata": {},
     "output_type": "execute_result"
    }
   ],
   "source": [
    "var"
   ]
  },
  {
   "cell_type": "code",
   "execution_count": 12,
   "metadata": {},
   "outputs": [
    {
     "data": {
      "image/png": "[encoded data removed]",
      "text/plain": [
       "<Figure size 320.833x316.528 with 1 Axes>"
      ]
     },
     "metadata": {
      "image/png": {
       "height": 339,
       "width": 310
      }
     },
     "output_type": "display_data"
    }
   ],
   "source": [
    "season='Annual'\n",
    "colors = ['indigo9', 'blue5', 'orange5', 'red6']\n",
    "clim_ref = mm_past_ym_zones.sel(season=season, year=slice('1995','2014')).mean('year')\n",
    "\n",
    "fig, axs = plot.subplots()\n",
    "\n",
    "for i, scenario in enumerate(scenarios):\n",
    "    x = []\n",
    "    y = []\n",
    "    \n",
    "    y_start = 2015\n",
    "    y_end = 0\n",
    "    delta = 10\n",
    "    \n",
    "    while y_end < 2100-delta:\n",
    "        y_end = y_start + 20 - 1\n",
    "        \n",
    "        for model in list_models:\n",
    "            temp = (mm_future_ym_zones_scenarios.sel(season=season, year=slice(str(y_start),str(y_end)), scenario=scenario, model=model).mean('year') - clim_ref.sel(model=model)).squeeze()\n",
    "\n",
    "            x.append(temp.sel(zone='HMA').values)\n",
    "            y.append(temp.sel(zone='GLOB').values)\n",
    "        \n",
    "        y_start += delta\n",
    "    \n",
    "    # Plot\n",
    "    axs[0].scatter(x, y, color=colors[i], label=scenario, zorder=-i, marker='+')\n",
    "\n",
    "lim = (0,10)\n",
    "axs.format(\n",
    "    xlabel='HMA anomalies [°C]',\n",
    "    ylabel='Global anomalies [°C]',\n",
    "    xlim=lim, ylim=lim,\n",
    "    suptitle='Near-Surface Air Temperature anomalies\\n(relative to 1995–2014 average)'\n",
    ")\n",
    "\n",
    "axs.legend(loc='ul', frame=True, ncols=2)\n",
    "\n",
    "filename = 'projections/'+var+'_HMA_global'\n",
    "# fig.save('img/'+filename+'.jpg'); fig.save('img/'+filename+'.png'); fig.save('img/'+filename+'.pdf')"
   ]
  },
  {
   "cell_type": "code",
   "execution_count": null,
   "metadata": {},
   "outputs": [],
   "source": []
  },
  {
   "cell_type": "code",
   "execution_count": null,
   "metadata": {},
   "outputs": [],
   "source": []
  },
  {
   "cell_type": "code",
   "execution_count": null,
   "metadata": {},
   "outputs": [],
   "source": []
  }
 ],
 "metadata": {
  "kernelspec": {
   "display_name": "Python [conda env:phd_v3] *",
   "language": "python",
   "name": "conda-env-phd_v3-py"
  },
  "language_info": {
   "codemirror_mode": {
    "name": "ipython",
    "version": 3
   },
   "file_extension": ".py",
   "mimetype": "text/x-python",
   "name": "python",
   "nbconvert_exporter": "python",
   "pygments_lexer": "ipython3",
   "version": "3.8.5"
  }
 },
 "nbformat": 4,
 "nbformat_minor": 4
}
