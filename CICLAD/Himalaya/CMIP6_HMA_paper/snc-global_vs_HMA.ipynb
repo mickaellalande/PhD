{
 "cells": [
  {
   "cell_type": "markdown",
   "metadata": {},
   "source": [
    "# Projections GLOB vs HMA of Snow Cover Extent\n",
    "conda env: `phd_v3` (in `envs/phd`)"
   ]
  },
  {
   "cell_type": "code",
   "execution_count": 1,
   "metadata": {},
   "outputs": [
    {
     "name": "stdout",
     "output_type": "stream",
     "text": [
      "3.8.5 | packaged by conda-forge | (default, Jul 24 2020, 01:25:15) \n",
      "[GCC 7.5.0]\n"
     ]
    }
   ],
   "source": [
    "# To reload external files automatically (ex: utils)\n",
    "%load_ext autoreload\n",
    "%autoreload 2\n",
    "\n",
    "import xarray as xr\n",
    "import pandas as pd\n",
    "import numpy as np\n",
    "import matplotlib.pyplot as plt\n",
    "import proplot as plot # New plot library (https://proplot.readthedocs.io/en/latest/)\n",
    "plot.rc['savefig.dpi'] = 300 # 1200 is too big! #https://proplot.readthedocs.io/en/latest/basics.html#Creating-figures\n",
    "from scipy import stats\n",
    "import xesmf as xe # For regridding (https://xesmf.readthedocs.io/en/latest/)\n",
    "\n",
    "import sys\n",
    "sys.path.insert(1, '/home/mlalande/notebooks/utils') # to include my util file in previous directory\n",
    "import utils as u # my personal functions\n",
    "u.check_python_version()\n",
    "# u.check_virtual_memory()"
   ]
  },
  {
   "cell_type": "markdown",
   "metadata": {},
   "source": [
    "## Set variables"
   ]
  },
  {
   "cell_type": "code",
   "execution_count": 2,
   "metadata": {},
   "outputs": [
    {
     "data": {
      "text/plain": [
       "'Snow Cover Extent'"
      ]
     },
     "execution_count": 2,
     "metadata": {},
     "output_type": "execute_result"
    }
   ],
   "source": [
    "period_future = slice('2015','2100')\n",
    "period_past = slice('1979','2014')\n",
    "latlim, lonlim = u.get_domain_HMA()\n",
    "lonlim_HK, latlim_HK, lonlim_HM, latlim_HM, lonlim_TP, latlim_TP = u.get_zones()\n",
    "seasons = ['Annual', 'DJFMA', 'JJAS']\n",
    "# seasons = ['Annual']\n",
    "\n",
    "# HMA for full domain and the following for the above zones\n",
    "zones = ['GLOB', 'GLOB-land', 'NH-land', 'HMA', 'HK', 'HM', 'TP']\n",
    "zones_df = pd.DataFrame(\n",
    "    [\n",
    "        [slice(None), slice(None)], \n",
    "        [slice(None), slice(None)], \n",
    "        [slice(None), slice(0,90)], \n",
    "        [lonlim, latlim],\n",
    "        [lonlim_HK, latlim_HK],\n",
    "        [lonlim_HM, latlim_HM],\n",
    "        [lonlim_TP, latlim_TP]\n",
    "    ], \n",
    "    columns=pd.Index(['lonlim', 'latlim'], name='Limits'),\n",
    "    index=pd.Index(zones, name='Zones')\n",
    ")\n",
    "\n",
    "var = 'snc'\n",
    "table = u.get_table(var)\n",
    "label, units, levels, cmap, extend, \\\n",
    "    levels_diff, cmap_diff, extend_diff, \\\n",
    "    levels_bias, cmap_bias, extend_bias = u.get_var_infos(var)\n",
    "label"
   ]
  },
  {
   "cell_type": "markdown",
   "metadata": {},
   "source": [
    "## Load topography"
   ]
  },
  {
   "cell_type": "code",
   "execution_count": 3,
   "metadata": {},
   "outputs": [],
   "source": [
    "ds = xr.open_dataset('GMTED2010_15n240_1000deg.nc').drop_dims('nbounds').swap_dims(\n",
    "    {'nlat': 'latitude', 'nlon': 'longitude'}).drop({'nlat', 'nlon'}).rename(\n",
    "    {'latitude': 'lat', 'longitude': 'lon'})\n",
    "elevation = ds.elevation\n",
    "elevation_std = ds.elevation_stddev"
   ]
  },
  {
   "cell_type": "markdown",
   "metadata": {},
   "source": [
    "## Load land/sea mask\n",
    "https://ldas.gsfc.nasa.gov/gldas/vegetation-class-mask"
   ]
  },
  {
   "cell_type": "code",
   "execution_count": 4,
   "metadata": {},
   "outputs": [],
   "source": [
    "mask = xr.open_dataset('/data/mlalande/GLDASp5_landmask_10d.nc4').GLDAS_mask[0]"
   ]
  },
  {
   "cell_type": "markdown",
   "metadata": {},
   "source": [
    "## Load models"
   ]
  },
  {
   "cell_type": "code",
   "execution_count": 39,
   "metadata": {},
   "outputs": [
    {
     "name": "stdout",
     "output_type": "stream",
     "text": [
      "IPSL-CM6A-LR (1/1)\n",
      "Load past\n"
     ]
    },
    {
     "ename": "OSError",
     "evalue": "no files to open",
     "output_type": "error",
     "traceback": [
      "\u001b[0;31m---------------------------------------------------------------------------\u001b[0m",
      "\u001b[0;31mOSError\u001b[0m                                   Traceback (most recent call last)",
      "\u001b[0;32m<ipython-input-39-e4cd36a8aafb>\u001b[0m in \u001b[0;36m<module>\u001b[0;34m\u001b[0m\n\u001b[1;32m     24\u001b[0m     \u001b[0;31m#################\u001b[0m\u001b[0;34m\u001b[0m\u001b[0;34m\u001b[0m\u001b[0;34m\u001b[0m\u001b[0m\n\u001b[1;32m     25\u001b[0m     \u001b[0mprint\u001b[0m\u001b[0;34m(\u001b[0m\u001b[0;34m'Load past'\u001b[0m\u001b[0;34m)\u001b[0m\u001b[0;34m\u001b[0m\u001b[0;34m\u001b[0m\u001b[0m\n\u001b[0;32m---> 26\u001b[0;31m     da_past = xr.open_mfdataset(\n\u001b[0m\u001b[1;32m     27\u001b[0m         \u001b[0;34m'/bdd/CMIP6/CMIP/'\u001b[0m\u001b[0;34m+\u001b[0m\u001b[0minstitute\u001b[0m\u001b[0;34m+\u001b[0m\u001b[0;34m'/'\u001b[0m\u001b[0;34m+\u001b[0m\u001b[0mmodel\u001b[0m\u001b[0;34m+\u001b[0m\u001b[0;34m'/historical/'\u001b[0m\u001b[0;34m+\u001b[0m\u001b[0mrealization\u001b[0m\u001b[0;34m+\u001b[0m\u001b[0;34m'/'\u001b[0m\u001b[0;34m+\u001b[0m\u001b[0mtable\u001b[0m\u001b[0;34m+\u001b[0m\u001b[0;34m'/'\u001b[0m\u001b[0;34m+\u001b[0m\u001b[0mvar\u001b[0m\u001b[0;34m+\u001b[0m\u001b[0;34m'/'\u001b[0m\u001b[0;34m+\u001b[0m\u001b[0mgrid\u001b[0m\u001b[0;34m+\u001b[0m\u001b[0;34m'/latest/*.nc'\u001b[0m\u001b[0;34m,\u001b[0m\u001b[0;34m\u001b[0m\u001b[0;34m\u001b[0m\u001b[0m\n\u001b[1;32m     28\u001b[0m         combine='by_coords').sel(time=period_past)[var].load()\n",
      "\u001b[0;32m/data/mlalande/miniconda3/envs/phd_v3/lib/python3.8/site-packages/xarray/backends/api.py\u001b[0m in \u001b[0;36mopen_mfdataset\u001b[0;34m(paths, chunks, concat_dim, compat, preprocess, engine, lock, data_vars, coords, combine, autoclose, parallel, join, attrs_file, **kwargs)\u001b[0m\n\u001b[1;32m    889\u001b[0m \u001b[0;34m\u001b[0m\u001b[0m\n\u001b[1;32m    890\u001b[0m     \u001b[0;32mif\u001b[0m \u001b[0;32mnot\u001b[0m \u001b[0mpaths\u001b[0m\u001b[0;34m:\u001b[0m\u001b[0;34m\u001b[0m\u001b[0;34m\u001b[0m\u001b[0m\n\u001b[0;32m--> 891\u001b[0;31m         \u001b[0;32mraise\u001b[0m \u001b[0mOSError\u001b[0m\u001b[0;34m(\u001b[0m\u001b[0;34m\"no files to open\"\u001b[0m\u001b[0;34m)\u001b[0m\u001b[0;34m\u001b[0m\u001b[0;34m\u001b[0m\u001b[0m\n\u001b[0m\u001b[1;32m    892\u001b[0m \u001b[0;34m\u001b[0m\u001b[0m\n\u001b[1;32m    893\u001b[0m     \u001b[0;31m# If combine='by_coords' then this is unnecessary, but quick.\u001b[0m\u001b[0;34m\u001b[0m\u001b[0;34m\u001b[0m\u001b[0;34m\u001b[0m\u001b[0m\n",
      "\u001b[0;31mOSError\u001b[0m: no files to open"
     ]
    }
   ],
   "source": [
    "list_models = u.get_model_names_projections()\n",
    "# list_models = list_models[1:2]\n",
    "list_models = ['IPSL-CM6A-LR']\n",
    "\n",
    "resolution = [None]*len(list_models)\n",
    "\n",
    "da_past_ym_list = [[None] * (len(list_models)) for i in range(len(seasons))]\n",
    "\n",
    "scenarios = ['ssp126', 'ssp245', 'ssp370', 'ssp585']\n",
    "da_ssp126_ym_list = [[None] * (len(list_models)) for i in range(len(seasons))]\n",
    "da_ssp245_ym_list = [[None] * (len(list_models)) for i in range(len(seasons))]\n",
    "da_ssp370_ym_list = [[None] * (len(list_models)) for i in range(len(seasons))]\n",
    "da_ssp585_ym_list = [[None] * (len(list_models)) for i in range(len(seasons))]\n",
    "\n",
    "da_future_ym_list = [da_ssp126_ym_list, da_ssp245_ym_list, da_ssp370_ym_list, da_ssp585_ym_list]\n",
    "\n",
    "\n",
    "for i, model in enumerate(list_models):\n",
    "    print(model + ' ('+str(i+1)+'/'+str(len(list_models))+')')\n",
    "    institute, grid, realization, calendar = u.get_model_infos(model, var)\n",
    "    \n",
    "    #################\n",
    "    ### Load past ###\n",
    "    #################\n",
    "    print('Load past')\n",
    "    da_past = xr.open_mfdataset(\n",
    "        '/bdd/CMIP6/CMIP/'+institute+'/'+model+'/historical/'+realization+'/'+table+'/'+var+'/'+grid+'/latest/*.nc', \n",
    "        combine='by_coords').sel(time=period_past)[var].load()\n",
    "    \n",
    "    np.testing.assert_equal((int(period_past.stop) - int(period_past.start) + 1)*12, da_past.time.size)\n",
    "    \n",
    "    # snc (0-1 to % when needed and take out wrong values)\n",
    "    #################################################################################\n",
    "    \n",
    "    # Some models have values between 0 and 1 even if units in %    \n",
    "    if da_past.max().values <= 1.1:\n",
    "        da_past = da_past*100\n",
    "    \n",
    "    # Some models have wrong values (+-0.1 for numeric precision)\n",
    "    da_past = da_past.where( (da_past >= -0.1) & (da_past <= 100.1) )\n",
    "    \n",
    "    #################################################################################\n",
    "    \n",
    "    # Print resolution and save it\n",
    "    lat = (da_past.lat[1] - da_past.lat[0]).values; lon = (da_past.lon[1] - da_past.lon[0]).values\n",
    "    print(str(lon.round(3))+'°x'+str(lat.round(3))+'°')\n",
    "    resolution[i] = str(lon.round(1))+'°x'+str(lat.round(1))+'°'\n",
    "    \n",
    "    for k, season in enumerate(seasons):\n",
    "        print(season)\n",
    "        # Make year_mean\n",
    "        da_past_ym = u.year_mean(da_past, calendar=calendar, season=season)\n",
    "\n",
    "        # Regrid\n",
    "        regridder = xe.Regridder(da_past, elevation, 'bilinear', periodic=False, reuse_weights=True)\n",
    "        da_past_ym_regrid = regridder(da_past_ym)\n",
    "        \n",
    "        # Remove last year for Annual and summer to fit to winter\n",
    "        if season in ['Annual', 'JJAS']:\n",
    "            da_past_ym_regrid = da_past_ym_regrid.isel(year=slice(0,-1))\n",
    "\n",
    "        # Store result\n",
    "        da_past_ym_list[k][i] = da_past_ym_regrid\n",
    "    \n",
    "    \n",
    "    \n",
    "    \n",
    "    ###################\n",
    "    ### Load future ###\n",
    "    ###################\n",
    "    print('Load future')\n",
    "    for j, scenario in enumerate(scenarios):\n",
    "        print(scenario)\n",
    "        if model in ['IPSL-CM6A-LR', 'MRI-ESM2-0']:\n",
    "            da_future = xr.open_mfdataset(\n",
    "                '/bdd/CMIP6/ScenarioMIP/'+institute+'/'+model+'/'+scenario+'/'+realization+'/'+table+'/'+var+'/'+grid+'/latest/*210012.nc', \n",
    "                combine='by_coords').sel(time=period_future)[var].load()\n",
    "        else:\n",
    "            da_future = xr.open_mfdataset(\n",
    "                '/bdd/CMIP6/ScenarioMIP/'+institute+'/'+model+'/'+scenario+'/'+realization+'/'+table+'/'+var+'/'+grid+'/latest/*.nc', \n",
    "                combine='by_coords').sel(time=period_future)[var].load()\n",
    "\n",
    "        np.testing.assert_equal((int(period_future.stop) - int(period_future.start) + 1)*12, da_future.time.size)\n",
    "        \n",
    "        # snc (0-1 to % when needed and take out wrong values)\n",
    "        #################################################################################\n",
    "\n",
    "        # Some models have values between 0 and 1 even if units in %    \n",
    "        if da_future.max().values <= 1.1:\n",
    "            da_future = da_future*100\n",
    "\n",
    "        # Some models have wrong values (+-0.1 for numeric precision)\n",
    "        da_future = da_future.where( (da_future >= -0.1) & (da_future <= 100.1) )\n",
    "\n",
    "        #################################################################################\n",
    "        \n",
    "        for k, season in enumerate(seasons):\n",
    "            print(season)\n",
    "            # Make year_mean\n",
    "            da_future_ym = u.year_mean(da_future, calendar=calendar, season=season)\n",
    "\n",
    "            # Regrid\n",
    "            da_future_ym_regrid = regridder(da_future_ym)\n",
    "            \n",
    "            # Remove last year for Annual and summer to fit to winter\n",
    "            if season in ['Annual', 'JJAS']:\n",
    "                da_future_ym_regrid = da_future_ym_regrid.isel(year=slice(0,-1))\n",
    "\n",
    "            # Store result\n",
    "            da_future_ym_list[j][k][i] = da_future_ym_regrid\n",
    "        \n",
    "    print('\\n')"
   ]
  },
  {
   "cell_type": "code",
   "execution_count": 40,
   "metadata": {},
   "outputs": [
    {
     "data": {
      "text/plain": [
       "'/bdd/CMIP6/CMIP/IPSL/IPSL-CM6A-LR/historical/r1i1p1f1/LImon/snc/gr/latest'"
      ]
     },
     "execution_count": 40,
     "metadata": {},
     "output_type": "execute_result"
    }
   ],
   "source": [
    "'/bdd/CMIP6/CMIP/'+institute+'/'+model+'/historical/'+realization+'/'+table+'/'+var+'/'+grid+'/latest'"
   ]
  },
  {
   "cell_type": "code",
   "execution_count": 95,
   "metadata": {},
   "outputs": [],
   "source": [
    "# '/bdd/CMIP6/ScenarioMIP/'+institute+'/'+model+'/'+scenario+'/'+realization+'/'+table+'/'+var+'/'+grid+'/latest/'"
   ]
  },
  {
   "cell_type": "markdown",
   "metadata": {},
   "source": [
    "## Concatenate results by zones and scenarios"
   ]
  },
  {
   "cell_type": "code",
   "execution_count": null,
   "metadata": {},
   "outputs": [],
   "source": [
    "# Model past\n",
    "temp = [None]*len(seasons)\n",
    "for k, season in enumerate(seasons):\n",
    "    temp[k] = xr.concat(\n",
    "        da_past_ym_list[k][:], pd.Index(list_models, name='model'), coords='minimal', compat='override'\n",
    "    )\n",
    "mm_past_ym = xr.concat(temp, pd.Index(seasons, name=\"season\"))\n",
    "\n",
    "temp = [None]*len(zones) \n",
    "for i, zone in enumerate(zones):\n",
    "    if zone in ['HMA', 'HK', 'HM', 'TP']:\n",
    "        temp[i] = u.spatial_average(\n",
    "            mm_past_ym.sel(lat=zones_df.latlim[zone], lon=zones_df.lonlim[zone]).where(elevation > 2500)\n",
    "        )\n",
    "    elif zone == 'GLOB':\n",
    "        temp[i] = u.spatial_average(mm_past_ym)\n",
    "        \n",
    "    elif zone == 'GLOB-land':\n",
    "        temp[i] = u.spatial_average(mm_past_ym.where(mask == 1))\n",
    "        \n",
    "    elif zone == 'NH-land':\n",
    "        temp[i] = u.spatial_average(mm_past_ym.where(mask == 1).sel(lat=zones_df.latlim[zone], lon=zones_df.lonlim[zone]))\n",
    "        \n",
    "mm_past_ym_zones = xr.concat(temp, pd.Index(zones, name=\"zone\")).load()"
   ]
  },
  {
   "cell_type": "code",
   "execution_count": 11,
   "metadata": {},
   "outputs": [],
   "source": [
    "# mm_past_ym_zones"
   ]
  },
  {
   "cell_type": "code",
   "execution_count": null,
   "metadata": {},
   "outputs": [],
   "source": [
    "# Model future\n",
    "temp_scenarios = [None]*len(scenarios)\n",
    "\n",
    "for j, scenario in enumerate(scenarios):\n",
    "    temp = [None]*len(seasons)\n",
    "    for k, season in enumerate(seasons):\n",
    "        temp[k] = xr.concat(\n",
    "            da_future_ym_list[j][k][:], pd.Index(list_models, name='model'), coords='minimal', compat='override'\n",
    "        )        \n",
    "    mm_future_ym = xr.concat(temp, pd.Index(seasons, name=\"season\")).load()\n",
    "\n",
    "    temp = [None]*len(zones) \n",
    "    for i, zone in enumerate(zones):\n",
    "        if zone in ['HMA', 'HK', 'HM', 'TP']:\n",
    "            temp[i] = u.spatial_average(\n",
    "                mm_future_ym.sel(lat=zones_df.latlim[zone], lon=zones_df.lonlim[zone]).where(elevation > 2500)\n",
    "            )\n",
    "        elif zone == 'GLOB':\n",
    "            temp[i] = u.spatial_average(mm_future_ym)\n",
    "            \n",
    "        elif zone == 'GLOB-land':\n",
    "            temp[i] = u.spatial_average(mm_future_ym.where(mask == 1))\n",
    "        \n",
    "        elif zone == 'NH-land':\n",
    "            temp[i] = u.spatial_average(mm_future_ym.where(mask == 1).sel(lat=zones_df.latlim[zone], lon=zones_df.lonlim[zone]))\n",
    "        \n",
    "        \n",
    "    temp_scenarios[j] = xr.concat(temp, pd.Index(zones, name=\"zone\")).load()\n",
    "    \n",
    "mm_future_ym_zones_scenarios = xr.concat(temp_scenarios, pd.Index(scenarios, name=\"scenario\")).load()"
   ]
  },
  {
   "cell_type": "code",
   "execution_count": 24,
   "metadata": {},
   "outputs": [],
   "source": [
    "# mm_future_ym_zones_scenarios"
   ]
  },
  {
   "cell_type": "markdown",
   "metadata": {},
   "source": [
    "## Save results"
   ]
  },
  {
   "cell_type": "code",
   "execution_count": null,
   "metadata": {},
   "outputs": [],
   "source": [
    "var"
   ]
  },
  {
   "cell_type": "code",
   "execution_count": null,
   "metadata": {},
   "outputs": [],
   "source": [
    "mm_past_ym_zones.to_netcdf('results/projections_GLOB-HMA_'+var+'_'+period_past.start+'-'+period_past.start+'_mm_past_ym_zones.nc')\n",
    "mm_future_ym_zones_scenarios.to_netcdf('results/projections_GLOB-HMA_'+var+'_'+period_future.start+'-'+period_future.start+'_mm_future_ym_zones_scenarios.nc')"
   ]
  },
  {
   "cell_type": "markdown",
   "metadata": {},
   "source": [
    "## Load results"
   ]
  },
  {
   "cell_type": "code",
   "execution_count": 12,
   "metadata": {},
   "outputs": [],
   "source": [
    "list_models = u.get_model_names_projections()\n",
    "scenarios = ['ssp126', 'ssp245', 'ssp370', 'ssp585']\n",
    "\n",
    "mm_past_ym_zones = xr.open_dataarray('results/projections_GLOB-HMA_'+var+'_'+period_past.start+'-'+period_past.start+'_mm_past_ym_zones.nc')\n",
    "mm_future_ym_zones_scenarios = xr.open_dataarray('results/projections_GLOB-HMA_'+var+'_'+period_future.start+'-'+period_future.start+'_mm_future_ym_zones_scenarios.nc')"
   ]
  },
  {
   "cell_type": "markdown",
   "metadata": {},
   "source": [
    "## Plot"
   ]
  },
  {
   "cell_type": "code",
   "execution_count": null,
   "metadata": {},
   "outputs": [],
   "source": [
    "# mm_future_ym_zones_scenarios\n",
    "# mm_past_ym_zones"
   ]
  },
  {
   "cell_type": "code",
   "execution_count": 8,
   "metadata": {},
   "outputs": [
    {
     "data": {
      "text/plain": [
       "'snc'"
      ]
     },
     "execution_count": 8,
     "metadata": {},
     "output_type": "execute_result"
    }
   ],
   "source": [
    "var"
   ]
  },
  {
   "cell_type": "code",
   "execution_count": 13,
   "metadata": {},
   "outputs": [
    {
     "data": {
      "text/plain": [
       "'%'"
      ]
     },
     "execution_count": 13,
     "metadata": {},
     "output_type": "execute_result"
    }
   ],
   "source": [
    "units"
   ]
  },
  {
   "cell_type": "code",
   "execution_count": 14,
   "metadata": {},
   "outputs": [
    {
     "data": {
      "image/png": "[encoded data removed]",
      "text/plain": [
       "<Figure size 320.833x316.528 with 1 Axes>"
      ]
     },
     "metadata": {
      "image/png": {
       "height": 334,
       "width": 302
      }
     },
     "output_type": "display_data"
    }
   ],
   "source": [
    "season='Annual'\n",
    "colors = ['indigo9', 'blue5', 'orange5', 'red6']\n",
    "clim_ref = mm_past_ym_zones.sel(season=season, year=slice('1995','2014')).mean('year')\n",
    "\n",
    "fig, axs = plot.subplots()\n",
    "\n",
    "for i, scenario in enumerate(scenarios):\n",
    "    x = []\n",
    "    y = []\n",
    "    \n",
    "    y_start = 2015\n",
    "    y_end = 0\n",
    "    delta = 10\n",
    "    \n",
    "    while y_end < 2100-delta:\n",
    "        y_end = y_start + 20 - 1\n",
    "        \n",
    "        for model in list_models:\n",
    "            temp = (mm_future_ym_zones_scenarios.sel(season=season, year=slice(str(y_start),str(y_end)), scenario=scenario, model=model).mean('year') - clim_ref.sel(model=model)).squeeze()\n",
    "\n",
    "            x.append(temp.sel(zone='HMA').values)\n",
    "            y.append(temp.sel(zone='GLOB').values)\n",
    "        \n",
    "        y_start += delta\n",
    "    \n",
    "    # Plot\n",
    "    axs[0].scatter(x, y, color=colors[i], label=scenario, zorder=-i, marker='+')\n",
    "\n",
    "# lim = (0,10)\n",
    "axs.format(\n",
    "    xlabel='HMA anomalies ['+units+']',\n",
    "    ylabel='Global anomalies ['+units+']',\n",
    "#     xlim=lim, ylim=lim,\n",
    "    suptitle=label+' anomalies\\n(relative to 1995–2014 average)'\n",
    ")\n",
    "\n",
    "axs.legend(loc='ul', frame=True, ncols=2)\n",
    "\n",
    "filename = 'projections/'+var+'_HMA_global'\n",
    "# fig.save('img/'+filename+'.jpg'); fig.save('img/'+filename+'.png'); fig.save('img/'+filename+'.pdf')"
   ]
  },
  {
   "cell_type": "code",
   "execution_count": null,
   "metadata": {},
   "outputs": [],
   "source": []
  },
  {
   "cell_type": "code",
   "execution_count": null,
   "metadata": {},
   "outputs": [],
   "source": []
  },
  {
   "cell_type": "code",
   "execution_count": null,
   "metadata": {},
   "outputs": [],
   "source": []
  }
 ],
 "metadata": {
  "kernelspec": {
   "display_name": "Python [conda env:phd_v3] *",
   "language": "python",
   "name": "conda-env-phd_v3-py"
  },
  "language_info": {
   "codemirror_mode": {
    "name": "ipython",
    "version": 3
   },
   "file_extension": ".py",
   "mimetype": "text/x-python",
   "name": "python",
   "nbconvert_exporter": "python",
   "pygments_lexer": "ipython3",
   "version": "3.8.5"
  }
 },
 "nbformat": 4,
 "nbformat_minor": 4
}
