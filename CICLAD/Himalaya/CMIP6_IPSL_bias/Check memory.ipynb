{
 "cells": [
  {
   "cell_type": "code",
   "execution_count": 1,
   "metadata": {},
   "outputs": [
    {
     "name": "stdout",
     "output_type": "stream",
     "text": [
      "3.8.2 | packaged by conda-forge | (default, Feb 28 2020, 17:15:22) \n",
      "[GCC 7.3.0]\n",
      "Virtual memory usage - total: 252 GB / available: 209 GB / percent used: 16.9 %\n"
     ]
    }
   ],
   "source": [
    "%load_ext autoreload\n",
    "%autoreload 2\n",
    "\n",
    "import sys\n",
    "sys.path.insert(1, '../../../') # to include my util file in previous directory\n",
    "import utils as u # my personal functions\n",
    "u.check_python_version()\n",
    "u.check_virtual_memory()"
   ]
  },
  {
   "cell_type": "code",
   "execution_count": 26,
   "metadata": {},
   "outputs": [
    {
     "name": "stdout",
     "output_type": "stream",
     "text": [
      "Job Id: 121606\r\n",
      "    Job_Name = STDIN\r\n",
      "    Job_Owner = mlalande@ciclad-ng.private.ipsl.fr\r\n",
      "    resources_used.cput = 00:07:00\r\n",
      "    resources_used.mem = 14828712kb\r\n",
      "    resources_used.vmem = 17857128kb\r\n",
      "    resources_used.walltime = 01:29:26\r\n",
      "    job_state = R\r\n",
      "    queue = std\r\n",
      "    server = cicladpbs6.private.ipsl.fr\r\n",
      "    Checkpoint = u\r\n",
      "    ctime = Wed Apr  8 15:39:09 2020\r\n",
      "    Error_Path = /dev/pts/2\r\n",
      "    exec_host = ciclad17.private.ipsl.fr/5+ciclad17.private.ipsl.fr/6+ciclad17\r\n",
      "\t.private.ipsl.fr/7+ciclad17.private.ipsl.fr/8\r\n",
      "    exec_port = 15003+15003+15003+15003\r\n",
      "    Hold_Types = n\r\n",
      "    interactive = True\r\n",
      "    Join_Path = n\r\n",
      "    Keep_Files = n\r\n",
      "    Mail_Points = a\r\n",
      "    mtime = Wed Apr  8 15:39:10 2020\r\n",
      "    Output_Path = /dev/pts/2\r\n",
      "    Priority = 0\r\n",
      "    qtime = Wed Apr  8 15:39:09 2020\r\n",
      "    Rerunable = False\r\n",
      "    Resource_List.mem = 32gb\r\n",
      "    Resource_List.nodect = 1\r\n",
      "    Resource_List.nodes = 1:ppn=4\r\n",
      "    Resource_List.vmem = 32gb\r\n",
      "    Resource_List.walltime = 06:00:00\r\n",
      "    session_id = 48465\r\n",
      "    Variable_List = PBS_O_QUEUE=default,PBS_O_HOME=/home/mlalande,\r\n",
      "\tPBS_O_LOGNAME=mlalande,\r\n",
      "\tPBS_O_PATH=/data/mlalande/miniconda3/envs/work/bin:/data/mlalande/min\r\n",
      "\ticonda3/condabin:/opt/scilab-5.4.1/bin:/usr/lib64/qt-3.3/bin:/opt/pgi-\r\n",
      "\t2013/linux86-64/2013/bin:/opt/matlab-2013b:/opt/matlab-2013b/bin:/opt/\r\n",
      "\tintel/composer_xe_2011_sp1.9.293/bin/intel64:/opt/g95-stable-0.92/bin:\r\n",
      "\t/opt/ferret-6.7.2/fast:/opt/ferret-6.7.2/bin:/opt/cdfTools-3.0:/usr/lo\r\n",
      "\tcal/bin:/bin:/usr/bin:/usr/local/sbin:/usr/sbin:/sbin:/opt/idl8/idl/bi\r\n",
      "\tn:/opt/intel/composer_xe_2011_sp1.9.293/mpirt/bin/intel64:/opt/ncl-6.1\r\n",
      "\t.2/bin:/home/mlalande/bin,PBS_O_MAIL=/var/spool/mail/mlalande,\r\n",
      "\tPBS_O_SHELL=/bin/bash,PBS_O_LANG=fr_FR.UTF-8,\r\n",
      "\tPBS_O_WORKDIR=/home/mlalande,PBS_O_HOST=ciclad-ng.private.ipsl.fr,\r\n",
      "\tPBS_O_SERVER=cicladpbs6.private.ipsl.fr,\r\n",
      "\tMKLROOT=/opt/intel/composer_xe_2011_sp1.9.293/mkl,\r\n",
      "\tPROJ_LIB=/data/mlalande/miniconda3/envs/work/share/proj,\r\n",
      "\tMANPATH=/opt/pgi-2013/linux86-64/2013/man:/opt/intel/composer_xe_2011\r\n",
      "\t_sp1.9.293/man/en_US:/opt/intel/composer_xe_2011_sp1.9.293/man/en_US:/\r\n",
      "\tusr/local/share/man:/usr/share/man/fr:/usr/share/man/overrides:/usr/sh\r\n",
      "\tare/man:,HOSTNAME=ciclad-ng.private.ipsl.fr,\r\n",
      "\tFER_GO=. /opt/ferret-6.7.2/go /opt/ferret-6.7.2/examples /opt/ferret-\r\n",
      "\t6.7.2/contrib /opt/ferret-6.7.2/fast,\r\n",
      "\tINTEL_LICENSE_FILE=/opt/intel/composer_xe_2011_sp1.9.293/licenses:/op\r\n",
      "\tt/intel/licenses:/home/mlalande/intel/licenses,\r\n",
      "\tFER_GRIDS=. /opt/ferret-6.7.2/fer_dsets/grids,TERM=xterm-256color,\r\n",
      "\tSHELL=/bin/bash,HISTSIZE=1000,SSH_CLIENT=176.147.143.215 46206 22,\r\n",
      "\tCONDA_SHLVL=2,IDL_CPU_TPOOL_NTHREADS=1,\r\n",
      "\tLIBRARY_PATH=/opt/intel/composer_xe_2011_sp1.9.293/compiler/lib/intel\r\n",
      "\t64:/opt/intel/composer_xe_2011_sp1.9.293/compiler/lib/intel64:/opt/int\r\n",
      "\tel/composer_xe_2011_sp1.9.293/mkl/lib/intel64:/opt/intel/composer_xe_2\r\n",
      "\t011_sp1.9.293/tbb/lib/intel64//cc4.1.0_libc2.4_kernel2.6.16.21,\r\n",
      "\tIDL_DIR=/opt/idl-6.4/idl,\r\n",
      "\tFER_EXTERNAL_FUNCTIONS=/opt/ferret-6.7.2/ext_func/libs /opt/ferret-6.\r\n",
      "\t7.2/fast,CONDA_PROMPT_MODIFIER=(work),\r\n",
      "\tFPATH=/opt/intel/composer_xe_2011_sp1.9.293/mkl/include,\r\n",
      "\tQTDIR=/usr/lib64/qt-3.3,QTINC=/usr/lib64/qt-3.3/include,\r\n",
      "\tFER_DATA_THREDDS=http://ferret.pmel.noaa.gov/geoide/geoIDECleanCatalo\r\n",
      "\tg.xml /opt/ferret-6.7.2/fer_dsets,SSH_TTY=/dev/pts/145,USER=mlalande,\r\n",
      "\tLD_LIBRARY_PATH=/opt/intel/composer_xe_2011_sp1.9.293/compiler/lib/in\r\n",
      "\ttel64:/opt/intel/composer_xe_2011_sp1.9.293/compiler/lib/intel64:/opt/\r\n",
      "\tintel/composer_xe_2011_sp1.9.293/mkl/lib/intel64:/opt/intel/composer_x\r\n",
      "\te_2011_sp1.9.293/tbb/lib/intel64//cc4.1.0_libc2.4_kernel2.6.16.21:/opt\r\n",
      "\t/intel/composer_xe_2011_sp1.9.293/debugger/lib/intel64:/opt/intel/comp\r\n",
      "\toser_xe_2011_sp1.9.293/mpirt/lib/intel64,\r\n",
      "\tLS_COLORS=rs=0:di=01;34:ln=01;36:mh=00:pi=40;33:so=01;35:do=01;35:bd=\r\n",
      "\t40;33;01:cd=40;33;01:or=40;31;01:su=37;41:sg=30;43:ca=30;41:tw=30;42:o\r\n",
      "\tw=34;42:st=37;44:ex=01;32:*.tar=01;31:*.tgz=01;31:*.arj=01;31:*.taz=01\r\n",
      "\t;31:*.lzh=01;31:*.lzma=01;31:*.tlz=01;31:*.txz=01;31:*.zip=01;31:*.z=0\r\n",
      "\t1;31:*.Z=01;31:*.dz=01;31:*.gz=01;31:*.lz=01;31:*.xz=01;31:*.bz2=01;31\r\n",
      "\t:*.bz=01;31:*.tbz=01;31:*.tbz2=01;31:*.tz=01;31:*.deb=01;31:*.rpm=01;3\r\n",
      "\t1:*.jar=01;31:*.rar=01;31:*.ace=01;31:*.zoo=01;31:*.cpio=01;31:*.7z=01\r\n",
      "\t;31:*.rz=01;31:*.jpg=01;35:*.jpeg=01;35:*.gif=01;35:*.bmp=01;35:*.pbm=\r\n",
      "\t01;35:*.pgm=01;35:*.ppm=01;35:*.tga=01;35:*.xbm=01;35:*.xpm=01;35:*.ti\r\n",
      "\tf=01;35:*.tiff=01;35:*.png=01;35:*.svg=01;35:*.svgz=01;35:*.mng=01;35:\r\n",
      "\t*.pcx=01;35:*.mov=01;35:*.mpg=01;35:*.mpeg=01;35:*.m2v=01;35:*.mkv=01;\r\n",
      "\t35:*.ogm=01;35:*.mp4=01;35:*.m4v=01;35:*.mp4v=01;35:*.vob=01;35:*.qt=0\r\n",
      "\t1;35:*.nuv=01;35:*.wmv=01;35:*.asf=01;35:*.rm=01;35:*.rmvb=01;35:*.flc\r\n",
      "\t=01;35:*.avi=01;35:*.fli=01;35:*.flv=01;35:*.gl=01;35:*.dl=01;35:*.xcf\r\n",
      "\t=01;35:*.xwd=01;35:*.yuv=01;35:*.cgm=01;35:*.emf=01;35:*.axv=01;35:*.a\r\n",
      "\tnx=01;35:*.ogv=01;35:*.ogx=01;35:*.aac=00;36:*.au=00;36:*.flac=00;36:*\r\n",
      "\t.mid=00;36:*.midi=00;36:*.mka=00;36:*.mp3=00;36:*.mpc=00;36:*.ogg=00;3\r\n",
      "\t6:*.ra=00;36:*.wav=00;36:*.axa=00;36:*.oga=00;36:*.spx=00;36:*.xspf=00\r\n",
      "\t;36:,FER_PALETTE=. /opt/ferret-6.7.2/ppl /opt/ferret-6.7.2/fast,\r\n",
      "\tCONDA_EXE=/data/mlalande/miniconda3/bin/conda,\r\n",
      "\tFER_DSETS=/opt/ferret-6.7.2/fer_dsets,\r\n",
      "\tCPATH=/opt/intel/composer_xe_2011_sp1.9.293/mkl/include:/opt/intel/co\r\n",
      "\tmposer_xe_2011_sp1.9.293/tbb/include,FER_DAT=/opt/ferret-6.7.2,\r\n",
      "\tFER_DATA=. /opt/ferret-6.7.2/fer_dsets/data /opt/ferret-6.7.2/go /opt\r\n",
      "\t/ferret-6.7.2/examples /opt/ferret-6.7.2/fast /opt/ferret-6.7.2/fer_ds\r\n",
      "\tets/grids /opt/ferret-6.7.2/fer_dsets/climato /opt/ferret-6.7.2/fer_ds\r\n",
      "\tets/extras,_CE_CONDA=,CONDA_PREFIX_1=/data/mlalande/miniconda3,\r\n",
      "\tPGI=/opt/pgi-2013,\r\n",
      "\tNLSPATH=/opt/intel/composer_xe_2011_sp1.9.293/compiler/lib/intel64/lo\r\n",
      "\tcale/%l_%t/%N:/opt/intel/composer_xe_2011_sp1.9.293/mkl/lib/intel64/lo\r\n",
      "\tcale/%l_%t/%N:/opt/intel/composer_xe_2011_sp1.9.293/debugger/intel64/l\r\n",
      "\tocale/%l_%t/%N,FER_FONTS=/opt/ferret-6.7.2/ppl/fonts,\r\n",
      "\tSPECTRA=/opt/ferret-6.7.2/ppl,\r\n",
      "\tFER_DESCR=. /opt/ferret-6.7.2/fer_dsets/descr,\r\n",
      "\tMAIL=/var/spool/mail/mlalande,\r\n",
      "\tPATH=/data/mlalande/miniconda3/envs/work/bin:/data/mlalande/miniconda\r\n",
      "\t3/condabin:/opt/scilab-5.4.1/bin:/usr/lib64/qt-3.3/bin:/opt/pgi-2013/l\r\n",
      "\tinux86-64/2013/bin:/opt/matlab-2013b:/opt/matlab-2013b/bin:/opt/intel/\r\n",
      "\tcomposer_xe_2011_sp1.9.293/bin/intel64:/opt/g95-stable-0.92/bin:/opt/f\r\n",
      "\terret-6.7.2/fast:/opt/ferret-6.7.2/bin:/opt/cdfTools-3.0:/usr/local/bi\r\n",
      "\tn:/bin:/usr/bin:/usr/local/sbin:/usr/sbin:/sbin:/opt/idl8/idl/bin:/opt\r\n",
      "\t/intel/composer_xe_2011_sp1.9.293/mpirt/bin/intel64:/opt/ncl-6.1.2/bin\r\n",
      "\t:/home/mlalande/bin,FER_LIBS=/opt/ferret-6.7.2/lib,MKL_NUM_THREADS=1,\r\n",
      "\tCONDA_PREFIX=/data/mlalande/miniconda3/envs/work,\r\n",
      "\tTBBROOT=/opt/intel/composer_xe_2011_sp1.9.293/tbb,PWD=/home/mlalande,\r\n",
      "\tNCARG_ROOT=/opt/ncl-6.1.2,JAVA_HOME=/usr/java/latest,\r\n",
      "\tKDE_IS_PRELINKED=1,LANG=fr_FR.UTF-8,\r\n",
      "\tMODULEPATH=/usr/share/Modules/modulefiles:/etc/modulefiles/Compilers:\r\n",
      "\t/etc/modulefiles/Libraries:/etc/modulefiles/Products:/home/modulefiles\r\n",
      "\t/Users,PLOTFONTS=/opt/ferret-6.7.2/ppl/fonts,FER_WEB_BROWSER=firefox,\r\n",
      "\tLOADEDMODULES=,KDEDIRS=/usr,FER_DIR=/opt/ferret-6.7.2,_CE_M=,\r\n",
      "\tSSH_ASKPASS=/usr/libexec/openssh/gnome-ssh-askpass,\r\n",
      "\tHISTCONTROL=ignoreboth,FER_FAST=/opt/ferret-6.7.2/fast,SHLVL=1,\r\n",
      "\tHOME=/home/mlalande,GDL_PATH=+/usr/share/gnudatalanguage,\r\n",
      "\tITT_DIR=/opt/idl-6.4,\r\n",
      "\tCONDA_PYTHON_EXE=/data/mlalande/miniconda3/bin/python,\r\n",
      "\tLOGNAME=mlalande,QTLIB=/usr/lib64/qt-3.3/lib,CVS_RSH=ssh,\r\n",
      "\tSSH_CONNECTION=176.147.143.215 46206 134.157.176.129 22,\r\n",
      "\tMODULESHOME=/usr/share/Modules,CONDA_DEFAULT_ENV=work,\r\n",
      "\tOMP_NUM_THREADS=1,LESSOPEN=||/usr/bin/lesspipe.sh %s,\r\n",
      "\tMATLAB_VERSION=2013b,DISPLAY=localhost:94.0,PBS_NUM_PPN=1,\r\n",
      "\tINCLUDE=/opt/intel/composer_xe_2011_sp1.9.293/mkl/include,\r\n",
      "\tHISTTIMEFORMAT=%Y%m%d %H%M%S #,G_BROKEN_FILENAMES=1,\r\n",
      "\tBASH_FUNC_module()=() {  eval `/usr/bin/modulecmd bash $*`\\\r\n",
      "},\r\n",
      "\t_=/usr/bin/qsub\r\n",
      "    euser = mlalande\r\n",
      "    egroup = ext\r\n",
      "    queue_type = E\r\n",
      "    etime = Wed Apr  8 15:39:09 2020\r\n",
      "    submit_args = -IVX -l mem=32g,vmem=32g,walltime=06:00:00,nodes=1:ppn=4\r\n",
      "    start_time = Wed Apr  8 15:39:10 2020\r\n",
      "    Walltime.Remaining = 16190\r\n",
      "    start_count = 1\r\n",
      "    fault_tolerant = False\r\n",
      "    job_radix = 0\r\n",
      "    submit_host = ciclad-ng.private.ipsl.fr\r\n",
      "\r\n"
     ]
    }
   ],
   "source": [
    "!qstat -f 121606"
   ]
  },
  {
   "cell_type": "code",
   "execution_count": 80,
   "metadata": {},
   "outputs": [
    {
     "name": "stdout",
     "output_type": "stream",
     "text": [
      "    resources_used.mem = 5684228kb\r\n",
      "    resources_used.vmem = 16715996kb\r\n",
      "    Resource_List.mem = 32gb\r\n",
      "    Resource_List.vmem = 32gb\r\n",
      "    submit_args = -IVX -l mem=32g,vmem=32g,walltime=06:00:00,nodes=1:ppn=4\r\n"
     ]
    }
   ],
   "source": [
    "!qstat -f 5169290 | grep mem"
   ]
  },
  {
   "cell_type": "code",
   "execution_count": 81,
   "metadata": {},
   "outputs": [
    {
     "data": {
      "text/plain": [
       "'15 GB'"
      ]
     },
     "execution_count": 81,
     "metadata": {},
     "output_type": "execute_result"
    }
   ],
   "source": [
    "vmem_string = '16715996kb'\n",
    "u.get_human_readable_size(int(vmem_string[:-2] + '000'))"
   ]
  },
  {
   "cell_type": "code",
   "execution_count": null,
   "metadata": {},
   "outputs": [],
   "source": []
  },
  {
   "cell_type": "code",
   "execution_count": null,
   "metadata": {},
   "outputs": [],
   "source": []
  },
  {
   "cell_type": "code",
   "execution_count": 5,
   "metadata": {},
   "outputs": [
    {
     "data": {
      "text/plain": [
       "118"
      ]
     },
     "execution_count": 5,
     "metadata": {},
     "output_type": "execute_result"
    }
   ],
   "source": [
    "import gc\n",
    "gc.collect()"
   ]
  }
 ],
 "metadata": {
  "kernelspec": {
   "display_name": "Python [conda env:work]",
   "language": "python",
   "name": "conda-env-work-py"
  },
  "language_info": {
   "codemirror_mode": {
    "name": "ipython",
    "version": 3
   },
   "file_extension": ".py",
   "mimetype": "text/x-python",
   "name": "python",
   "nbconvert_exporter": "python",
   "pygments_lexer": "ipython3",
   "version": "3.8.2"
  }
 },
 "nbformat": 4,
 "nbformat_minor": 2
}
