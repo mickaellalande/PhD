{
 "cells": [
  {
   "cell_type": "markdown",
   "metadata": {},
   "source": [
    "# Pre-process ESA Snow CCI data\n",
    "\n",
    "- Snow Cover Fraction Climate Research Data Package: http://snow-cci.enveo.at/\n",
    "- summer path: `/mnt/lalandmi/equipes/C2H/ESA_CCI_SNOW`\n",
    "\n",
    "Check missing values, linear interpolation on time, and spatial aggregation\n",
    "\n",
    "conda env: `phd_v3`"
   ]
  },
  {
   "cell_type": "code",
   "execution_count": 1,
   "metadata": {},
   "outputs": [
    {
     "name": "stdout",
     "output_type": "stream",
     "text": [
      "3.8.5 | packaged by conda-forge | (default, Jul 24 2020, 01:25:15) \n",
      "[GCC 7.5.0]\n"
     ]
    }
   ],
   "source": [
    "# To reload external files automatically (ex: utils)\n",
    "%load_ext autoreload\n",
    "%autoreload 2\n",
    "\n",
    "import xarray as xr\n",
    "import pandas as pd\n",
    "import numpy as np\n",
    "import calendar as cld\n",
    "import matplotlib.pyplot as plt\n",
    "import proplot as plot # New plot library (https://proplot.readthedocs.io/en/latest/)\n",
    "plot.rc['savefig.dpi'] = 300 # 1200 is too big! #https://proplot.readthedocs.io/en/latest/basics.html#Creating-figures\n",
    "from scipy import stats\n",
    "import xesmf as xe # For regridding (https://xesmf.readthedocs.io/en/latest/)\n",
    "\n",
    "import sys\n",
    "sys.path.insert(1, 'utils') # to include my util file in previous directory\n",
    "import utils as u # my personal functions\n",
    "u.check_python_version()\n",
    "# u.check_virtual_memory()"
   ]
  },
  {
   "cell_type": "code",
   "execution_count": 2,
   "metadata": {},
   "outputs": [
    {
     "data": {
      "text/html": [
       "<table style=\"border: 2px solid white;\">\n",
       "<tr>\n",
       "<td style=\"vertical-align: top; border: 0px solid white\">\n",
       "<h3 style=\"text-align: left;\">Client</h3>\n",
       "<ul style=\"text-align: left; list-style: none; margin: 0; padding: 0;\">\n",
       "  <li><b>Scheduler: </b>tcp://127.0.0.1:45727</li>\n",
       "  <li><b>Dashboard: </b><a href='http://127.0.0.1:8787/status' target='_blank'>http://127.0.0.1:8787/status</a></li>\n",
       "</ul>\n",
       "</td>\n",
       "<td style=\"vertical-align: top; border: 0px solid white\">\n",
       "<h3 style=\"text-align: left;\">Cluster</h3>\n",
       "<ul style=\"text-align: left; list-style:none; margin: 0; padding: 0;\">\n",
       "  <li><b>Workers: </b>16</li>\n",
       "  <li><b>Cores: </b>16</li>\n",
       "  <li><b>Memory: </b>4.80 TB</li>\n",
       "</ul>\n",
       "</td>\n",
       "</tr>\n",
       "</table>"
      ],
      "text/plain": [
       "<Client: 'tcp://127.0.0.1:45727' processes=16 threads=16, memory=4.80 TB>"
      ]
     },
     "execution_count": 2,
     "metadata": {},
     "output_type": "execute_result"
    }
   ],
   "source": [
    "# For parallelisation\n",
    "from dask.distributed import Client\n",
    "#################\n",
    "### Fat nodes ###\n",
    "#################\n",
    "# oarsub -I -l nodes=2/core=16,walltime=12:00:00 --project regional-climate -t fat\n",
    "# I put the memory limit higher than the max of memory 1.62 To because all workers does not use the memory in the same time\n",
    "client = Client(n_workers=16, threads_per_worker=1, memory_limit='300GB')\n",
    "# client = Client()\n",
    "client"
   ]
  },
  {
   "cell_type": "code",
   "execution_count": 53,
   "metadata": {},
   "outputs": [],
   "source": [
    "client.close()"
   ]
  },
  {
   "cell_type": "code",
   "execution_count": 9,
   "metadata": {},
   "outputs": [],
   "source": [
    "path_snow_CCI = 'ESA_CCI_SNOW/dap.ceda.ac.uk/neodc/esacci/snow/data/scfg'\n",
    "path_AVHRR = path_snow_CCI+'/AVHRR_MERGED/v2.0'\n",
    "path_MODIS = path_snow_CCI+'/MODIS/v2.0'\n",
    "\n",
    "path_out = 'ESA_CCI_SNOW/preprocess/scfg'\n",
    "path_out_AVHRR = path_out+'/AVHRR_MERGED/v2.0'\n",
    "path_out_MODIS = path_out+'/MODIS/v2.0'\n",
    "\n",
    "year_start = 2001\n",
    "year_end = 2002"
   ]
  },
  {
   "cell_type": "code",
   "execution_count": 10,
   "metadata": {
    "collapsed": true,
    "jupyter": {
     "outputs_hidden": true
    }
   },
   "outputs": [
    {
     "name": "stdout",
     "output_type": "stream",
     "text": [
      "2001\n",
      "2002\n",
      "2003\n",
      "2004\n",
      "2005\n",
      "2006\n",
      "2007\n",
      "2008\n",
      "2009\n",
      "2010\n",
      "2011\n",
      "2012\n",
      "2013\n",
      "2014\n",
      "2015\n",
      "2016\n",
      "2017\n",
      "2018\n",
      "2019\n",
      "2020\n"
     ]
    }
   ],
   "source": [
    "# for i in range(2001, 2021):\n",
    "#     print(i)\n",
    "#     !mkdir {path_out_MODIS}'/daily/'{str(i)}"
   ]
  },
  {
   "cell_type": "markdown",
   "metadata": {},
   "source": [
    "MODIS Dimensions:\n",
    "- lat: 18000\n",
    "- lon: 36000\n",
    "\n",
    "On GRICAD 32 cores (6 Go)"
   ]
  },
  {
   "cell_type": "code",
   "execution_count": 5,
   "metadata": {},
   "outputs": [
    {
     "name": "stdout",
     "output_type": "stream",
     "text": [
      "4.0\n",
      "4500.0\n",
      "9000.0\n"
     ]
    }
   ],
   "source": [
    "print(16/4); print(18000/4); print(36000/4)"
   ]
  },
  {
   "cell_type": "markdown",
   "metadata": {},
   "source": [
    "## Define functions"
   ]
  },
  {
   "cell_type": "code",
   "execution_count": 4,
   "metadata": {},
   "outputs": [],
   "source": [
    "import xarray as xr\n",
    "import pandas as pd\n",
    "from pandas.tseries.offsets import MonthEnd\n",
    "\n",
    "# Get previous month for interpolation\n",
    "def get_prev_month_year(month, year):\n",
    "    '''\n",
    "    Returns the previous month and corresponding year.\n",
    "\n",
    "        Parameters:\n",
    "            month (string): string of 2 characters (e.g., '01')\n",
    "            year (string): string (e.g., '2000')\n",
    "\n",
    "        Returns:\n",
    "            month_prev (string): string of 2 characters (e.g., '12')\n",
    "            year_prev (string): string (e.g., '1999')\n",
    "    '''\n",
    "    if month == '01':\n",
    "        year_prev = str(int(year) - 1)\n",
    "        month_prev = '12'\n",
    "    else:\n",
    "        year_prev = year\n",
    "        month_prev = str(int(month) - 1).zfill(2)\n",
    "        \n",
    "    return month_prev, year_prev\n",
    "\n",
    "# Get next month for interpolation\n",
    "def get_next_month_year(month, year):\n",
    "    '''\n",
    "    Returns the next month and corresponding year.\n",
    "\n",
    "        Parameters:\n",
    "            month (string): string of 2 characters (e.g., '01')\n",
    "            year (string): string (e.g., '2000')\n",
    "\n",
    "        Returns:\n",
    "            month_prev (string): string of 2 characters (e.g., '02')\n",
    "            year_prev (string): string (e.g., '2000')\n",
    "    '''\n",
    "    if month == '12':\n",
    "        year_next = str(int(year) + 1)\n",
    "        month_next = '01'\n",
    "    else:\n",
    "        year_next = year\n",
    "        month_next = str(int(month) + 1).zfill(2)\n",
    "        \n",
    "    return month_next, year_next\n",
    "\n",
    "# Round latitudes and longitudes to avoid errors with concatenation\n",
    "def round_latlon(ds, latlon_round):\n",
    "    '''\n",
    "    Returns Dataset/DataArray with rounded latitudes and longitudes.\n",
    "\n",
    "        Parameters:\n",
    "            ds (Dataset/DataArray): xarray Dataset/Dataarray with coords lat/lon\n",
    "            latlon_round (int): number of decimals\n",
    "\n",
    "        Returns:\n",
    "            xarray Dataset/DataArray\n",
    "    '''\n",
    "    return ds.assign_coords(lat=ds.lat.round(latlon_round), lon=ds.lon.round(latlon_round))\n",
    "\n",
    "# Reindex time to get all days for interpolation\n",
    "def reindex_time(ds, year, month):\n",
    "    '''\n",
    "    Returns Dataset/DataArray with all days in the corresponding month. Missing days will be filled with NaNs.\n",
    "\n",
    "        Parameters:\n",
    "            ds (Dataset/DataArray): monthly xarray Dataset/DataArray at daily time frequency\n",
    "            year (string): string (e.g., '2000')\n",
    "            month (string): string of 2 characters (e.g., '01')\n",
    "\n",
    "        Returns:\n",
    "            xarray Dataset/DataArray\n",
    "    '''\n",
    "    begin_date = pd.to_datetime(year+'-'+month+'-01')\n",
    "    end_date = begin_date + MonthEnd(1) # Get the last day of the month\n",
    "    return ds.reindex(time=pd.date_range(begin_date, end_date, freq='D'))\n",
    "\n",
    "# Reindex time to get all days for interpolation\n",
    "def open_files(path, year, month, common_file_string, chunk_lat, chunk_lon, latlon_round, var):\n",
    "    '''\n",
    "    Open all daily files for a given month in parallel.\n",
    "    Format is e.g., path+'/1994/01/19940101'+common_file_string\n",
    "        \n",
    "        Need to have Dask client defined before, e.g.:\n",
    "            from dask.distributed import Client\n",
    "            client = Client(n_workers=32, threads_per_worker=1, memory_limit='6GB')\n",
    "\n",
    "        Parameters:\n",
    "            path (string): root path (e.g., 'ESA_CCI_SNOW/dap.ceda.ac.uk/neodc/esacci/snow/data/scfg/AVHRR_MERGED/v2.0')\n",
    "            year (string): string (e.g., '2000')\n",
    "            month (string): string of 2 characters (e.g., '01')\n",
    "            common_file_string (string): e.g., '-ESACCI-L3C_SNOW-SCFG-AVHRR_MERGED-fv2.0.nc'\n",
    "            chunk_lat (int): chunk over the latitude dimension\n",
    "            chunk_lon (int): chunk over the longitude dimension\n",
    "            latlon_round (int): number of decimals\n",
    "            var (string): variable to open (e.g., 'scfg')\n",
    "\n",
    "        Returns:\n",
    "            da (DataArray): xarray DataArray\n",
    "            attrs (dict): attributes from the original dataset\n",
    "    '''\n",
    "    ds = xr.open_mfdataset(path+'/'+year+'/'+month+'/*'+common_file_string, \n",
    "                           parallel=True, chunks={'lat': chunk_lat, 'lon': chunk_lon})\n",
    "    da = ds[var]\n",
    "    da = round_latlon(da, latlon_round) # round coordinates to avoid errors with concatenation\n",
    "    da = reindex_time(da, year, month) # to fill missing days with NaNs\n",
    "    print('Read files '+path+'/'+year+'/'+month+'/*'+common_file_string)\n",
    "            \n",
    "    return da, ds.attrs\n",
    "\n",
    "# Print no file to open\n",
    "def print_no_file(path, year, month):\n",
    "    '''\n",
    "    Print the folder where there is no file.\n",
    "\n",
    "        Parameters:\n",
    "            path (string): root path (e.g., 'ESA_CCI_SNOW/dap.ceda.ac.uk/neodc/esacci/snow/data/scfg/AVHRR_MERGED/v2.0')\n",
    "            year (string): string (e.g., '2000')\n",
    "            month (string): string of 2 characters (e.g., '01')\n",
    "    '''\n",
    "    print('No file to open in: '+path+'/'+year+'/'+month)\n",
    "\n",
    "# Select last delta_interp days for previous period\n",
    "def select_last_days(da_prev, year_prev, month_prev, delta_interp):\n",
    "    '''\n",
    "    Returns Dataset with the last delta_interp days.\n",
    "\n",
    "        Parameters:\n",
    "            da_prev (DataArray): monthly xarray DataArray at daily time frequency\n",
    "            year_prev (string): string (e.g., '2000')\n",
    "            month_prev (string): string of 2 characters (e.g., '01')\n",
    "            delta_interp (int): maximum gap number of days for interpolation\n",
    "\n",
    "        Returns:\n",
    "            xarray DataArray\n",
    "    '''\n",
    "    end_date = pd.to_datetime(year_prev+'-'+month_prev) + MonthEnd(1) # Get the last day of the month\n",
    "    begin_date = end_date - pd.DateOffset(days = delta_interp) # Get previous delta_interp days (max window for interpolation)\n",
    "    return da_prev.sel(time=slice(begin_date, end_date))\n",
    "\n",
    "# Select next delta_interp days for next period\n",
    "def select_first_days(da_next, year_next, month_next, delta_interp):\n",
    "    '''\n",
    "    Returns Dataset with the last delta_interp days.\n",
    "\n",
    "        Parameters:\n",
    "            da_next (DataArray): monthly xarray DataArray at daily time frequency\n",
    "            year_next (string): string (e.g., '2000')\n",
    "            month_next (string): string of 2 characters (e.g., '01')\n",
    "            delta_interp (int): maximum gap number of days for interpolation\n",
    "\n",
    "        Returns:\n",
    "            xarray DataArray\n",
    "    '''\n",
    "    return da_next.sel(time=slice(year_next+'-'+month_next+'-01', year_next+'-'+month_next+'-'+str(delta_interp).zfill(2)))\n",
    "     \n",
    "# Concatenate DataArrays over time\n",
    "def concat_files(da1, da2, concat_string):\n",
    "    '''\n",
    "    Concatenate DataArrays and remove chunks over the time dimension.\n",
    "\n",
    "        Parameters:\n",
    "            da1, da2 (DataArray): monthly xarray DataArray at daily time frequency\n",
    "            concat_string (string): description of concatenation (e.g., '[prev, current]')\n",
    "\n",
    "        Returns:\n",
    "            xarray DataArray\n",
    "    '''\n",
    "    concat = xr.concat([da1, da2], dim='time').chunk({'time': -1})\n",
    "    print(' => Concatenate files '+concat_string)\n",
    "    \n",
    "    return concat  \n"
   ]
  },
  {
   "cell_type": "markdown",
   "metadata": {},
   "source": [
    "## Run interpolation"
   ]
  },
  {
   "cell_type": "code",
   "execution_count": 5,
   "metadata": {},
   "outputs": [
    {
     "name": "stdout",
     "output_type": "stream",
     "text": [
      "29\n"
     ]
    }
   ],
   "source": [
    "path = '/bettik/lalandmi/phd/ESA_CCI_SNOW/dap.ceda.ac.uk/neodc/esacci/snow/data/scfg/MODIS/v2.0/2000/12'\n",
    "for i in range(29, 30):\n",
    "    print(i)\n",
    "    xr.open_dataset(path+'/200012'+str(i).zfill(2)+'-ESACCI-L3C_SNOW-SCFG-MODIS_TERRA-fv2.0.nc').load()"
   ]
  },
  {
   "cell_type": "code",
   "execution_count": 51,
   "metadata": {},
   "outputs": [
    {
     "name": "stdout",
     "output_type": "stream",
     "text": [
      "1\n",
      "2\n",
      "3\n",
      "4\n",
      "5\n",
      "6\n",
      "7\n",
      "8\n",
      "9\n",
      "10\n"
     ]
    }
   ],
   "source": [
    "path = '/bettik/lalandmi/phd/ESA_CCI_SNOW/dap.ceda.ac.uk/neodc/esacci/snow/data/scfg/MODIS/v2.0/2001/01'\n",
    "for i in range(1, 11):\n",
    "    print(i)\n",
    "    xr.open_dataset(path+'/200101'+str(i).zfill(2)+'-ESACCI-L3C_SNOW-SCFG-MODIS_TERRA-fv2.0.nc').load()"
   ]
  },
  {
   "cell_type": "code",
   "execution_count": 5,
   "metadata": {},
   "outputs": [
    {
     "name": "stdout",
     "output_type": "stream",
     "text": [
      "\n",
      "### 2001-01 (prev: 2000-12 / next: 2001-02)\n",
      "Read files ESA_CCI_SNOW/dap.ceda.ac.uk/neodc/esacci/snow/data/scfg/MODIS/v2.0/2001/01/*-ESACCI-L3C_SNOW-SCFG-MODIS_TERRA-fv2.0.nc\n",
      "Read files ESA_CCI_SNOW/dap.ceda.ac.uk/neodc/esacci/snow/data/scfg/MODIS/v2.0/2000/12/*-ESACCI-L3C_SNOW-SCFG-MODIS_TERRA-fv2.0.nc\n",
      " => Concatenate files [prev, current]\n",
      "Read files ESA_CCI_SNOW/dap.ceda.ac.uk/neodc/esacci/snow/data/scfg/MODIS/v2.0/2001/02/*-ESACCI-L3C_SNOW-SCFG-MODIS_TERRA-fv2.0.nc\n",
      " => Concatenate files [concat, next]\n",
      " => Doing interpolation...\n",
      "Interpolated file saved to ESA_CCI_SNOW/preprocess/scfg/MODIS/v2.0/daily/2001/200101-ESACCI-L3C_SNOW-SCFG-MODIS_TERRA-fv2.0_interp.nc\n",
      "--- 2062.352388858795 seconds ---\n",
      "\n",
      "### 2001-02 (prev: 2001-01 / next: 2001-03)\n",
      "Read files ESA_CCI_SNOW/dap.ceda.ac.uk/neodc/esacci/snow/data/scfg/MODIS/v2.0/2001/02/*-ESACCI-L3C_SNOW-SCFG-MODIS_TERRA-fv2.0.nc\n",
      "Read files ESA_CCI_SNOW/dap.ceda.ac.uk/neodc/esacci/snow/data/scfg/MODIS/v2.0/2001/01/*-ESACCI-L3C_SNOW-SCFG-MODIS_TERRA-fv2.0.nc\n",
      " => Concatenate files [prev, current]\n",
      "Read files ESA_CCI_SNOW/dap.ceda.ac.uk/neodc/esacci/snow/data/scfg/MODIS/v2.0/2001/03/*-ESACCI-L3C_SNOW-SCFG-MODIS_TERRA-fv2.0.nc\n",
      " => Concatenate files [concat, next]\n",
      " => Doing interpolation...\n",
      "Interpolated file saved to ESA_CCI_SNOW/preprocess/scfg/MODIS/v2.0/daily/2001/200102-ESACCI-L3C_SNOW-SCFG-MODIS_TERRA-fv2.0_interp.nc\n",
      "--- 2118.787441253662 seconds ---\n",
      "\n",
      "### 2001-03 (prev: 2001-02 / next: 2001-04)\n",
      "Read files ESA_CCI_SNOW/dap.ceda.ac.uk/neodc/esacci/snow/data/scfg/MODIS/v2.0/2001/03/*-ESACCI-L3C_SNOW-SCFG-MODIS_TERRA-fv2.0.nc\n",
      "Read files ESA_CCI_SNOW/dap.ceda.ac.uk/neodc/esacci/snow/data/scfg/MODIS/v2.0/2001/02/*-ESACCI-L3C_SNOW-SCFG-MODIS_TERRA-fv2.0.nc\n",
      " => Concatenate files [prev, current]\n",
      "Read files ESA_CCI_SNOW/dap.ceda.ac.uk/neodc/esacci/snow/data/scfg/MODIS/v2.0/2001/04/*-ESACCI-L3C_SNOW-SCFG-MODIS_TERRA-fv2.0.nc\n",
      " => Concatenate files [concat, next]\n",
      " => Doing interpolation...\n",
      "Interpolated file saved to ESA_CCI_SNOW/preprocess/scfg/MODIS/v2.0/daily/2001/200103-ESACCI-L3C_SNOW-SCFG-MODIS_TERRA-fv2.0_interp.nc\n",
      "--- 2076.1604096889496 seconds ---\n",
      "\n",
      "### 2001-04 (prev: 2001-03 / next: 2001-05)\n",
      "Read files ESA_CCI_SNOW/dap.ceda.ac.uk/neodc/esacci/snow/data/scfg/MODIS/v2.0/2001/04/*-ESACCI-L3C_SNOW-SCFG-MODIS_TERRA-fv2.0.nc\n",
      "Read files ESA_CCI_SNOW/dap.ceda.ac.uk/neodc/esacci/snow/data/scfg/MODIS/v2.0/2001/03/*-ESACCI-L3C_SNOW-SCFG-MODIS_TERRA-fv2.0.nc\n",
      " => Concatenate files [prev, current]\n",
      "Read files ESA_CCI_SNOW/dap.ceda.ac.uk/neodc/esacci/snow/data/scfg/MODIS/v2.0/2001/05/*-ESACCI-L3C_SNOW-SCFG-MODIS_TERRA-fv2.0.nc\n",
      " => Concatenate files [concat, next]\n",
      " => Doing interpolation...\n",
      "Interpolated file saved to ESA_CCI_SNOW/preprocess/scfg/MODIS/v2.0/daily/2001/200104-ESACCI-L3C_SNOW-SCFG-MODIS_TERRA-fv2.0_interp.nc\n",
      "--- 2055.9587614536285 seconds ---\n",
      "\n",
      "### 2001-05 (prev: 2001-04 / next: 2001-06)\n",
      "Read files ESA_CCI_SNOW/dap.ceda.ac.uk/neodc/esacci/snow/data/scfg/MODIS/v2.0/2001/05/*-ESACCI-L3C_SNOW-SCFG-MODIS_TERRA-fv2.0.nc\n",
      "Read files ESA_CCI_SNOW/dap.ceda.ac.uk/neodc/esacci/snow/data/scfg/MODIS/v2.0/2001/04/*-ESACCI-L3C_SNOW-SCFG-MODIS_TERRA-fv2.0.nc\n",
      " => Concatenate files [prev, current]\n",
      "Read files ESA_CCI_SNOW/dap.ceda.ac.uk/neodc/esacci/snow/data/scfg/MODIS/v2.0/2001/06/*-ESACCI-L3C_SNOW-SCFG-MODIS_TERRA-fv2.0.nc\n",
      " => Concatenate files [concat, next]\n",
      " => Doing interpolation...\n",
      "Interpolated file saved to ESA_CCI_SNOW/preprocess/scfg/MODIS/v2.0/daily/2001/200105-ESACCI-L3C_SNOW-SCFG-MODIS_TERRA-fv2.0_interp.nc\n",
      "--- 2046.0461554527283 seconds ---\n",
      "\n",
      "### 2001-06 (prev: 2001-05 / next: 2001-07)\n",
      "Read files ESA_CCI_SNOW/dap.ceda.ac.uk/neodc/esacci/snow/data/scfg/MODIS/v2.0/2001/06/*-ESACCI-L3C_SNOW-SCFG-MODIS_TERRA-fv2.0.nc\n",
      "Read files ESA_CCI_SNOW/dap.ceda.ac.uk/neodc/esacci/snow/data/scfg/MODIS/v2.0/2001/05/*-ESACCI-L3C_SNOW-SCFG-MODIS_TERRA-fv2.0.nc\n",
      " => Concatenate files [prev, current]\n",
      "Read files ESA_CCI_SNOW/dap.ceda.ac.uk/neodc/esacci/snow/data/scfg/MODIS/v2.0/2001/07/*-ESACCI-L3C_SNOW-SCFG-MODIS_TERRA-fv2.0.nc\n",
      " => Concatenate files [concat, next]\n",
      " => Doing interpolation...\n",
      "Interpolated file saved to ESA_CCI_SNOW/preprocess/scfg/MODIS/v2.0/daily/2001/200106-ESACCI-L3C_SNOW-SCFG-MODIS_TERRA-fv2.0_interp.nc\n",
      "--- 2276.9101300239563 seconds ---\n",
      "\n",
      "### 2001-07 (prev: 2001-06 / next: 2001-08)\n",
      "Read files ESA_CCI_SNOW/dap.ceda.ac.uk/neodc/esacci/snow/data/scfg/MODIS/v2.0/2001/07/*-ESACCI-L3C_SNOW-SCFG-MODIS_TERRA-fv2.0.nc\n",
      "Read files ESA_CCI_SNOW/dap.ceda.ac.uk/neodc/esacci/snow/data/scfg/MODIS/v2.0/2001/06/*-ESACCI-L3C_SNOW-SCFG-MODIS_TERRA-fv2.0.nc\n",
      " => Concatenate files [prev, current]\n",
      "Read files ESA_CCI_SNOW/dap.ceda.ac.uk/neodc/esacci/snow/data/scfg/MODIS/v2.0/2001/08/*-ESACCI-L3C_SNOW-SCFG-MODIS_TERRA-fv2.0.nc\n",
      " => Concatenate files [concat, next]\n",
      " => Doing interpolation...\n",
      "Interpolated file saved to ESA_CCI_SNOW/preprocess/scfg/MODIS/v2.0/daily/2001/200107-ESACCI-L3C_SNOW-SCFG-MODIS_TERRA-fv2.0_interp.nc\n",
      "--- 2032.5432670116425 seconds ---\n",
      "\n",
      "### 2001-08 (prev: 2001-07 / next: 2001-09)\n",
      "Read files ESA_CCI_SNOW/dap.ceda.ac.uk/neodc/esacci/snow/data/scfg/MODIS/v2.0/2001/08/*-ESACCI-L3C_SNOW-SCFG-MODIS_TERRA-fv2.0.nc\n",
      "Read files ESA_CCI_SNOW/dap.ceda.ac.uk/neodc/esacci/snow/data/scfg/MODIS/v2.0/2001/07/*-ESACCI-L3C_SNOW-SCFG-MODIS_TERRA-fv2.0.nc\n",
      " => Concatenate files [prev, current]\n",
      "Read files ESA_CCI_SNOW/dap.ceda.ac.uk/neodc/esacci/snow/data/scfg/MODIS/v2.0/2001/09/*-ESACCI-L3C_SNOW-SCFG-MODIS_TERRA-fv2.0.nc\n",
      " => Concatenate files [concat, next]\n",
      " => Doing interpolation...\n",
      "Interpolated file saved to ESA_CCI_SNOW/preprocess/scfg/MODIS/v2.0/daily/2001/200108-ESACCI-L3C_SNOW-SCFG-MODIS_TERRA-fv2.0_interp.nc\n",
      "--- 2415.938930749893 seconds ---\n",
      "\n",
      "### 2001-09 (prev: 2001-08 / next: 2001-10)\n",
      "Read files ESA_CCI_SNOW/dap.ceda.ac.uk/neodc/esacci/snow/data/scfg/MODIS/v2.0/2001/09/*-ESACCI-L3C_SNOW-SCFG-MODIS_TERRA-fv2.0.nc\n",
      "Read files ESA_CCI_SNOW/dap.ceda.ac.uk/neodc/esacci/snow/data/scfg/MODIS/v2.0/2001/08/*-ESACCI-L3C_SNOW-SCFG-MODIS_TERRA-fv2.0.nc\n",
      " => Concatenate files [prev, current]\n",
      "Read files ESA_CCI_SNOW/dap.ceda.ac.uk/neodc/esacci/snow/data/scfg/MODIS/v2.0/2001/10/*-ESACCI-L3C_SNOW-SCFG-MODIS_TERRA-fv2.0.nc\n",
      " => Concatenate files [concat, next]\n",
      " => Doing interpolation...\n",
      "Interpolated file saved to ESA_CCI_SNOW/preprocess/scfg/MODIS/v2.0/daily/2001/200109-ESACCI-L3C_SNOW-SCFG-MODIS_TERRA-fv2.0_interp.nc\n",
      "--- 2198.2324345111847 seconds ---\n",
      "\n",
      "### 2001-10 (prev: 2001-09 / next: 2001-11)\n",
      "Read files ESA_CCI_SNOW/dap.ceda.ac.uk/neodc/esacci/snow/data/scfg/MODIS/v2.0/2001/10/*-ESACCI-L3C_SNOW-SCFG-MODIS_TERRA-fv2.0.nc\n",
      "Read files ESA_CCI_SNOW/dap.ceda.ac.uk/neodc/esacci/snow/data/scfg/MODIS/v2.0/2001/09/*-ESACCI-L3C_SNOW-SCFG-MODIS_TERRA-fv2.0.nc\n",
      " => Concatenate files [prev, current]\n",
      "Read files ESA_CCI_SNOW/dap.ceda.ac.uk/neodc/esacci/snow/data/scfg/MODIS/v2.0/2001/11/*-ESACCI-L3C_SNOW-SCFG-MODIS_TERRA-fv2.0.nc\n",
      " => Concatenate files [concat, next]\n",
      " => Doing interpolation...\n",
      "Interpolated file saved to ESA_CCI_SNOW/preprocess/scfg/MODIS/v2.0/daily/2001/200110-ESACCI-L3C_SNOW-SCFG-MODIS_TERRA-fv2.0_interp.nc\n",
      "--- 2069.3661890029907 seconds ---\n",
      "\n",
      "### 2001-11 (prev: 2001-10 / next: 2001-12)\n",
      "Read files ESA_CCI_SNOW/dap.ceda.ac.uk/neodc/esacci/snow/data/scfg/MODIS/v2.0/2001/11/*-ESACCI-L3C_SNOW-SCFG-MODIS_TERRA-fv2.0.nc\n",
      "Read files ESA_CCI_SNOW/dap.ceda.ac.uk/neodc/esacci/snow/data/scfg/MODIS/v2.0/2001/10/*-ESACCI-L3C_SNOW-SCFG-MODIS_TERRA-fv2.0.nc\n",
      " => Concatenate files [prev, current]\n",
      "Read files ESA_CCI_SNOW/dap.ceda.ac.uk/neodc/esacci/snow/data/scfg/MODIS/v2.0/2001/12/*-ESACCI-L3C_SNOW-SCFG-MODIS_TERRA-fv2.0.nc\n",
      " => Concatenate files [concat, next]\n",
      " => Doing interpolation...\n",
      "Interpolated file saved to ESA_CCI_SNOW/preprocess/scfg/MODIS/v2.0/daily/2001/200111-ESACCI-L3C_SNOW-SCFG-MODIS_TERRA-fv2.0_interp.nc\n",
      "--- 2008.6861448287964 seconds ---\n",
      "\n",
      "### 2001-12 (prev: 2001-11 / next: 2002-01)\n",
      "Read files ESA_CCI_SNOW/dap.ceda.ac.uk/neodc/esacci/snow/data/scfg/MODIS/v2.0/2001/12/*-ESACCI-L3C_SNOW-SCFG-MODIS_TERRA-fv2.0.nc\n",
      "Read files ESA_CCI_SNOW/dap.ceda.ac.uk/neodc/esacci/snow/data/scfg/MODIS/v2.0/2001/11/*-ESACCI-L3C_SNOW-SCFG-MODIS_TERRA-fv2.0.nc\n",
      " => Concatenate files [prev, current]\n",
      "Read files ESA_CCI_SNOW/dap.ceda.ac.uk/neodc/esacci/snow/data/scfg/MODIS/v2.0/2002/01/*-ESACCI-L3C_SNOW-SCFG-MODIS_TERRA-fv2.0.nc\n",
      " => Concatenate files [concat, next]\n",
      " => Doing interpolation...\n",
      "Interpolated file saved to ESA_CCI_SNOW/preprocess/scfg/MODIS/v2.0/daily/2001/200112-ESACCI-L3C_SNOW-SCFG-MODIS_TERRA-fv2.0_interp.nc\n",
      "--- 2050.354525089264 seconds ---\n",
      "CPU times: user 36min 23s, sys: 6min 39s, total: 43min 3s\n",
      "Wall time: 7h 3min 31s\n"
     ]
    }
   ],
   "source": [
    "%%time\n",
    "\n",
    "import time\n",
    "\n",
    "chunk_lat = 4500\n",
    "chunk_lon = 9000\n",
    "delta_interp = 10 # maximum gap number of days for interpolation\n",
    "latlon_round = 3 # precision for lat/lon\n",
    "common_file_string = '-ESACCI-L3C_SNOW-SCFG-MODIS_TERRA-fv2.0.nc'\n",
    "var = 'scfg'\n",
    "\n",
    "# for year in [str(y) for y in range(2000, 2021)]:\n",
    "for year in [str(y) for y in range(year_start, year_end)]:\n",
    "    for month in [str(m).zfill(2) for m in range(1, 13)]:\n",
    "#     for month in [str(m).zfill(2) for m in range(12, 13)]:\n",
    "        start_time = time.time() # Check time per loop\n",
    "        \n",
    "        # Get previous and next months for interpolation         \n",
    "        month_prev, year_prev = get_prev_month_year(month, year)\n",
    "        month_next, year_next = get_next_month_year(month, year)\n",
    "        print('\\n### '+year+'-'+month+' (prev: '+year_prev+'-'+month_prev+' / next: '+year_next+'-'+month_next+')')\n",
    "        \n",
    "        ##################\n",
    "        ### Open files ###\n",
    "        ##################\n",
    "        # Test if there are files (ex: 1994-11 to 1995-01 no files for AVHRR)\n",
    "        try:\n",
    "            da, attrs = open_files(path_MODIS, year, month, common_file_string, chunk_lat, chunk_lon, latlon_round, var)\n",
    "        except OSError:\n",
    "            print_no_file(path_MODIS, year, month)\n",
    "            continue # If there is no file, go to next iteration\n",
    "        \n",
    "        # Prev\n",
    "        try:\n",
    "            da_prev, _ = open_files(path_MODIS, year_prev, month_prev, common_file_string, chunk_lat, chunk_lon, latlon_round, var)\n",
    "            da_prev = select_last_days(da_prev, year_prev, month_prev, delta_interp)\n",
    "            concat = concat_files(da_prev, da, '[prev, current]')\n",
    "            \n",
    "            # Next\n",
    "            try:\n",
    "                da_next, _ = open_files(path_MODIS, year_next, month_next, common_file_string, chunk_lat, chunk_lon, latlon_round, var)\n",
    "                da_next = select_first_days(da_next, year_next, month_next, delta_interp)\n",
    "                concat = concat_files(concat, da_next, '[concat, next]')\n",
    "            except OSError:\n",
    "                print_no_file(path_MODIS, year_next, month_next)\n",
    "\n",
    "        except OSError:\n",
    "            print_no_file(path_MODIS, year_prev, month_prev)\n",
    "        \n",
    "            # Next\n",
    "            try:\n",
    "                da_next, _ = open_files(path_MODIS, year_next, month_next, common_file_string, chunk_lat, chunk_lon, latlon_round, var)\n",
    "                da_next = select_first_days(da_next, year_next, month_next, delta_interp)\n",
    "                concat = concat_files(da, da_next, '[current, next]')\n",
    "            except OSError:\n",
    "                print_no_file(path_MODIS, year_next, month_next)\n",
    "                concat = da.chunk({'time': -1})\n",
    "\n",
    "        ###############################################\n",
    "        ### Get SCF values and, water and ice masks ###\n",
    "        ###############################################\n",
    "        scf = concat.where(concat <= 100)\n",
    "        water = concat.where(concat == 210)\n",
    "        ice = concat.where(concat == 215)\n",
    "        \n",
    "        ###############################\n",
    "        ### Linear temporal gapfill ###\n",
    "        ###############################\n",
    "        scf_interp = scf.interpolate_na('time', method='linear', max_gap=pd.Timedelta(days=delta_interp))\n",
    "        print(' => Doing interpolation...')\n",
    "\n",
    "        # Deal with attributes\n",
    "        scf_interp.name = var+'_interp'\n",
    "        del scf_interp.attrs['valid_range']\n",
    "        del scf_interp.attrs['flag_values']\n",
    "        del scf_interp.attrs['flag_meanings']\n",
    "        scf_interp.attrs['ancillary_variables'] = 'coverage, coverage_interp'\n",
    "        scf_interp.attrs['method'] = var+\".interpolate_na('time', method='linear', max_gap=pd.Timedelta(days=10))\"\n",
    "\n",
    "        # Compute time coverage\n",
    "        coverage = scf.sel(time=year+'-'+month).count('time')\n",
    "        coverage.name = 'coverage'\n",
    "        coverage.attrs['long_name'] = 'Time Coverage'\n",
    "        coverage.attrs['units'] = 'number of days'\n",
    "        coverage.attrs['ancillary_variables'] = var\n",
    "\n",
    "        coverage_interp = scf_interp.sel(time=year+'-'+month).count('time')\n",
    "        coverage_interp.name = 'coverage_interp'\n",
    "        coverage_interp.attrs['long_name'] = 'Time Coverage'\n",
    "        coverage_interp.attrs['units'] = 'number of days'\n",
    "        coverage_interp.attrs['ancillary_variables'] = var+'_interp'\n",
    "\n",
    "        ice.name = 'mask_ice'\n",
    "        ice.attrs['long_name'] = 'Permanent_Snow_and_Ice'\n",
    "        del ice.attrs['units']\n",
    "        del ice.attrs['standard_name']\n",
    "        del ice.attrs['valid_range']\n",
    "        del ice.attrs['actual_range']\n",
    "        ice.attrs['flag_value'] = 215\n",
    "        del ice.attrs['flag_values']\n",
    "        del ice.attrs['flag_meanings']\n",
    "        del ice.attrs['grid_mapping']\n",
    "        del ice.attrs['ancillary_variables']\n",
    "\n",
    "        water.name = 'mask_water'\n",
    "        water.attrs['long_name'] = 'Water'\n",
    "        del water.attrs['units']\n",
    "        del water.attrs['standard_name']\n",
    "        del water.attrs['valid_range']\n",
    "        del water.attrs['actual_range']\n",
    "        water.attrs['flag_value'] = 210\n",
    "        del water.attrs['flag_values']\n",
    "        del water.attrs['flag_meanings']\n",
    "        del water.attrs['grid_mapping']\n",
    "        del water.attrs['ancillary_variables']\n",
    "\n",
    "        # Combine in a new dataset\n",
    "        ds_interp = scf_interp.sel(time=year+'-'+month).to_dataset()\n",
    "        ds_interp['coverage'] = coverage\n",
    "        ds_interp['coverage_interp'] = coverage_interp\n",
    "        ds_interp['mask_ice'] = ice[0]\n",
    "        ds_interp['mask_water'] = water[0]\n",
    "        ds_interp.attrs = {**{'processed': 'A linear interpolation on the time dimension is performed in this dataset. ' \\\n",
    "            'A maximum window of 10 days is imposed, if the gap is more than 10 days, the missing values are kept. ' \\\n",
    "            'Before interpolation the time dimension is reindexed in order to cover all days of the month, and fill missing days with NaNs.' \\\n",
    "            'Also the latitudes and longitudes are rounded to 3 digits after de decimal to avoid concatenation errors.' \\\n",
    "            'The temporal coverage of the data before and after interpolation is stored in the variables \"coverage\" and \"coverage_interp\". ' \\\n",
    "            'The permanent snow and ice, and water masks are also kept for later processing if needed. The original dataset is described below. ' \\\n",
    "            'Preprocess performed by Mickaël Lalande (https://mickaellalande.github.io/) on May 13, 2022. ' \\\n",
    "            'The same compression level is kept compared to the original dataset (zlib=True, complevel=4).'}, **attrs}\n",
    "\n",
    "        # Compression\n",
    "        comp = dict(zlib=True, complevel=4)\n",
    "        encoding = {var: comp for var in ds_interp.data_vars}\n",
    "        ds_interp.to_netcdf(path_out_MODIS+'/daily/'+year+'/'+year+month+'-ESACCI-L3C_SNOW-SCFG-MODIS_TERRA-fv2.0_interp.nc', encoding=encoding)\n",
    "        print('Interpolated file saved to '+path_out_MODIS+'/daily/'+year+'/'+year+month+'-ESACCI-L3C_SNOW-SCFG-MODIS_TERRA-fv2.0_interp.nc')\n",
    "        print(\"--- %s seconds ---\" % (time.time() - start_time))"
   ]
  },
  {
   "cell_type": "markdown",
   "metadata": {},
   "source": [
    "## Check"
   ]
  },
  {
   "cell_type": "code",
   "execution_count": 10,
   "metadata": {},
   "outputs": [],
   "source": [
    "# path = '/bettik/lalandmi/phd/ESA_CCI_SNOW/dap.ceda.ac.uk/neodc/esacci/snow/data/scfg/MODIS/v2.0/2000/02'\n",
    "# ds = xr.open_dataset(path+'/20000224-ESACCI-L3C_SNOW-SCFG-MODIS_TERRA-fv2.0.nc')\n",
    "# ds"
   ]
  },
  {
   "cell_type": "code",
   "execution_count": null,
   "metadata": {},
   "outputs": [],
   "source": [
    "path = '/bettik/lalandmi/phd/ESA_CCI_SNOW/preprocess/scfg/MODIS/v2.0/daily/'+str(year_start)\n",
    "ds = xr.open_dataset(path+'/'+str(year_start)+'02-ESACCI-L3C_SNOW-SCFG-MODIS_TERRA-fv2.0_interp.nc')\n",
    "ds"
   ]
  },
  {
   "cell_type": "code",
   "execution_count": null,
   "metadata": {},
   "outputs": [],
   "source": [
    "ds.scfg_interp.sel(lat=slice(20, 45), lon=slice(50, 120)).mean('time').plot()"
   ]
  },
  {
   "cell_type": "code",
   "execution_count": null,
   "metadata": {},
   "outputs": [],
   "source": [
    "ds.coverage.sel(lat=slice(20, 45), lon=slice(50, 120)).plot()"
   ]
  },
  {
   "cell_type": "code",
   "execution_count": null,
   "metadata": {},
   "outputs": [],
   "source": [
    "ds.coverage_interp.sel(lat=slice(20, 45), lon=slice(50, 120)).plot()"
   ]
  },
  {
   "cell_type": "code",
   "execution_count": null,
   "metadata": {},
   "outputs": [],
   "source": [
    "ds.mask_ice.sel(lat=slice(20, 45), lon=slice(50, 120)).plot()"
   ]
  },
  {
   "cell_type": "code",
   "execution_count": null,
   "metadata": {},
   "outputs": [],
   "source": [
    "ds.mask_water.sel(lat=slice(20, 45), lon=slice(50, 120)).plot()"
   ]
  },
  {
   "cell_type": "markdown",
   "metadata": {},
   "source": [
    "# Make monthly mean"
   ]
  },
  {
   "cell_type": "code",
   "execution_count": 6,
   "metadata": {},
   "outputs": [],
   "source": [
    "root_path_in = '/bettik/lalandmi/phd/ESA_CCI_SNOW/preprocess/scfg/MODIS/v2.0/daily'\n",
    "root_path_out = '/bettik/lalandmi/phd/ESA_CCI_SNOW/preprocess/scfg/MODIS/v2.0/monthly'"
   ]
  },
  {
   "cell_type": "markdown",
   "metadata": {},
   "source": [
    "MODIS Dimensions:\n",
    "- lat: 18000\n",
    "- lon: 36000\n",
    "\n",
    "On GRICAD 32 cores (6 Go)"
   ]
  },
  {
   "cell_type": "code",
   "execution_count": 6,
   "metadata": {},
   "outputs": [
    {
     "data": {
      "text/plain": [
       "1125.0"
      ]
     },
     "execution_count": 6,
     "metadata": {},
     "output_type": "execute_result"
    }
   ],
   "source": [
    "4500/4"
   ]
  },
  {
   "cell_type": "code",
   "execution_count": 7,
   "metadata": {},
   "outputs": [
    {
     "name": "stdout",
     "output_type": "stream",
     "text": [
      "\n",
      "### 2001\n",
      "Read files /bettik/lalandmi/phd/ESA_CCI_SNOW/preprocess/scfg/MODIS/v2.0/daily/2001/*-ESACCI-L3C_SNOW-SCFG-MODIS_TERRA-fv2.0_interp.nc\n"
     ]
    },
    {
     "name": "stderr",
     "output_type": "stream",
     "text": [
      "/bettik/lalandmi/miniconda3/envs/phd_v3/lib/python3.8/site-packages/xarray/core/common.py:1123: FutureWarning: 'base' in .resample() and in Grouper() is deprecated.\n",
      "The new arguments that you should use are 'offset' or 'origin'.\n",
      "\n",
      ">>> df.resample(freq=\"3s\", base=2)\n",
      "\n",
      "becomes:\n",
      "\n",
      ">>> df.resample(freq=\"3s\", offset=\"2s\")\n",
      "\n",
      "  grouper = pd.Grouper(\n"
     ]
    },
    {
     "name": "stdout",
     "output_type": "stream",
     "text": [
      " => Perform monthly resample average...\n",
      "Monthly file saved to /bettik/lalandmi/phd/ESA_CCI_SNOW/preprocess/scfg/MODIS/v2.0/monthly/2001-monthly-ESACCI-L3C_SNOW-SCFG-MODIS_TERRA-fv2.0_interp.nc\n",
      "--- 2112.261166572571 seconds ---\n",
      "CPU times: user 4min 14s, sys: 36.1 s, total: 4min 50s\n",
      "Wall time: 35min 12s\n"
     ]
    }
   ],
   "source": [
    "%%time\n",
    "\n",
    "import time\n",
    "\n",
    "# Increase a bit the chunks as I leave the chunk on time (monthly chunk 31 days)\n",
    "# chunk_lat = 4500\n",
    "# chunk_lon = 9000\n",
    "\n",
    "chunk_lat = 4500\n",
    "chunk_lon = 9000\n",
    "\n",
    "# for year in [str(y) for y in range(2000, 2021)]:\n",
    "for year in [str(y) for y in range(year_start, year_end)]:\n",
    "    start_time = time.time() # Check time per loop\n",
    "    \n",
    "    print('\\n### '+year)\n",
    "    \n",
    "    ds = xr.open_mfdataset(root_path_in+'/'+year+'/*-ESACCI-L3C_SNOW-SCFG-MODIS_TERRA-fv2.0_interp.nc', parallel=True, chunks={'lat': chunk_lat, 'lon': chunk_lon})\n",
    "    print('Read files '+root_path_in+'/'+year+'/*-ESACCI-L3C_SNOW-SCFG-MODIS_TERRA-fv2.0_interp.nc')\n",
    "    \n",
    "#     ds_month = ds.chunk({'time': -1}).resample(time='1M').mean() # too heavy\n",
    "    ds_month = ds.resample(time='1M').mean()\n",
    "    print(' => Perform monthly resample average...')\n",
    "    \n",
    "    ds_month.attrs = ds.attrs\n",
    "    \n",
    "     # Compression\n",
    "    comp = dict(zlib=True, complevel=4)\n",
    "    encoding = {var: comp for var in ds_month.data_vars}\n",
    "    ds_month.to_netcdf(root_path_out+'/'+year+'-monthly-ESACCI-L3C_SNOW-SCFG-MODIS_TERRA-fv2.0_interp.nc', encoding=encoding)\n",
    "    print('Monthly file saved to '+root_path_out+'/'+year+'-monthly-ESACCI-L3C_SNOW-SCFG-MODIS_TERRA-fv2.0_interp.nc')\n",
    "    print(\"--- %s seconds ---\" % (time.time() - start_time))"
   ]
  },
  {
   "cell_type": "markdown",
   "metadata": {},
   "source": [
    "## Check"
   ]
  },
  {
   "cell_type": "code",
   "execution_count": null,
   "metadata": {},
   "outputs": [],
   "source": [
    "ds = xr.open_dataset(root_path_out+'/'+str(year_start)+'-monthly-ESACCI-L3C_SNOW-SCFG-MODIS_TERRA-fv2.0_interp.nc.nc')\n",
    "ds"
   ]
  },
  {
   "cell_type": "code",
   "execution_count": null,
   "metadata": {},
   "outputs": [],
   "source": [
    "ds.scfg_interp.sel(lat=slice(20, 45), lon=slice(50, 120))[1].plot()"
   ]
  },
  {
   "cell_type": "code",
   "execution_count": null,
   "metadata": {},
   "outputs": [],
   "source": [
    "ds.coverage.sel(lat=slice(20, 45), lon=slice(50, 120))[1].plot()"
   ]
  },
  {
   "cell_type": "code",
   "execution_count": null,
   "metadata": {},
   "outputs": [],
   "source": [
    "ds.coverage_interp.sel(lat=slice(20, 45), lon=slice(50, 120))[1].plot()"
   ]
  },
  {
   "cell_type": "markdown",
   "metadata": {},
   "source": [
    "# Make spatial average"
   ]
  },
  {
   "cell_type": "code",
   "execution_count": 8,
   "metadata": {},
   "outputs": [
    {
     "name": "stdout",
     "output_type": "stream",
     "text": [
      "\n",
      "### 2001\n",
      "Read files /bettik/lalandmi/phd/ESA_CCI_SNOW/preprocess/scfg/MODIS/v2.0/monthly/2001-monthly-ESACCI-L3C_SNOW-SCFG-MODIS_TERRA-fv2.0_interp.nc\n",
      "0.1\n",
      " => Coarsen dataset to 0.1deg...\n",
      "Monthly file saved to /bettik/lalandmi/phd/ESA_CCI_SNOW/preprocess/scfg/MODIS/v2.0/monthly_0.1deg/2001-monthly-ESACCI-L3C_SNOW-SCFG-MODIS_TERRA-fv2.0_interp_0.1deg.nc\n",
      "--- 69.31882381439209 seconds ---\n",
      "0.25\n",
      " => Coarsen dataset to 0.25deg...\n",
      "Monthly file saved to /bettik/lalandmi/phd/ESA_CCI_SNOW/preprocess/scfg/MODIS/v2.0/monthly_0.25deg/2001-monthly-ESACCI-L3C_SNOW-SCFG-MODIS_TERRA-fv2.0_interp_0.25deg.nc\n",
      "--- 49.181824922561646 seconds ---\n",
      "0.5\n",
      " => Coarsen dataset to 0.5deg...\n",
      "Monthly file saved to /bettik/lalandmi/phd/ESA_CCI_SNOW/preprocess/scfg/MODIS/v2.0/monthly_0.5deg/2001-monthly-ESACCI-L3C_SNOW-SCFG-MODIS_TERRA-fv2.0_interp_0.5deg.nc\n",
      "--- 47.11177349090576 seconds ---\n",
      "1\n",
      " => Coarsen dataset to 1deg...\n",
      "Monthly file saved to /bettik/lalandmi/phd/ESA_CCI_SNOW/preprocess/scfg/MODIS/v2.0/monthly_1deg/2001-monthly-ESACCI-L3C_SNOW-SCFG-MODIS_TERRA-fv2.0_interp_1deg.nc\n",
      "--- 46.347424030303955 seconds ---\n",
      "CPU times: user 19.9 s, sys: 2.78 s, total: 22.7 s\n",
      "Wall time: 3min 32s\n"
     ]
    }
   ],
   "source": [
    "%%time\n",
    "\n",
    "import time\n",
    "\n",
    "res_orig = 0.01\n",
    "\n",
    "# for year in [str(y) for y in range(2000, 2021)]:\n",
    "for year in [str(y) for y in range(year_start, year_end)]:\n",
    "    \n",
    "    print('\\n### '+year)\n",
    "    \n",
    "    ds = xr.open_dataset(root_path_out+'/'+year+'-monthly-ESACCI-L3C_SNOW-SCFG-MODIS_TERRA-fv2.0_interp.nc', chunks={'time': 1})\n",
    "    print('Read files '+root_path_out+'/'+year+'-monthly-ESACCI-L3C_SNOW-SCFG-MODIS_TERRA-fv2.0_interp.nc')\n",
    "    \n",
    "    for res in [0.1, 0.25, 0.5, 1]:\n",
    "        start_time = time.time() # Check time per loop\n",
    "        print(res)\n",
    "        n_coarse = int(res/res_orig)\n",
    "        da_coarse = ds.scfg_interp.coarsen(lat=n_coarse, lon=n_coarse).mean()\n",
    "        da_coarse.name = 'scfg_interp_'+str(res)+'deg'\n",
    "\n",
    "        da_coarse_icefilled = ds.scfg_interp.where(ds.mask_ice != 215, 100).coarsen(lat=n_coarse, lon=n_coarse).mean()\n",
    "        da_coarse_icefilled.name = 'scfg_interp_'+str(res)+'deg_icefilled'\n",
    "\n",
    "        ds_coarse = da_coarse.to_dataset()\n",
    "        ds_coarse['scfg_interp_'+str(res)+'deg_icefilled'] = da_coarse_icefilled\n",
    "        ds_coarse.attrs = ds.attrs\n",
    "\n",
    "        print(' => Coarsen dataset to '+str(res)+'deg...')\n",
    "\n",
    "         # Compression\n",
    "        comp = dict(zlib=True, complevel=4)\n",
    "        encoding = {var: comp for var in ds_coarse.data_vars}\n",
    "        ds_coarse.to_netcdf(root_path_out+'_'+str(res)+'deg/'+year+'-monthly-ESACCI-L3C_SNOW-SCFG-MODIS_TERRA-fv2.0_interp_'+str(res)+'deg.nc', encoding=encoding)\n",
    "        print('Monthly file saved to '+root_path_out+'_'+str(res)+'deg/'+year+'-monthly-ESACCI-L3C_SNOW-SCFG-MODIS_TERRA-fv2.0_interp_'+str(res)+'deg.nc')\n",
    "        print(\"--- %s seconds ---\" % (time.time() - start_time))"
   ]
  },
  {
   "cell_type": "markdown",
   "metadata": {},
   "source": [
    "## Check"
   ]
  },
  {
   "cell_type": "code",
   "execution_count": null,
   "metadata": {},
   "outputs": [],
   "source": [
    "# res = [0.1, 0.25, 0.5, 1]\n",
    "year = str(year_start)\n",
    "res = 0.5\n",
    "ds = xr.open_dataset(root_path_out+'_'+str(res)+'deg/'+year+'-monthly-ESACCI-L3C_SNOW-SCFG-MODIS_TERRA-fv2.0_interp_'+str(res)+'deg.nc')\n",
    "ds"
   ]
  },
  {
   "cell_type": "code",
   "execution_count": null,
   "metadata": {},
   "outputs": [],
   "source": [
    "ds.lat"
   ]
  },
  {
   "cell_type": "code",
   "execution_count": null,
   "metadata": {},
   "outputs": [],
   "source": [
    "ds['scfg_interp_'+str(res)+'deg'].sel(lat=slice(20, 45), lon=slice(50, 120))[10].plot()"
   ]
  },
  {
   "cell_type": "code",
   "execution_count": null,
   "metadata": {},
   "outputs": [],
   "source": [
    "ds['scfg_interp_'+str(res)+'deg_icefilled'].sel(lat=slice(20, 45), lon=slice(50, 120))[10].plot()"
   ]
  },
  {
   "cell_type": "code",
   "execution_count": null,
   "metadata": {},
   "outputs": [],
   "source": [
    "(ds['scfg_interp_'+str(res)+'deg_icefilled']-ds['scfg_interp_'+str(res)+'deg']).sel(lat=slice(20, 45), lon=slice(50, 120))[10].plot()"
   ]
  },
  {
   "cell_type": "code",
   "execution_count": null,
   "metadata": {},
   "outputs": [],
   "source": [
    "ds['scfg_interp_'+str(res)+'deg'][10].plot()"
   ]
  },
  {
   "cell_type": "code",
   "execution_count": null,
   "metadata": {},
   "outputs": [],
   "source": [
    "ds['scfg_interp_'+str(res)+'deg_icefilled'][10].plot()"
   ]
  },
  {
   "cell_type": "code",
   "execution_count": null,
   "metadata": {},
   "outputs": [],
   "source": []
  },
  {
   "cell_type": "code",
   "execution_count": null,
   "metadata": {},
   "outputs": [],
   "source": [
    "# res = [0.1, 0.25, 0.5, 1]\n",
    "year = str(year_start)\n",
    "res = 0.1\n",
    "ds = xr.open_dataset(root_path_out+'_'+str(res)+'deg/'+year+'-monthly-ESACCI-L3C_SNOW-SCFG-MODIS_TERRA-fv2.0_interp_'+str(res)+'deg.nc')\n",
    "ds"
   ]
  },
  {
   "cell_type": "code",
   "execution_count": null,
   "metadata": {},
   "outputs": [],
   "source": [
    "ds.lat"
   ]
  },
  {
   "cell_type": "code",
   "execution_count": null,
   "metadata": {},
   "outputs": [],
   "source": [
    "ds['scfg_interp_'+str(res)+'deg'].sel(lat=slice(20, 45), lon=slice(50, 120))[10].plot()"
   ]
  },
  {
   "cell_type": "code",
   "execution_count": null,
   "metadata": {},
   "outputs": [],
   "source": [
    "ds['scfg_interp_'+str(res)+'deg_icefilled'].sel(lat=slice(20, 45), lon=slice(50, 120))[10].plot()"
   ]
  },
  {
   "cell_type": "code",
   "execution_count": null,
   "metadata": {},
   "outputs": [],
   "source": [
    "(ds['scfg_interp_'+str(res)+'deg_icefilled']-ds['scfg_interp_'+str(res)+'deg']).sel(lat=slice(20, 45), lon=slice(50, 120))[10].plot()"
   ]
  },
  {
   "cell_type": "code",
   "execution_count": null,
   "metadata": {},
   "outputs": [],
   "source": [
    "ds['scfg_interp_'+str(res)+'deg'][10].plot()"
   ]
  },
  {
   "cell_type": "code",
   "execution_count": null,
   "metadata": {},
   "outputs": [],
   "source": [
    "ds['scfg_interp_'+str(res)+'deg_icefilled'][10].plot()"
   ]
  },
  {
   "cell_type": "code",
   "execution_count": null,
   "metadata": {},
   "outputs": [],
   "source": []
  }
 ],
 "metadata": {
  "kernelspec": {
   "display_name": "Python [conda env:phd_v3] *",
   "language": "python",
   "name": "conda-env-phd_v3-py"
  },
  "language_info": {
   "codemirror_mode": {
    "name": "ipython",
    "version": 3
   },
   "file_extension": ".py",
   "mimetype": "text/x-python",
   "name": "python",
   "nbconvert_exporter": "python",
   "pygments_lexer": "ipython3",
   "version": "3.8.5"
  }
 },
 "nbformat": 4,
 "nbformat_minor": 4
}
