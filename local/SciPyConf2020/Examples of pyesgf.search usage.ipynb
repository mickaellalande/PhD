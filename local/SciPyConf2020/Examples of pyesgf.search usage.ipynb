{
 "cells": [
  {
   "cell_type": "code",
   "execution_count": 1,
   "metadata": {},
   "outputs": [],
   "source": [
    "from pyesgf.search import SearchConnection\n",
    "conn = SearchConnection('http://esgf-index1.ceda.ac.uk/esg-search',\n",
    "                        distrib=True)"
   ]
  },
  {
   "cell_type": "code",
   "execution_count": 2,
   "metadata": {},
   "outputs": [
    {
     "data": {
      "text/plain": [
       "10569"
      ]
     },
     "execution_count": 2,
     "metadata": {},
     "output_type": "execute_result"
    }
   ],
   "source": [
    "ctx = conn.new_context(project='CMIP5', query='humidity')\n",
    "ctx.hit_count"
   ]
  },
  {
   "cell_type": "code",
   "execution_count": 3,
   "metadata": {},
   "outputs": [
    {
     "data": {
      "text/plain": [
       "{'RCP': 804,\n",
       " 'Paleo': 63,\n",
       " 'Idealized': 356,\n",
       " 'Historical': 1203,\n",
       " 'ESM': 180,\n",
       " 'Decadal': 7282,\n",
       " 'Control': 211,\n",
       " 'Atmos-only': 653,\n",
       " 'All': 10569}"
      ]
     },
     "execution_count": 3,
     "metadata": {},
     "output_type": "execute_result"
    }
   ],
   "source": [
    "ctx.facet_counts['experiment_family']"
   ]
  },
  {
   "cell_type": "code",
   "execution_count": null,
   "metadata": {},
   "outputs": [],
   "source": []
  },
  {
   "cell_type": "code",
   "execution_count": null,
   "metadata": {},
   "outputs": [],
   "source": []
  },
  {
   "cell_type": "code",
   "execution_count": 5,
   "metadata": {},
   "outputs": [
    {
     "name": "stdout",
     "output_type": "stream",
     "text": [
      "Hits: 20, Realms: {'ocean': 10, 'atmos': 10}, Ensembles: {'r9i1p1': 2, 'r8i1p1': 2, 'r7i1p1': 2, 'r6i1p1': 2, 'r5i1p1': 2, 'r4i1p1': 2, 'r3i1p1': 2, 'r2i1p1': 2, 'r1i1p1': 2, 'r10i1p1': 2}\n"
     ]
    }
   ],
   "source": [
    "conn = SearchConnection('http://esgf-data.dkrz.de/esg-search', distrib=False)\n",
    "ctx = conn.new_context(project='CMIP5', model='MPI-ESM-LR', experiment='decadal2000', time_frequency='day')\n",
    "print('Hits: {}, Realms: {}, Ensembles: {}'.format(\n",
    "    ctx.hit_count,\n",
    "    ctx.facet_counts['realm'],\n",
    "    ctx.facet_counts['ensemble']))"
   ]
  },
  {
   "cell_type": "code",
   "execution_count": null,
   "metadata": {},
   "outputs": [],
   "source": []
  },
  {
   "cell_type": "code",
   "execution_count": null,
   "metadata": {},
   "outputs": [],
   "source": []
  },
  {
   "cell_type": "code",
   "execution_count": null,
   "metadata": {},
   "outputs": [],
   "source": []
  },
  {
   "cell_type": "code",
   "execution_count": 7,
   "metadata": {},
   "outputs": [
    {
     "name": "stdout",
     "output_type": "stream",
     "text": [
      "Hits: 20, Realms: {'ocean': 10, 'atmos': 10}, Ensembles: {'r9i1p1': 2, 'r8i1p1': 2, 'r7i1p1': 2, 'r6i1p1': 2, 'r5i1p1': 2, 'r4i1p1': 2, 'r3i1p1': 2, 'r2i1p1': 2, 'r1i1p1': 2, 'r10i1p1': 2}\n"
     ]
    }
   ],
   "source": [
    "conn = SearchConnection('http://esgf-data.dkrz.de/esg-search', distrib=False)\n",
    "ctx = conn.new_context(project='CMIP5', model='MPI-ESM-LR', experiment='decadal2000', time_frequency='day')\n",
    "print('Hits: {}, Realms: {}, Ensembles: {}'.format(\n",
    "    ctx.hit_count,\n",
    "    ctx.facet_counts['realm'],\n",
    "    ctx.facet_counts['ensemble']))"
   ]
  }
 ],
 "metadata": {
  "kernelspec": {
   "display_name": "Python 3",
   "language": "python",
   "name": "python3"
  },
  "language_info": {
   "codemirror_mode": {
    "name": "ipython",
    "version": 3
   },
   "file_extension": ".py",
   "mimetype": "text/x-python",
   "name": "python",
   "nbconvert_exporter": "python",
   "pygments_lexer": "ipython3",
   "version": "3.8.3"
  }
 },
 "nbformat": 4,
 "nbformat_minor": 4
}
