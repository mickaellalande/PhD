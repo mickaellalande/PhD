{
 "cells": [
  {
   "cell_type": "markdown",
   "metadata": {},
   "source": [
    "# ClimBase\n",
    "https://docs.juliahub.com/ClimateBase/3OnRr/0.12.3/  "
   ]
  },
  {
   "cell_type": "code",
   "execution_count": 1,
   "metadata": {},
   "outputs": [],
   "source": [
    "using ClimateBase, Dates"
   ]
  },
  {
   "cell_type": "code",
   "execution_count": 11,
   "metadata": {},
   "outputs": [
    {
     "ename": "LoadError",
     "evalue": "UndefVarError: Longitude not defined",
     "output_type": "error",
     "traceback": [
      "UndefVarError: Longitude not defined",
      "",
      "Stacktrace:",
      " [1] getproperty(x::Module, f::Symbol)",
      "   @ Base ./Base.jl:35",
      " [2] top-level scope",
      "   @ In[11]:1",
      " [3] eval",
      "   @ ./boot.jl:373 [inlined]",
      " [4] include_string(mapexpr::typeof(REPL.softscope), mod::Module, code::String, filename::String)",
      "   @ Base ./loading.jl:1196"
     ]
    }
   ],
   "source": [
    "ClimateBase.Longitude"
   ]
  },
  {
   "cell_type": "code",
   "execution_count": 3,
   "metadata": {},
   "outputs": [
    {
     "ename": "LoadError",
     "evalue": "UndefVarError: Lon not defined",
     "output_type": "error",
     "traceback": [
      "UndefVarError: Lon not defined",
      "",
      "Stacktrace:",
      " [1] top-level scope",
      "   @ In[3]:6",
      " [2] eval",
      "   @ ./boot.jl:373 [inlined]",
      " [3] include_string(mapexpr::typeof(REPL.softscope), mod::Module, code::String, filename::String)",
      "   @ Base ./loading.jl:1196"
     ]
    }
   ],
   "source": [
    "Time = ClimateBase.Time # `Time` is more intuitive than `Ti`\n",
    "lats = -90:5:90\n",
    "lons = 0:10:359\n",
    "t = Date(2000, 3, 15):Month(1):Date(2020, 3, 15)\n",
    "# Here we wrap all dimension data into proper dimensions:\n",
    "dimensions = (Lon(lons), Lat(lats), Time(t))\n",
    "# where `Lon, Lat, Time` are `Dimension`s exported by ClimateBase\n",
    "# combining the array data with dimensions makes a `ClimArray`:\n",
    "data = rand(36, 37, 241) # same size as `dimensions`\n",
    "A = ClimArray(data, dimensions)"
   ]
  }
 ],
 "metadata": {
  "kernelspec": {
   "display_name": "Julia 1.7.2",
   "language": "julia",
   "name": "julia-1.7"
  },
  "language_info": {
   "file_extension": ".jl",
   "mimetype": "application/julia",
   "name": "julia",
   "version": "1.7.2"
  }
 },
 "nbformat": 4,
 "nbformat_minor": 4
}
