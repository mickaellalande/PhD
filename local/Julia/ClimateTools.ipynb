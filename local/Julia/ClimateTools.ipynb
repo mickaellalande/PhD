{
 "cells": [
  {
   "cell_type": "markdown",
   "metadata": {},
   "source": [
    "# ClimateTools\n",
    "https://juliaclimate.github.io/ClimateTools.jl/stable/"
   ]
  },
  {
   "cell_type": "code",
   "execution_count": 1,
   "metadata": {},
   "outputs": [
    {
     "ename": "LoadError",
     "evalue": "InitError: PyError (PyImport_ImportModule\n\nThe Python package mpl_toolkits.basemap could not be imported by pyimport. Usually this means\nthat you did not install mpl_toolkits.basemap in the Python version being used by PyCall.\n\nPyCall is currently configured to use the Python version at:\n\n/home/lalandmi/miniconda3/envs/phd_v3/bin/python3\n\nand you should use whatever mechanism you usually use (apt-get, pip, conda,\netcetera) to install the Python package containing the mpl_toolkits.basemap module.\n\nOne alternative is to re-configure PyCall to use a different Python\nversion on your system: set ENV[\"PYTHON\"] to the path/name of the python\nexecutable you want to use, run Pkg.build(\"PyCall\"), and re-launch Julia.\n\nAnother alternative is to configure PyCall to use a Julia-specific Python\ndistribution via the Conda.jl package (which installs a private Anaconda\nPython distribution), which has the advantage that packages can be installed\nand kept up-to-date via Julia.  As explained in the PyCall documentation,\nset ENV[\"PYTHON\"]=\"\", run Pkg.build(\"PyCall\"), and re-launch Julia. Then,\nTo install the mpl_toolkits.basemap module, you can use `pyimport_conda(\"mpl_toolkits.basemap\", PKG)`,\nwhere PKG is the Anaconda package that contains the module mpl_toolkits.basemap,\nor alternatively you can use the Conda package directly (via\n`using Conda` followed by `Conda.add` etcetera).\n\n) <class 'ModuleNotFoundError'>\nModuleNotFoundError(\"No module named 'mpl_toolkits.basemap'\")\n\nduring initialization of module ClimateTools",
     "output_type": "error",
     "traceback": [
      "InitError: PyError (PyImport_ImportModule\n\nThe Python package mpl_toolkits.basemap could not be imported by pyimport. Usually this means\nthat you did not install mpl_toolkits.basemap in the Python version being used by PyCall.\n\nPyCall is currently configured to use the Python version at:\n\n/home/lalandmi/miniconda3/envs/phd_v3/bin/python3\n\nand you should use whatever mechanism you usually use (apt-get, pip, conda,\netcetera) to install the Python package containing the mpl_toolkits.basemap module.\n\nOne alternative is to re-configure PyCall to use a different Python\nversion on your system: set ENV[\"PYTHON\"] to the path/name of the python\nexecutable you want to use, run Pkg.build(\"PyCall\"), and re-launch Julia.\n\nAnother alternative is to configure PyCall to use a Julia-specific Python\ndistribution via the Conda.jl package (which installs a private Anaconda\nPython distribution), which has the advantage that packages can be installed\nand kept up-to-date via Julia.  As explained in the PyCall documentation,\nset ENV[\"PYTHON\"]=\"\", run Pkg.build(\"PyCall\"), and re-launch Julia. Then,\nTo install the mpl_toolkits.basemap module, you can use `pyimport_conda(\"mpl_toolkits.basemap\", PKG)`,\nwhere PKG is the Anaconda package that contains the module mpl_toolkits.basemap,\nor alternatively you can use the Conda package directly (via\n`using Conda` followed by `Conda.add` etcetera).\n\n) <class 'ModuleNotFoundError'>\nModuleNotFoundError(\"No module named 'mpl_toolkits.basemap'\")\n\nduring initialization of module ClimateTools",
      "",
      "Stacktrace:",
      "  [1] pyimport(name::String)",
      "    @ PyCall ~/.julia/packages/PyCall/7a7w0/src/PyCall.jl:550",
      "  [2] pyimport_conda(modulename::String, condapkg::String, channel::String)",
      "    @ PyCall ~/.julia/packages/PyCall/7a7w0/src/PyCall.jl:708",
      "  [3] pyimport_conda",
      "    @ ~/.julia/packages/PyCall/7a7w0/src/PyCall.jl:707 [inlined]",
      "  [4] __init__()",
      "    @ ClimateTools ~/.julia/packages/ClimateTools/paN0M/src/ClimateTools.jl:52",
      "  [5] _include_from_serialized(path::String, depmods::Vector{Any})",
      "    @ Base ./loading.jl:768",
      "  [6] _require_search_from_serialized(pkg::Base.PkgId, sourcepath::String)",
      "    @ Base ./loading.jl:854",
      "  [7] _require(pkg::Base.PkgId)",
      "    @ Base ./loading.jl:1097",
      "  [8] require(uuidkey::Base.PkgId)",
      "    @ Base ./loading.jl:1013",
      "  [9] require(into::Module, mod::Symbol)",
      "    @ Base ./loading.jl:997",
      " [10] eval",
      "    @ ./boot.jl:373 [inlined]",
      " [11] include_string(mapexpr::typeof(REPL.softscope), mod::Module, code::String, filename::String)",
      "    @ Base ./loading.jl:1196"
     ]
    }
   ],
   "source": [
    "using ClimateTools"
   ]
  }
 ],
 "metadata": {
  "kernelspec": {
   "display_name": "Julia 1.7.2",
   "language": "julia",
   "name": "julia-1.7"
  },
  "language_info": {
   "file_extension": ".jl",
   "mimetype": "application/julia",
   "name": "julia",
   "version": "1.7.2"
  }
 },
 "nbformat": 4,
 "nbformat_minor": 4
}
