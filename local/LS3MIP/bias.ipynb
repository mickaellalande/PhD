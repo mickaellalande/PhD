{
 "cells": [
  {
   "cell_type": "code",
   "execution_count": 15,
   "metadata": {},
   "outputs": [
    {
     "name": "stdout",
     "output_type": "stream",
     "text": [
      "The autoreload extension is already loaded. To reload it, use:\n",
      "  %reload_ext autoreload\n"
     ]
    }
   ],
   "source": [
    "# To reload external files automatically (not needed here)\n",
    "%load_ext autoreload\n",
    "%autoreload 2\n",
    "\n",
    "import xarray as xr\n",
    "import pandas as pd\n",
    "import numpy as np\n",
    "import matplotlib.pyplot as plt\n",
    "import proplot as plot # New plot library (https://proplot.readthedocs.io/en/latest/)\n",
    "from scipy import stats\n",
    "import xesmf as xe # For regridding (https://xesmf.readthedocs.io/en/latest/)\n",
    "import intake\n",
    "from dask.distributed import Client"
   ]
  },
  {
   "cell_type": "markdown",
   "metadata": {},
   "source": [
    "## Start dask client (for parallelization)"
   ]
  },
  {
   "cell_type": "code",
   "execution_count": 16,
   "metadata": {},
   "outputs": [
    {
     "data": {
      "text/html": [
       "<table style=\"border: 2px solid white;\">\n",
       "<tr>\n",
       "<td style=\"vertical-align: top; border: 0px solid white\">\n",
       "<h3 style=\"text-align: left;\">Client</h3>\n",
       "<ul style=\"text-align: left; list-style: none; margin: 0; padding: 0;\">\n",
       "  <li><b>Scheduler: </b>tcp://127.0.0.1:44319</li>\n",
       "  <li><b>Dashboard: </b><a href='http://127.0.0.1:8787/status' target='_blank'>http://127.0.0.1:8787/status</a></li>\n",
       "</ul>\n",
       "</td>\n",
       "<td style=\"vertical-align: top; border: 0px solid white\">\n",
       "<h3 style=\"text-align: left;\">Cluster</h3>\n",
       "<ul style=\"text-align: left; list-style:none; margin: 0; padding: 0;\">\n",
       "  <li><b>Workers: </b>4</li>\n",
       "  <li><b>Cores: </b>12</li>\n",
       "  <li><b>Memory: </b>33.33 GB</li>\n",
       "</ul>\n",
       "</td>\n",
       "</tr>\n",
       "</table>"
      ],
      "text/plain": [
       "<Client: 'tcp://127.0.0.1:44319' processes=4 threads=12, memory=33.33 GB>"
      ]
     },
     "execution_count": 16,
     "metadata": {},
     "output_type": "execute_result"
    }
   ],
   "source": [
    "client = Client()\n",
    "client"
   ]
  },
  {
   "cell_type": "markdown",
   "metadata": {},
   "source": [
    "## Get multimodel data with Intake\n",
    "https://intake-esm.readthedocs.io/en/latest/notebooks/tutorial.html"
   ]
  },
  {
   "cell_type": "code",
   "execution_count": 17,
   "metadata": {},
   "outputs": [
    {
     "name": "stderr",
     "output_type": "stream",
     "text": [
      "/home/lalandmi/miniconda3/envs/phd_v3/lib/python3.8/site-packages/IPython/core/interactiveshell.py:3343: DtypeWarning: Columns (10) have mixed types.Specify dtype option on import or set low_memory=False.\n",
      "  exec(code_obj, self.user_global_ns, self.user_ns)\n"
     ]
    },
    {
     "name": "stdout",
     "output_type": "stream",
     "text": [
      "<class 'intake_esm.core.esm_datastore'>\n"
     ]
    },
    {
     "data": {
      "text/html": [
       "<p><strong>pangeo-cmip6 catalog with 4552 dataset(s) from 288908 asset(s)</strong>:</p> <div>\n",
       "<style scoped>\n",
       "    .dataframe tbody tr th:only-of-type {\n",
       "        vertical-align: middle;\n",
       "    }\n",
       "\n",
       "    .dataframe tbody tr th {\n",
       "        vertical-align: top;\n",
       "    }\n",
       "\n",
       "    .dataframe thead th {\n",
       "        text-align: right;\n",
       "    }\n",
       "</style>\n",
       "<table border=\"1\" class=\"dataframe\">\n",
       "  <thead>\n",
       "    <tr style=\"text-align: right;\">\n",
       "      <th></th>\n",
       "      <th>unique</th>\n",
       "    </tr>\n",
       "  </thead>\n",
       "  <tbody>\n",
       "    <tr>\n",
       "      <th>activity_id</th>\n",
       "      <td>15</td>\n",
       "    </tr>\n",
       "    <tr>\n",
       "      <th>institution_id</th>\n",
       "      <td>34</td>\n",
       "    </tr>\n",
       "    <tr>\n",
       "      <th>source_id</th>\n",
       "      <td>78</td>\n",
       "    </tr>\n",
       "    <tr>\n",
       "      <th>experiment_id</th>\n",
       "      <td>105</td>\n",
       "    </tr>\n",
       "    <tr>\n",
       "      <th>member_id</th>\n",
       "      <td>208</td>\n",
       "    </tr>\n",
       "    <tr>\n",
       "      <th>table_id</th>\n",
       "      <td>30</td>\n",
       "    </tr>\n",
       "    <tr>\n",
       "      <th>variable_id</th>\n",
       "      <td>391</td>\n",
       "    </tr>\n",
       "    <tr>\n",
       "      <th>grid_label</th>\n",
       "      <td>10</td>\n",
       "    </tr>\n",
       "    <tr>\n",
       "      <th>zstore</th>\n",
       "      <td>288908</td>\n",
       "    </tr>\n",
       "    <tr>\n",
       "      <th>dcpp_init_year</th>\n",
       "      <td>60</td>\n",
       "    </tr>\n",
       "    <tr>\n",
       "      <th>version</th>\n",
       "      <td>506</td>\n",
       "    </tr>\n",
       "  </tbody>\n",
       "</table>\n",
       "</div>"
      ],
      "text/plain": [
       "<IPython.core.display.HTML object>"
      ]
     },
     "metadata": {},
     "output_type": "display_data"
    }
   ],
   "source": [
    "# Get the catalog (from Google Cloud)\n",
    "url = \"https://raw.githubusercontent.com/NCAR/intake-esm-datastore/master/catalogs/pangeo-cmip6.json\"\n",
    "col = intake.open_esm_datastore(url)\n",
    "print(type(col))\n",
    "col"
   ]
  },
  {
   "cell_type": "code",
   "execution_count": 18,
   "metadata": {},
   "outputs": [
    {
     "name": "stdout",
     "output_type": "stream",
     "text": [
      "{'experiment_id': {'count': 105,\n",
      "                   'values': ['1pctCO2', '1pctCO2-bgc', '1pctCO2-rad',\n",
      "                              'abrupt-0p5xCO2', 'abrupt-2xCO2', 'abrupt-4xCO2',\n",
      "                              'abrupt-solm4p', 'abrupt-solp4p', 'amip',\n",
      "                              'amip-4xCO2', 'amip-future4K', 'amip-hist',\n",
      "                              'amip-lwoff', 'amip-m4K', 'amip-p4K',\n",
      "                              'amip-p4K-lwoff', 'aqua-4xCO2', 'aqua-control',\n",
      "                              'aqua-control-lwoff', 'aqua-p4K',\n",
      "                              'aqua-p4K-lwoff', 'control-1950', 'dcppA-assim',\n",
      "                              'dcppA-hindcast', 'dcppC-amv-ExTrop-neg',\n",
      "                              'dcppC-amv-ExTrop-pos', 'dcppC-amv-Trop-neg',\n",
      "                              'dcppC-amv-Trop-pos', 'dcppC-amv-neg',\n",
      "                              'dcppC-amv-pos', 'dcppC-atl-control',\n",
      "                              'dcppC-atl-pacemaker', 'dcppC-hindcast-noAgung',\n",
      "                              'dcppC-hindcast-noElChichon',\n",
      "                              'dcppC-hindcast-noPinatubo',\n",
      "                              'dcppC-ipv-NexTrop-neg', 'dcppC-ipv-NexTrop-pos',\n",
      "                              'dcppC-ipv-neg', 'dcppC-ipv-pos',\n",
      "                              'dcppC-pac-control', 'dcppC-pac-pacemaker',\n",
      "                              'deforest-globe', 'esm-hist', 'esm-piControl',\n",
      "                              'esm-piControl-spinup', 'esm-ssp585',\n",
      "                              'esm-ssp585-ssp126Lu', 'faf-all', 'faf-heat',\n",
      "                              'faf-passiveheat', 'faf-stress', 'faf-water',\n",
      "                              'highresSST-future', 'highresSST-present',\n",
      "                              'hist-1950', 'hist-CO2', 'hist-GHG', 'hist-aer',\n",
      "                              'hist-bgc', 'hist-nat', 'hist-noLu',\n",
      "                              'hist-resIPO', 'hist-sol', 'hist-stratO3',\n",
      "                              'hist-volc', 'histSST', 'historical', 'land-hist',\n",
      "                              'land-noLu', 'lgm', 'lig127k', 'midHolocene',\n",
      "                              'omip1', 'piClim-2xDMS', 'piClim-2xdust',\n",
      "                              'piClim-2xfire', 'piClim-2xss', 'piClim-4xCO2',\n",
      "                              'piClim-BC', 'piClim-CH4', 'piClim-HC',\n",
      "                              'piClim-N2O', 'piClim-NTCF', 'piClim-OC',\n",
      "                              'piClim-SO2', 'piClim-aer', 'piClim-anthro',\n",
      "                              'piClim-control', 'piClim-ghg', 'piClim-histall',\n",
      "                              'piClim-lu', 'piControl', 'piControl-spinup',\n",
      "                              'ssp119', 'ssp126', 'ssp245', 'ssp245-GHG',\n",
      "                              'ssp245-aer', 'ssp245-nat', 'ssp245-stratO3',\n",
      "                              'ssp370', 'ssp434', 'ssp460', 'ssp534-over',\n",
      "                              'ssp585']},\n",
      " 'source_id': {'count': 78,\n",
      "               'values': ['ACCESS-CM2', 'ACCESS-ESM1-5', 'AWI-CM-1-1-MR',\n",
      "                          'AWI-ESM-1-1-LR', 'BCC-CSM2-HR', 'BCC-CSM2-MR',\n",
      "                          'BCC-ESM1', 'CAMS-CSM1-0', 'CAS-ESM2-0',\n",
      "                          'CESM1-1-CAM5-CMIP5', 'CESM2', 'CESM2-FV2',\n",
      "                          'CESM2-WACCM', 'CESM2-WACCM-FV2', 'CIESM',\n",
      "                          'CMCC-CM2-HR4', 'CMCC-CM2-SR5', 'CMCC-CM2-VHR4',\n",
      "                          'CMCC-ESM2', 'CNRM-CM6-1', 'CNRM-CM6-1-HR',\n",
      "                          'CNRM-ESM2-1', 'CanESM5', 'CanESM5-CanOE', 'E3SM-1-0',\n",
      "                          'E3SM-1-1', 'E3SM-1-1-ECA', 'EC-Earth3',\n",
      "                          'EC-Earth3-LR', 'EC-Earth3-Veg', 'EC-Earth3-Veg-LR',\n",
      "                          'EC-Earth3P', 'EC-Earth3P-HR', 'ECMWF-IFS-HR',\n",
      "                          'ECMWF-IFS-LR', 'FGOALS-f3-L', 'FGOALS-g3',\n",
      "                          'FIO-ESM-2-0', 'GFDL-AM4', 'GFDL-CM4', 'GFDL-CM4C192',\n",
      "                          'GFDL-ESM4', 'GFDL-OM4p5B', 'GISS-E2-1-G',\n",
      "                          'GISS-E2-1-G-CC', 'GISS-E2-1-H', 'GISS-E2-2-G',\n",
      "                          'HadGEM3-GC31-HM', 'HadGEM3-GC31-LL',\n",
      "                          'HadGEM3-GC31-LM', 'HadGEM3-GC31-MM', 'IITM-ESM',\n",
      "                          'INM-CM4-8', 'INM-CM5-0', 'INM-CM5-H',\n",
      "                          'IPSL-CM6A-ATM-HR', 'IPSL-CM6A-LR', 'KACE-1-0-G',\n",
      "                          'KIOST-ESM', 'MCM-UA-1-0', 'MIROC-ES2H-NB',\n",
      "                          'MIROC-ES2L', 'MIROC6', 'MPI-ESM-1-2-HAM',\n",
      "                          'MPI-ESM1-2-HR', 'MPI-ESM1-2-LR', 'MPI-ESM1-2-XR',\n",
      "                          'MRI-AGCM3-2-H', 'MRI-AGCM3-2-S', 'MRI-ESM2-0',\n",
      "                          'NESM3', 'NorCPM1', 'NorESM1-F', 'NorESM2-LM',\n",
      "                          'NorESM2-MM', 'SAM0-UNICON', 'TaiESM1',\n",
      "                          'UKESM1-0-LL']},\n",
      " 'table_id': {'count': 30,\n",
      "              'values': ['3hr', '6hrLev', '6hrPlev', '6hrPlevPt', 'AERhr',\n",
      "                         'AERmon', 'AERmonZ', 'Aclim', 'Amon', 'CF3hr', 'CFday',\n",
      "                         'CFmon', 'E3hr', 'Eclim', 'Eday', 'Emon', 'IfxGre',\n",
      "                         'ImonGre', 'LImon', 'Lmon', 'Oclim', 'Oday', 'Odec',\n",
      "                         'Ofx', 'Omon', 'Oyr', 'SIclim', 'SImon', 'day',\n",
      "                         'fx']}}\n"
     ]
    }
   ],
   "source": [
    "# Print all available experiments, models and tables\n",
    "import pprint\n",
    "\n",
    "uni_dict = col.unique([\"source_id\", \"experiment_id\", \"table_id\"])\n",
    "pprint.pprint(uni_dict, compact=True)"
   ]
  },
  {
   "cell_type": "code",
   "execution_count": 19,
   "metadata": {},
   "outputs": [
    {
     "name": "stderr",
     "output_type": "stream",
     "text": [
      "/home/lalandmi/miniconda3/envs/phd_v3/lib/python3.8/site-packages/intake_esm/core.py:705: UserWarning: Query returned zero results.\n",
      "  warn(message)\n"
     ]
    },
    {
     "data": {
      "text/html": [
       "<p><strong>pangeo-cmip6 catalog with 0 dataset(s) from 0 asset(s)</strong>:</p> <div>\n",
       "<style scoped>\n",
       "    .dataframe tbody tr th:only-of-type {\n",
       "        vertical-align: middle;\n",
       "    }\n",
       "\n",
       "    .dataframe tbody tr th {\n",
       "        vertical-align: top;\n",
       "    }\n",
       "\n",
       "    .dataframe thead th {\n",
       "        text-align: right;\n",
       "    }\n",
       "</style>\n",
       "<table border=\"1\" class=\"dataframe\">\n",
       "  <thead>\n",
       "    <tr style=\"text-align: right;\">\n",
       "      <th></th>\n",
       "      <th>unique</th>\n",
       "    </tr>\n",
       "  </thead>\n",
       "  <tbody>\n",
       "    <tr>\n",
       "      <th>activity_id</th>\n",
       "      <td>0</td>\n",
       "    </tr>\n",
       "    <tr>\n",
       "      <th>institution_id</th>\n",
       "      <td>0</td>\n",
       "    </tr>\n",
       "    <tr>\n",
       "      <th>source_id</th>\n",
       "      <td>0</td>\n",
       "    </tr>\n",
       "    <tr>\n",
       "      <th>experiment_id</th>\n",
       "      <td>0</td>\n",
       "    </tr>\n",
       "    <tr>\n",
       "      <th>member_id</th>\n",
       "      <td>0</td>\n",
       "    </tr>\n",
       "    <tr>\n",
       "      <th>table_id</th>\n",
       "      <td>0</td>\n",
       "    </tr>\n",
       "    <tr>\n",
       "      <th>variable_id</th>\n",
       "      <td>0</td>\n",
       "    </tr>\n",
       "    <tr>\n",
       "      <th>grid_label</th>\n",
       "      <td>0</td>\n",
       "    </tr>\n",
       "    <tr>\n",
       "      <th>zstore</th>\n",
       "      <td>0</td>\n",
       "    </tr>\n",
       "    <tr>\n",
       "      <th>dcpp_init_year</th>\n",
       "      <td>0</td>\n",
       "    </tr>\n",
       "    <tr>\n",
       "      <th>version</th>\n",
       "      <td>0</td>\n",
       "    </tr>\n",
       "  </tbody>\n",
       "</table>\n",
       "</div>"
      ],
      "text/plain": [
       "<IPython.core.display.HTML object>"
      ]
     },
     "metadata": {},
     "output_type": "display_data"
    }
   ],
   "source": [
    "# Select the desired data\n",
    "cat = col.search(\n",
    "    experiment_id=[\"land-hist\"],\n",
    "    table_id=\"LImon\",\n",
    "    variable_id=\"snc\",\n",
    "#     source_id=\"IPSL-CM6A-LR\",\n",
    "#     member_id=\"r1i1p1f1\"   \n",
    ")\n",
    "\n",
    "cat"
   ]
  },
  {
   "cell_type": "code",
   "execution_count": 13,
   "metadata": {},
   "outputs": [
    {
     "data": {
      "text/plain": [
       "0           prsn\n",
       "1            tas\n",
       "2         tasmax\n",
       "3         tasmin\n",
       "4          mrsol\n",
       "5        cLitter\n",
       "6       cProduct\n",
       "7           cVeg\n",
       "8     evspsblveg\n",
       "9            gpp\n",
       "10           lai\n",
       "11          mrro\n",
       "12         mrros\n",
       "13          mrso\n",
       "14         mrsos\n",
       "15          tran\n",
       "Name: variable_id, dtype: object"
      ]
     },
     "execution_count": 13,
     "metadata": {},
     "output_type": "execute_result"
    }
   ],
   "source": [
    "cat.df.variable_id"
   ]
  },
  {
   "cell_type": "markdown",
   "metadata": {},
   "source": [
    "## Missing `snc` so finally I stay on CICLAD!"
   ]
  },
  {
   "cell_type": "code",
   "execution_count": 20,
   "metadata": {},
   "outputs": [],
   "source": [
    "client.close()"
   ]
  }
 ],
 "metadata": {
  "kernelspec": {
   "display_name": "Python [conda env:phd_v3] *",
   "language": "python",
   "name": "conda-env-phd_v3-py"
  },
  "language_info": {
   "codemirror_mode": {
    "name": "ipython",
    "version": 3
   },
   "file_extension": ".py",
   "mimetype": "text/x-python",
   "name": "python",
   "nbconvert_exporter": "python",
   "pygments_lexer": "ipython3",
   "version": "3.8.5"
  }
 },
 "nbformat": 4,
 "nbformat_minor": 4
}
