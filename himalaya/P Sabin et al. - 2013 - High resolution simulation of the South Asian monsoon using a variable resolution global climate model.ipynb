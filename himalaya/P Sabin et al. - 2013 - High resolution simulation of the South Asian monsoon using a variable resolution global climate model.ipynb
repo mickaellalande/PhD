{
 "cells": [
  {
   "cell_type": "markdown",
   "metadata": {},
   "source": [
    "# High resolution simulation of the South Asian monsoon using a variable resolution global climate model\n",
    "P Sabin, T.\n",
    "Krishnan, R.\n",
    "Ghattas, Josefine\n",
    "Denvil, Sebastien\n",
    "Dufresne, Jean Louis\n",
    "Hourdin, Frederic\n",
    "Pascal, Terray"
   ]
  },
  {
   "cell_type": "code",
   "execution_count": 1,
   "metadata": {},
   "outputs": [
    {
     "name": "stdout",
     "output_type": "stream",
     "text": [
      "3.7.5 (default, Oct 25 2019, 15:51:11) \n",
      "[GCC 7.3.0]\n",
      "Virtual memory usage - total: 252 GB / available: 184 GB / percent used: 26.9 %\n"
     ]
    }
   ],
   "source": [
    "%load_ext autoreload\n",
    "%autoreload 2\n",
    "\n",
    "import xarray as xr\n",
    "import pandas as pd\n",
    "import numpy as np\n",
    "import matplotlib.pyplot as plt\n",
    "import proplot as plot\n",
    "from scipy import stats\n",
    "\n",
    "import sys\n",
    "sys.path.insert(1, '../')\n",
    "import utils as u\n",
    "u.check_python_version()\n",
    "u.check_virtual_memory()"
   ]
  },
  {
   "cell_type": "code",
   "execution_count": 5,
   "metadata": {},
   "outputs": [],
   "source": [
    "a = None; b=2; c =3"
   ]
  },
  {
   "cell_type": "code",
   "execution_count": 14,
   "metadata": {},
   "outputs": [
    {
     "data": {
      "text/plain": [
       "True"
      ]
     },
     "execution_count": 14,
     "metadata": {},
     "output_type": "execute_result"
    }
   ],
   "source": [
    "a is not None or b is not None"
   ]
  },
  {
   "cell_type": "code",
   "execution_count": null,
   "metadata": {},
   "outputs": [],
   "source": [
    "def get_data_IPSL_CM6A_LR_historical(variable, period=None, lat=None, lon=None):\n",
    "    n_realization = 32 # 32\n",
    "    list_da = []\n",
    "    \n",
    "    if variable in ['snc']: table = 'LImon'\n",
    "    if variable in ['pr']: table = 'Amon' \n",
    "    \n",
    "    for i in range(1,n_realization+1):\n",
    "        \n",
    "        path = '/bdd/CMIP6/CMIP/IPSL/IPSL-CM6A-LR/historical/r'+str(i)+'i1p1f1/'+table+'/'+variable+'/gr/latest/'\\\n",
    "               +variable+'_'+table+'_IPSL-CM6A-LR_historical_r'+str(i)+'i1p1f1_gr_185001-201412.nc'\n",
    "        \n",
    "        if period is not None and lat is not None and lon is not None:\n",
    "            list_da.append(xr.open_dataset(path)[variable].sel(time=period, lat=lat, lon=lon))\n",
    "            \n",
    "        elif period is not None and lat is not None and lon is None:\n",
    "            list_da.append(xr.open_dataset(path)[variable].sel(time=period, lat=lat))\n",
    "        elif period is None and lat is not None and lon is not None:\n",
    "            list_da.append(xr.open_dataset(path)[variable].sel(lat=lat, lon=lon))\n",
    "        elif period is not None and lat is None and lon is not None:\n",
    "            list_da.append(xr.open_dataset(path)[variable].sel(time=period, lon=lon))\n",
    "            \n",
    "        elif period is not None and lat is None and lon is None:\n",
    "            list_da.append(xr.open_dataset(path)[variable].sel(time=period))\n",
    "        elif period is None and lat is not None and lon is None:\n",
    "            list_da.append(xr.open_dataset(path)[variable].sel(lat=lat))\n",
    "        elif period is None and lat is None and lon is not None:\n",
    "            list_da.append(xr.open_dataset(path)[variable].sel(lon=lon))\n",
    "        \n",
    "        else:\n",
    "            list_da.append(xr.open_dataset(path)[variable]     \n",
    "\n",
    "    \n",
    "    snc = xr.concat(\n",
    "        list_da, \n",
    "        pd.Index(['r'+str(i)+'i1p1f1' for i in range(1,n_realization+1)], name='realization')\n",
    "    )\n",
    "    \n",
    "    return snc"
   ]
  },
  {
   "cell_type": "code",
   "execution_count": 2,
   "metadata": {},
   "outputs": [],
   "source": [
    "def get_data():\n",
    "    n_realization = 32 # 32\n",
    "    list_da = []\n",
    "    \n",
    "    for i in range(1,n_realization+1):\n",
    "        \n",
    "        path = '/bdd/CMIP6/CMIP/IPSL/IPSL-CM6A-LR/historical/r'+str(i)+'i1p1f1/LImon/snc/gr/latest/'\\\n",
    "               'snc_LImon_IPSL-CM6A-LR_historical_r'+str(i)+'i1p1f1_gr_185001-201412.nc'\n",
    "        \n",
    "        list_da.append(xr.open_dataset(path).snc.sel(time=slice('1979','2008')))\n",
    "\n",
    "    snc = xr.concat(\n",
    "        list_da, \n",
    "        pd.Index(['r'+str(i)+'i1p1f1' for i in range(1,n_realization+1)], name='realization')\n",
    "    )\n",
    "    \n",
    "    return snc"
   ]
  },
  {
   "cell_type": "code",
   "execution_count": null,
   "metadata": {},
   "outputs": [],
   "source": [
    "/bdd/CMIP6/CMIP/IPSL/IPSL-CM6A-LR/historical/r10i1p1f1/Amon/pr/gr/latest/pr_Amon_IPSL-CM6A-LR_historical_r10i1p1f1_gr_185001-201412.nc"
   ]
  }
 ],
 "metadata": {
  "kernelspec": {
   "display_name": "Python [conda env:root]",
   "language": "python",
   "name": "conda-root-py"
  },
  "language_info": {
   "codemirror_mode": {
    "name": "ipython",
    "version": 3
   },
   "file_extension": ".py",
   "mimetype": "text/x-python",
   "name": "python",
   "nbconvert_exporter": "python",
   "pygments_lexer": "ipython3",
   "version": "3.7.5"
  }
 },
 "nbformat": 4,
 "nbformat_minor": 2
}
