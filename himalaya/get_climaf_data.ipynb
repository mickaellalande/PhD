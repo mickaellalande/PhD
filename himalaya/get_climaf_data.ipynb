{
 "cells": [
  {
   "cell_type": "code",
   "execution_count": 1,
   "metadata": {},
   "outputs": [
    {
     "name": "stdout",
     "output_type": "stream",
     "text": [
      "('LC debug :', False)\n",
      "CliMAF install => /ciclad-home/jservon/Evaluation/CliMAF/climaf_installs/climaf_1.2.12\n",
      "python => /prodigfs/ipslfs/dods/jservon/miniconda/envs/analyse_env_2.7/bin/python\n",
      "---\n",
      "Required softwares to run CliMAF => you are using the following versions/installations:\n"
     ]
    },
    {
     "name": "stderr",
     "output_type": "stream",
     "text": [
      "CliMAF version = 1.2.12\n"
     ]
    },
    {
     "name": "stdout",
     "output_type": "stream",
     "text": [
      "ncl 6.6.2 => /prodigfs/ipslfs/dods/jservon/miniconda/envs/analyse_env_2.7/bin/ncl\n",
      "cdo 1.9.6 => /opt/nco/1.9/bin/cdo\n",
      "nco (ncks) 4.5.2 => /opt/nco-4.5.2/bin/ncks\n",
      "ncdump fichier => /prodigfs/ipslfs/dods/jservon/miniconda/envs/analyse_env_2.7/bin/ncdump\n",
      "---\n"
     ]
    },
    {
     "name": "stderr",
     "output_type": "stream",
     "text": [
      "Cache directory set to : /data/mlalande/climafcache (use $CLIMAF_CACHE if set) \n",
      "Cache directory for remote data set to : /data/mlalande/climafcache/remote_data (use $CLIMAF_REMOTE_CACHE if set) \n",
      "warning  : Binary cdftools not found. Some operators won't work\n",
      "Available macros read from ~/.climaf.macros are : []\n"
     ]
    }
   ],
   "source": [
    "from climaf.api import *"
   ]
  },
  {
   "cell_type": "markdown",
   "metadata": {},
   "source": [
    "## CMIP6 Data Request\n",
    "http://clipc-services.ceda.ac.uk/dreq/index/miptable.html"
   ]
  },
  {
   "cell_type": "code",
   "execution_count": 5,
   "metadata": {},
   "outputs": [],
   "source": [
    "variable='snc'\n",
    "\n",
    "if variable in ['snc']: table = 'LImon'\n",
    "if variable in ['pr', 'ua', 'va']: table = 'Amon'\n",
    "\n",
    "req = ds(\n",
    "    project='CMIP6', \n",
    "    model='IPSL-CM6A-LR', \n",
    "    table=table,\n",
    "    variable=variable,    \n",
    "    frequency='monthly',\n",
    "    realization='*',\n",
    "    period='1979-2008',\n",
    "    experiment='historical',\n",
    "#     experiment='amip',\n",
    "#     experiment='land-hist',\n",
    "#     domain=[25,90,-180,180]\n",
    ")"
   ]
  },
  {
   "cell_type": "code",
   "execution_count": 6,
   "metadata": {},
   "outputs": [
    {
     "data": {
      "text/plain": [
       "{'grid': 'gr',\n",
       " 'institute': 'IPSL',\n",
       " 'mip': 'CMIP',\n",
       " 'realization': ['r10i1p1f1',\n",
       "  'r11i1p1f1',\n",
       "  'r12i1p1f1',\n",
       "  'r13i1p1f1',\n",
       "  'r14i1p1f1',\n",
       "  'r15i1p1f1',\n",
       "  'r16i1p1f1',\n",
       "  'r17i1p1f1',\n",
       "  'r18i1p1f1',\n",
       "  'r19i1p1f1',\n",
       "  'r1i1p1f1',\n",
       "  'r20i1p1f1',\n",
       "  'r21i1p1f1',\n",
       "  'r22i1p1f1',\n",
       "  'r23i1p1f1',\n",
       "  'r24i1p1f1',\n",
       "  'r25i1p1f1',\n",
       "  'r26i1p1f1',\n",
       "  'r27i1p1f1',\n",
       "  'r28i1p1f1',\n",
       "  'r29i1p1f1',\n",
       "  'r2i1p1f1',\n",
       "  'r30i1p1f1',\n",
       "  'r31i1p1f1',\n",
       "  'r32i1p1f1',\n",
       "  'r3i1p1f1',\n",
       "  'r4i1p1f1',\n",
       "  'r5i1p1f1',\n",
       "  'r6i1p1f1',\n",
       "  'r7i1p1f1',\n",
       "  'r8i1p1f1',\n",
       "  'r9i1p1f1']}"
      ]
     },
     "execution_count": 6,
     "metadata": {},
     "output_type": "execute_result"
    }
   ],
   "source": [
    "req.explore('choices')"
   ]
  },
  {
   "cell_type": "code",
   "execution_count": 7,
   "metadata": {},
   "outputs": [
    {
     "name": "stdout",
     "output_type": "stream",
     "text": [
      "Keys - values:\n",
      "{'domain': 'global', 'version': 'latest', 'institute': 'IPSL', 'realization': 'r10i1p1f1', 'period': 1979-2008, 'simulation': '', 'project': 'CMIP6', 'experiment': 'historical', 'grid': 'gr', 'table': 'LImon', 'variable': 'snc', 'mip': 'CMIP', 'model': 'IPSL-CM6A-LR', 'root': '/bdd'}\n",
      "-- Ensemble members:\n",
      "r10i1p1f1\n",
      "/bdd/CMIP6/CMIP/IPSL/IPSL-CM6A-LR/historical/r10i1p1f1/LImon/snc/gr/latest/snc_LImon_IPSL-CM6A-LR_historical_r10i1p1f1_gr_185001-201412.nc\n",
      "--\n",
      "r11i1p1f1\n",
      "/bdd/CMIP6/CMIP/IPSL/IPSL-CM6A-LR/historical/r11i1p1f1/LImon/snc/gr/latest/snc_LImon_IPSL-CM6A-LR_historical_r11i1p1f1_gr_185001-201412.nc\n",
      "--\n",
      "r12i1p1f1\n",
      "/bdd/CMIP6/CMIP/IPSL/IPSL-CM6A-LR/historical/r12i1p1f1/LImon/snc/gr/latest/snc_LImon_IPSL-CM6A-LR_historical_r12i1p1f1_gr_185001-201412.nc\n",
      "--\n",
      "r13i1p1f1\n",
      "/bdd/CMIP6/CMIP/IPSL/IPSL-CM6A-LR/historical/r13i1p1f1/LImon/snc/gr/latest/snc_LImon_IPSL-CM6A-LR_historical_r13i1p1f1_gr_185001-201412.nc\n",
      "--\n",
      "r14i1p1f1\n",
      "/bdd/CMIP6/CMIP/IPSL/IPSL-CM6A-LR/historical/r14i1p1f1/LImon/snc/gr/latest/snc_LImon_IPSL-CM6A-LR_historical_r14i1p1f1_gr_185001-201412.nc\n",
      "--\n",
      "r15i1p1f1\n",
      "/bdd/CMIP6/CMIP/IPSL/IPSL-CM6A-LR/historical/r15i1p1f1/LImon/snc/gr/latest/snc_LImon_IPSL-CM6A-LR_historical_r15i1p1f1_gr_185001-201412.nc\n",
      "--\n",
      "r16i1p1f1\n",
      "/bdd/CMIP6/CMIP/IPSL/IPSL-CM6A-LR/historical/r16i1p1f1/LImon/snc/gr/latest/snc_LImon_IPSL-CM6A-LR_historical_r16i1p1f1_gr_185001-201412.nc\n",
      "--\n",
      "r17i1p1f1\n",
      "/bdd/CMIP6/CMIP/IPSL/IPSL-CM6A-LR/historical/r17i1p1f1/LImon/snc/gr/latest/snc_LImon_IPSL-CM6A-LR_historical_r17i1p1f1_gr_185001-201412.nc\n",
      "--\n",
      "r18i1p1f1\n",
      "/bdd/CMIP6/CMIP/IPSL/IPSL-CM6A-LR/historical/r18i1p1f1/LImon/snc/gr/latest/snc_LImon_IPSL-CM6A-LR_historical_r18i1p1f1_gr_185001-201412.nc\n",
      "--\n",
      "r19i1p1f1\n",
      "/bdd/CMIP6/CMIP/IPSL/IPSL-CM6A-LR/historical/r19i1p1f1/LImon/snc/gr/latest/snc_LImon_IPSL-CM6A-LR_historical_r19i1p1f1_gr_185001-201412.nc\n",
      "--\n",
      "r1i1p1f1\n",
      "/bdd/CMIP6/CMIP/IPSL/IPSL-CM6A-LR/historical/r1i1p1f1/LImon/snc/gr/latest/snc_LImon_IPSL-CM6A-LR_historical_r1i1p1f1_gr_185001-201412.nc\n",
      "--\n",
      "r20i1p1f1\n",
      "/bdd/CMIP6/CMIP/IPSL/IPSL-CM6A-LR/historical/r20i1p1f1/LImon/snc/gr/latest/snc_LImon_IPSL-CM6A-LR_historical_r20i1p1f1_gr_185001-201412.nc\n",
      "--\n",
      "r21i1p1f1\n",
      "/bdd/CMIP6/CMIP/IPSL/IPSL-CM6A-LR/historical/r21i1p1f1/LImon/snc/gr/latest/snc_LImon_IPSL-CM6A-LR_historical_r21i1p1f1_gr_185001-201412.nc\n",
      "--\n",
      "r22i1p1f1\n",
      "/bdd/CMIP6/CMIP/IPSL/IPSL-CM6A-LR/historical/r22i1p1f1/LImon/snc/gr/latest/snc_LImon_IPSL-CM6A-LR_historical_r22i1p1f1_gr_185001-201412.nc\n",
      "--\n",
      "r23i1p1f1\n",
      "/bdd/CMIP6/CMIP/IPSL/IPSL-CM6A-LR/historical/r23i1p1f1/LImon/snc/gr/latest/snc_LImon_IPSL-CM6A-LR_historical_r23i1p1f1_gr_185001-201412.nc\n",
      "--\n",
      "r24i1p1f1\n",
      "/bdd/CMIP6/CMIP/IPSL/IPSL-CM6A-LR/historical/r24i1p1f1/LImon/snc/gr/latest/snc_LImon_IPSL-CM6A-LR_historical_r24i1p1f1_gr_185001-201412.nc\n",
      "--\n",
      "r25i1p1f1\n",
      "/bdd/CMIP6/CMIP/IPSL/IPSL-CM6A-LR/historical/r25i1p1f1/LImon/snc/gr/latest/snc_LImon_IPSL-CM6A-LR_historical_r25i1p1f1_gr_185001-201412.nc\n",
      "--\n",
      "r26i1p1f1\n",
      "/bdd/CMIP6/CMIP/IPSL/IPSL-CM6A-LR/historical/r26i1p1f1/LImon/snc/gr/latest/snc_LImon_IPSL-CM6A-LR_historical_r26i1p1f1_gr_185001-201412.nc\n",
      "--\n",
      "r27i1p1f1\n",
      "/bdd/CMIP6/CMIP/IPSL/IPSL-CM6A-LR/historical/r27i1p1f1/LImon/snc/gr/latest/snc_LImon_IPSL-CM6A-LR_historical_r27i1p1f1_gr_185001-201412.nc\n",
      "--\n",
      "r28i1p1f1\n",
      "/bdd/CMIP6/CMIP/IPSL/IPSL-CM6A-LR/historical/r28i1p1f1/LImon/snc/gr/latest/snc_LImon_IPSL-CM6A-LR_historical_r28i1p1f1_gr_185001-201412.nc\n",
      "--\n",
      "r29i1p1f1\n",
      "/bdd/CMIP6/CMIP/IPSL/IPSL-CM6A-LR/historical/r29i1p1f1/LImon/snc/gr/latest/snc_LImon_IPSL-CM6A-LR_historical_r29i1p1f1_gr_185001-201412.nc\n",
      "--\n",
      "r2i1p1f1\n",
      "/bdd/CMIP6/CMIP/IPSL/IPSL-CM6A-LR/historical/r2i1p1f1/LImon/snc/gr/latest/snc_LImon_IPSL-CM6A-LR_historical_r2i1p1f1_gr_185001-201412.nc\n",
      "--\n",
      "r30i1p1f1\n",
      "/bdd/CMIP6/CMIP/IPSL/IPSL-CM6A-LR/historical/r30i1p1f1/LImon/snc/gr/latest/snc_LImon_IPSL-CM6A-LR_historical_r30i1p1f1_gr_185001-201412.nc\n",
      "--\n",
      "r31i1p1f1\n",
      "/bdd/CMIP6/CMIP/IPSL/IPSL-CM6A-LR/historical/r31i1p1f1/LImon/snc/gr/latest/snc_LImon_IPSL-CM6A-LR_historical_r31i1p1f1_gr_185001-201412.nc\n",
      "--\n",
      "r32i1p1f1\n",
      "/bdd/CMIP6/CMIP/IPSL/IPSL-CM6A-LR/historical/r32i1p1f1/LImon/snc/gr/latest/snc_LImon_IPSL-CM6A-LR_historical_r32i1p1f1_gr_185001-201412.nc\n",
      "--\n",
      "r3i1p1f1\n",
      "/bdd/CMIP6/CMIP/IPSL/IPSL-CM6A-LR/historical/r3i1p1f1/LImon/snc/gr/latest/snc_LImon_IPSL-CM6A-LR_historical_r3i1p1f1_gr_185001-201412.nc\n",
      "--\n",
      "r4i1p1f1\n",
      "/bdd/CMIP6/CMIP/IPSL/IPSL-CM6A-LR/historical/r4i1p1f1/LImon/snc/gr/latest/snc_LImon_IPSL-CM6A-LR_historical_r4i1p1f1_gr_185001-201412.nc\n",
      "--\n",
      "r5i1p1f1\n",
      "/bdd/CMIP6/CMIP/IPSL/IPSL-CM6A-LR/historical/r5i1p1f1/LImon/snc/gr/latest/snc_LImon_IPSL-CM6A-LR_historical_r5i1p1f1_gr_185001-201412.nc\n",
      "--\n",
      "r6i1p1f1\n",
      "/bdd/CMIP6/CMIP/IPSL/IPSL-CM6A-LR/historical/r6i1p1f1/LImon/snc/gr/latest/snc_LImon_IPSL-CM6A-LR_historical_r6i1p1f1_gr_185001-201412.nc\n",
      "--\n",
      "r7i1p1f1\n",
      "/bdd/CMIP6/CMIP/IPSL/IPSL-CM6A-LR/historical/r7i1p1f1/LImon/snc/gr/latest/snc_LImon_IPSL-CM6A-LR_historical_r7i1p1f1_gr_185001-201412.nc\n",
      "--\n",
      "r8i1p1f1\n",
      "/bdd/CMIP6/CMIP/IPSL/IPSL-CM6A-LR/historical/r8i1p1f1/LImon/snc/gr/latest/snc_LImon_IPSL-CM6A-LR_historical_r8i1p1f1_gr_185001-201412.nc\n",
      "--\n",
      "r9i1p1f1\n",
      "/bdd/CMIP6/CMIP/IPSL/IPSL-CM6A-LR/historical/r9i1p1f1/LImon/snc/gr/latest/snc_LImon_IPSL-CM6A-LR_historical_r9i1p1f1_gr_185001-201412.nc\n",
      "--\n"
     ]
    }
   ],
   "source": [
    "summary(req.explore('ensemble'))"
   ]
  },
  {
   "cell_type": "code",
   "execution_count": null,
   "metadata": {},
   "outputs": [],
   "source": []
  }
 ],
 "metadata": {
  "kernelspec": {
   "display_name": "Python 2",
   "language": "python",
   "name": "python2"
  },
  "language_info": {
   "codemirror_mode": {
    "name": "ipython",
    "version": 2
   },
   "file_extension": ".py",
   "mimetype": "text/x-python",
   "name": "python",
   "nbconvert_exporter": "python",
   "pygments_lexer": "ipython2",
   "version": "2.7.15"
  }
 },
 "nbformat": 4,
 "nbformat_minor": 2
}
