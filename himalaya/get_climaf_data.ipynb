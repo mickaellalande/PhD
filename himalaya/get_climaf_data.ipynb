{
 "cells": [
  {
   "cell_type": "code",
   "execution_count": 1,
   "metadata": {},
   "outputs": [
    {
     "name": "stdout",
     "output_type": "stream",
     "text": [
      "('LC debug :', False)\n",
      "CliMAF install => /ciclad-home/jservon/Evaluation/CliMAF/climaf_installs/climaf_1.2.12\n",
      "python => /prodigfs/ipslfs/dods/jservon/miniconda/envs/analyse_env_2.7/bin/python\n",
      "---\n",
      "Required softwares to run CliMAF => you are using the following versions/installations:\n"
     ]
    },
    {
     "name": "stderr",
     "output_type": "stream",
     "text": [
      "CliMAF version = 1.2.12\n"
     ]
    },
    {
     "name": "stdout",
     "output_type": "stream",
     "text": [
      "ncl 6.6.2 => /prodigfs/ipslfs/dods/jservon/miniconda/envs/analyse_env_2.7/bin/ncl\n",
      "cdo 1.9.6 => /opt/nco/1.9/bin/cdo\n",
      "nco (ncks) 4.5.2 => /opt/nco-4.5.2/bin/ncks\n",
      "ncdump fichier => /prodigfs/ipslfs/dods/jservon/miniconda/envs/analyse_env_2.7/bin/ncdump\n",
      "---\n"
     ]
    },
    {
     "name": "stderr",
     "output_type": "stream",
     "text": [
      "Cache directory set to : /data/mlalande/climafcache (use $CLIMAF_CACHE if set) \n",
      "Cache directory for remote data set to : /data/mlalande/climafcache/remote_data (use $CLIMAF_REMOTE_CACHE if set) \n",
      "warning  : Binary cdftools not found. Some operators won't work\n",
      "Available macros read from ~/.climaf.macros are : []\n"
     ]
    }
   ],
   "source": [
    "from climaf.api import *"
   ]
  },
  {
   "cell_type": "markdown",
   "metadata": {},
   "source": [
    "## CMIP6 Data Request\n",
    "http://clipc-services.ceda.ac.uk/dreq/index/miptable.html"
   ]
  },
  {
   "cell_type": "code",
   "execution_count": 7,
   "metadata": {},
   "outputs": [],
   "source": [
    "variable='snc'\n",
    "\n",
    "if variable in ['snc']: table = 'LImon'\n",
    "if variable in ['pr', 'ua', 'va']: table = 'Amon'\n",
    "\n",
    "req = ds(\n",
    "    project='CMIP6', \n",
    "    model='IPSL-CM6A-LR', \n",
    "    table=table,\n",
    "    variable=variable,    \n",
    "    frequency='monthly',\n",
    "    realization='*',\n",
    "    period='1979-2008',\n",
    "#     experiment='historical',\n",
    "    experiment='amip',\n",
    "#     experiment='land-hist',\n",
    "#     domain=[25,90,-180,180]\n",
    ")"
   ]
  },
  {
   "cell_type": "code",
   "execution_count": 27,
   "metadata": {},
   "outputs": [
    {
     "data": {
      "text/plain": [
       "['r8i1p1f1',\n",
       " 'r2i1p1f1',\n",
       " 'r14i1p1f1',\n",
       " 'r20i1p1f1',\n",
       " 'r16i1p1f1',\n",
       " 'r18i1p1f1',\n",
       " 'r13i1p1f1',\n",
       " 'r17i1p1f1',\n",
       " 'r5i1p1f1',\n",
       " 'r10i1p1f1',\n",
       " 'r11i1p1f1',\n",
       " 'r3i1p1f1',\n",
       " 'r7i1p1f1',\n",
       " 'r9i1p1f1',\n",
       " 'r12i1p1f1',\n",
       " 'r6i1p1f1',\n",
       " 'r19i1p1f1',\n",
       " 'r21i1p1f1',\n",
       " 'r4i1p1f1',\n",
       " 'r15i1p1f1',\n",
       " 'r1i1p1f1']"
      ]
     },
     "execution_count": 27,
     "metadata": {},
     "output_type": "execute_result"
    }
   ],
   "source": [
    "import os\n",
    "\n",
    "a = [name for name in os.listdir(\"/bdd/CMIP6/CMIP/IPSL/IPSL-CM6A-LR/amip/\")]\n",
    "a"
   ]
  },
  {
   "cell_type": "code",
   "execution_count": 35,
   "metadata": {},
   "outputs": [
    {
     "data": {
      "text/plain": [
       "21"
      ]
     },
     "execution_count": 35,
     "metadata": {},
     "output_type": "execute_result"
    }
   ],
   "source": [
    "len(a)"
   ]
  },
  {
   "cell_type": "code",
   "execution_count": 31,
   "metadata": {},
   "outputs": [
    {
     "data": {
      "text/plain": [
       "['r10i1p1f1',\n",
       " 'r11i1p1f1',\n",
       " 'r12i1p1f1',\n",
       " 'r13i1p1f1',\n",
       " 'r14i1p1f1',\n",
       " 'r15i1p1f1',\n",
       " 'r16i1p1f1',\n",
       " 'r17i1p1f1',\n",
       " 'r18i1p1f1',\n",
       " 'r19i1p1f1',\n",
       " 'r1i1p1f1',\n",
       " 'r20i1p1f1',\n",
       " 'r21i1p1f1',\n",
       " 'r2i1p1f1',\n",
       " 'r3i1p1f1',\n",
       " 'r4i1p1f1',\n",
       " 'r5i1p1f1',\n",
       " 'r6i1p1f1',\n",
       " 'r7i1p1f1',\n",
       " 'r8i1p1f1',\n",
       " 'r9i1p1f1']"
      ]
     },
     "execution_count": 31,
     "metadata": {},
     "output_type": "execute_result"
    }
   ],
   "source": [
    "a.sort()\n",
    "a"
   ]
  },
  {
   "cell_type": "code",
   "execution_count": 8,
   "metadata": {},
   "outputs": [
    {
     "data": {
      "text/plain": [
       "{'grid': 'gr',\n",
       " 'institute': 'IPSL',\n",
       " 'mip': 'CMIP',\n",
       " 'realization': ['r10i1p1f1',\n",
       "  'r11i1p1f1',\n",
       "  'r12i1p1f1',\n",
       "  'r13i1p1f1',\n",
       "  'r14i1p1f1',\n",
       "  'r15i1p1f1',\n",
       "  'r16i1p1f1',\n",
       "  'r17i1p1f1',\n",
       "  'r18i1p1f1',\n",
       "  'r19i1p1f1',\n",
       "  'r1i1p1f1',\n",
       "  'r20i1p1f1',\n",
       "  'r21i1p1f1',\n",
       "  'r2i1p1f1',\n",
       "  'r3i1p1f1',\n",
       "  'r4i1p1f1',\n",
       "  'r5i1p1f1',\n",
       "  'r6i1p1f1',\n",
       "  'r7i1p1f1',\n",
       "  'r8i1p1f1',\n",
       "  'r9i1p1f1']}"
      ]
     },
     "execution_count": 8,
     "metadata": {},
     "output_type": "execute_result"
    }
   ],
   "source": [
    "req.explore('choices')"
   ]
  },
  {
   "cell_type": "code",
   "execution_count": 9,
   "metadata": {},
   "outputs": [
    {
     "name": "stdout",
     "output_type": "stream",
     "text": [
      "Keys - values:\n",
      "{'domain': 'global', 'version': 'latest', 'institute': 'IPSL', 'realization': 'r10i1p1f1', 'period': 1979-2008, 'simulation': '', 'project': 'CMIP6', 'experiment': 'amip', 'grid': 'gr', 'table': 'LImon', 'variable': 'snc', 'mip': 'CMIP', 'model': 'IPSL-CM6A-LR', 'root': '/bdd'}\n",
      "-- Ensemble members:\n",
      "r10i1p1f1\n",
      "/bdd/CMIP6/CMIP/IPSL/IPSL-CM6A-LR/amip/r10i1p1f1/LImon/snc/gr/latest/snc_LImon_IPSL-CM6A-LR_amip_r10i1p1f1_gr_195801-201412.nc\n",
      "--\n",
      "r11i1p1f1\n",
      "/bdd/CMIP6/CMIP/IPSL/IPSL-CM6A-LR/amip/r11i1p1f1/LImon/snc/gr/latest/snc_LImon_IPSL-CM6A-LR_amip_r11i1p1f1_gr_195801-201412.nc\n",
      "--\n",
      "r12i1p1f1\n",
      "/bdd/CMIP6/CMIP/IPSL/IPSL-CM6A-LR/amip/r12i1p1f1/LImon/snc/gr/latest/snc_LImon_IPSL-CM6A-LR_amip_r12i1p1f1_gr_195801-201412.nc\n",
      "--\n",
      "r13i1p1f1\n",
      "/bdd/CMIP6/CMIP/IPSL/IPSL-CM6A-LR/amip/r13i1p1f1/LImon/snc/gr/latest/snc_LImon_IPSL-CM6A-LR_amip_r13i1p1f1_gr_195801-201412.nc\n",
      "--\n",
      "r14i1p1f1\n",
      "/bdd/CMIP6/CMIP/IPSL/IPSL-CM6A-LR/amip/r14i1p1f1/LImon/snc/gr/latest/snc_LImon_IPSL-CM6A-LR_amip_r14i1p1f1_gr_195801-201412.nc\n",
      "--\n",
      "r15i1p1f1\n",
      "/bdd/CMIP6/CMIP/IPSL/IPSL-CM6A-LR/amip/r15i1p1f1/LImon/snc/gr/latest/snc_LImon_IPSL-CM6A-LR_amip_r15i1p1f1_gr_195801-201412.nc\n",
      "--\n",
      "r16i1p1f1\n",
      "/bdd/CMIP6/CMIP/IPSL/IPSL-CM6A-LR/amip/r16i1p1f1/LImon/snc/gr/latest/snc_LImon_IPSL-CM6A-LR_amip_r16i1p1f1_gr_195801-201412.nc\n",
      "--\n",
      "r17i1p1f1\n",
      "/bdd/CMIP6/CMIP/IPSL/IPSL-CM6A-LR/amip/r17i1p1f1/LImon/snc/gr/latest/snc_LImon_IPSL-CM6A-LR_amip_r17i1p1f1_gr_195801-201412.nc\n",
      "--\n",
      "r18i1p1f1\n",
      "/bdd/CMIP6/CMIP/IPSL/IPSL-CM6A-LR/amip/r18i1p1f1/LImon/snc/gr/latest/snc_LImon_IPSL-CM6A-LR_amip_r18i1p1f1_gr_195801-201412.nc\n",
      "--\n",
      "r19i1p1f1\n",
      "/bdd/CMIP6/CMIP/IPSL/IPSL-CM6A-LR/amip/r19i1p1f1/LImon/snc/gr/latest/snc_LImon_IPSL-CM6A-LR_amip_r19i1p1f1_gr_195801-201412.nc\n",
      "--\n",
      "r1i1p1f1\n",
      "/bdd/CMIP6/CMIP/IPSL/IPSL-CM6A-LR/amip/r1i1p1f1/LImon/snc/gr/latest/snc_LImon_IPSL-CM6A-LR_amip_r1i1p1f1_gr_197901-201412.nc\n",
      "--\n",
      "r20i1p1f1\n",
      "/bdd/CMIP6/CMIP/IPSL/IPSL-CM6A-LR/amip/r20i1p1f1/LImon/snc/gr/latest/snc_LImon_IPSL-CM6A-LR_amip_r20i1p1f1_gr_195801-201412.nc\n",
      "--\n",
      "r21i1p1f1\n",
      "/bdd/CMIP6/CMIP/IPSL/IPSL-CM6A-LR/amip/r21i1p1f1/LImon/snc/gr/latest/snc_LImon_IPSL-CM6A-LR_amip_r21i1p1f1_gr_195801-201412.nc\n",
      "--\n",
      "r2i1p1f1\n",
      "/bdd/CMIP6/CMIP/IPSL/IPSL-CM6A-LR/amip/r2i1p1f1/LImon/snc/gr/latest/snc_LImon_IPSL-CM6A-LR_amip_r2i1p1f1_gr_195801-201412.nc\n",
      "--\n",
      "r3i1p1f1\n",
      "/bdd/CMIP6/CMIP/IPSL/IPSL-CM6A-LR/amip/r3i1p1f1/LImon/snc/gr/latest/snc_LImon_IPSL-CM6A-LR_amip_r3i1p1f1_gr_195801-201412.nc\n",
      "--\n",
      "r4i1p1f1\n",
      "/bdd/CMIP6/CMIP/IPSL/IPSL-CM6A-LR/amip/r4i1p1f1/LImon/snc/gr/latest/snc_LImon_IPSL-CM6A-LR_amip_r4i1p1f1_gr_195801-201412.nc\n",
      "--\n",
      "r5i1p1f1\n",
      "/bdd/CMIP6/CMIP/IPSL/IPSL-CM6A-LR/amip/r5i1p1f1/LImon/snc/gr/latest/snc_LImon_IPSL-CM6A-LR_amip_r5i1p1f1_gr_195801-201412.nc\n",
      "--\n",
      "r6i1p1f1\n",
      "/bdd/CMIP6/CMIP/IPSL/IPSL-CM6A-LR/amip/r6i1p1f1/LImon/snc/gr/latest/snc_LImon_IPSL-CM6A-LR_amip_r6i1p1f1_gr_195801-201412.nc\n",
      "--\n",
      "r7i1p1f1\n",
      "/bdd/CMIP6/CMIP/IPSL/IPSL-CM6A-LR/amip/r7i1p1f1/LImon/snc/gr/latest/snc_LImon_IPSL-CM6A-LR_amip_r7i1p1f1_gr_195801-201412.nc\n",
      "--\n",
      "r8i1p1f1\n",
      "/bdd/CMIP6/CMIP/IPSL/IPSL-CM6A-LR/amip/r8i1p1f1/LImon/snc/gr/latest/snc_LImon_IPSL-CM6A-LR_amip_r8i1p1f1_gr_195801-201412.nc\n",
      "--\n",
      "r9i1p1f1\n",
      "/bdd/CMIP6/CMIP/IPSL/IPSL-CM6A-LR/amip/r9i1p1f1/LImon/snc/gr/latest/snc_LImon_IPSL-CM6A-LR_amip_r9i1p1f1_gr_195801-201412.nc\n",
      "--\n"
     ]
    }
   ],
   "source": [
    "summary(req.explore('ensemble'))"
   ]
  }
 ],
 "metadata": {
  "kernelspec": {
   "display_name": "Python 2",
   "language": "python",
   "name": "python2"
  },
  "language_info": {
   "codemirror_mode": {
    "name": "ipython",
    "version": 2
   },
   "file_extension": ".py",
   "mimetype": "text/x-python",
   "name": "python",
   "nbconvert_exporter": "python",
   "pygments_lexer": "ipython2",
   "version": "2.7.15"
  }
 },
 "nbformat": 4,
 "nbformat_minor": 2
}
